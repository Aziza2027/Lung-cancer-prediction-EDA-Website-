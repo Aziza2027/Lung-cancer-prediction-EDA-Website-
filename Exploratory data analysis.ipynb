{
 "cells": [
  {
   "cell_type": "markdown",
   "source": "# Lung cancer prediction",
   "metadata": {
    "cell_id": "4012bfdba87b4d6990ca17035d6d7089",
    "tags": [],
    "deepnote_cell_type": "markdown",
    "deepnote_cell_height": 82
   }
  },
  {
   "cell_type": "markdown",
   "source": "# \nLung cancer is the **leading cause** of cancer death worldwide. An estimated **236,740** people will be diagnosed with lung cancer in 2022 in the U.S. 1 IN 16 people will be diagnosed with lung cancer in their lifetime – **1 in 15** men, and **1 in 17** women. Approximately 130,180 American lives are lost annually.",
   "metadata": {
    "cell_id": "f92faee4e37c475ab4a70ae030e3e286",
    "tags": [],
    "deepnote_cell_type": "markdown",
    "deepnote_cell_height": 113.1875
   }
  },
  {
   "cell_type": "markdown",
   "source": "",
   "metadata": {
    "cell_id": "9c9cb9f3bc05436bb35dec6f2692d87e",
    "tags": [],
    "deepnote_cell_type": "markdown",
    "deepnote_cell_height": 46
   }
  },
  {
   "cell_type": "markdown",
   "source": "![Picture title](data/image-20220515-230711.png)",
   "metadata": {
    "cell_id": "ecddfde32875454f8bdb1358d6d31598",
    "tags": [],
    "deepnote_cell_type": "markdown",
    "deepnote_cell_height": 525.390625
   }
  },
  {
   "cell_type": "markdown",
   "source": "The effectiveness of cancer prediction system helps the people to know their cancer risk with low cost and it also helps the people to take the appropriate decision based on their cancer risk status. The data is collected from the website online lung cancer prediction system .",
   "metadata": {
    "cell_id": "2c1d16257cbf4aa299090233095aa683",
    "tags": [],
    "deepnote_cell_type": "markdown",
    "deepnote_cell_height": 97.1875
   }
  },
  {
   "cell_type": "markdown",
   "source": "## Importing libraries",
   "metadata": {
    "cell_id": "003b301baab34e7b940cfa7b1448069b",
    "tags": [],
    "deepnote_cell_type": "markdown",
    "deepnote_cell_height": 70
   }
  },
  {
   "cell_type": "code",
   "metadata": {
    "cell_id": "e45ebb87634240fe994d0485b7a7ee0d",
    "tags": [],
    "deepnote_to_be_reexecuted": false,
    "source_hash": "f0df52ac",
    "execution_start": 1653093415249,
    "execution_millis": 25798,
    "deepnote_cell_type": "code",
    "deepnote_cell_height": 723.359375
   },
   "source": "%pip install --upgrade pip\n%pip install xgboost\n%pip install imblearn",
   "execution_count": 3,
   "outputs": [
    {
     "name": "stdout",
     "text": "Collecting pip\n  Downloading pip-22.1-py3-none-any.whl (2.1 MB)\n\u001b[K     |████████████████████████████████| 2.1 MB 14.8 MB/s \n\u001b[?25hInstalling collected packages: pip\n  Attempting uninstall: pip\n    Found existing installation: pip 20.1.1\n    Uninstalling pip-20.1.1:\n      Successfully uninstalled pip-20.1.1\nSuccessfully installed pip-22.1\nNote: you may need to restart the kernel to use updated packages.\nRequirement already satisfied: xgboost in /usr/local/lib/python3.7/site-packages (1.6.1)\nRequirement already satisfied: numpy in /shared-libs/python3.7/py/lib/python3.7/site-packages (from xgboost) (1.21.6)\nRequirement already satisfied: scipy in /shared-libs/python3.7/py/lib/python3.7/site-packages (from xgboost) (1.7.3)\n\u001b[33mWARNING: Running pip as the 'root' user can result in broken permissions and conflicting behaviour with the system package manager. It is recommended to use a virtual environment instead: https://pip.pypa.io/warnings/venv\u001b[0m\u001b[33m\n\u001b[0mNote: you may need to restart the kernel to use updated packages.\nCollecting imblearn\n  Using cached imblearn-0.0-py2.py3-none-any.whl (1.9 kB)\nCollecting imbalanced-learn\n  Using cached imbalanced_learn-0.9.1-py3-none-any.whl (199 kB)\nRequirement already satisfied: numpy>=1.17.3 in /shared-libs/python3.7/py/lib/python3.7/site-packages (from imbalanced-learn->imblearn) (1.21.6)\nRequirement already satisfied: joblib>=1.0.0 in /shared-libs/python3.7/py/lib/python3.7/site-packages (from imbalanced-learn->imblearn) (1.1.0)\n  Downloading imbalanced_learn-0.9.0-py3-none-any.whl (199 kB)\n\u001b[2K     \u001b[90m━━━━━━━━━━━━━━━━━━━━━━━━━━━━━━━━━━━━━━\u001b[0m \u001b[32m199.1/199.1 kB\u001b[0m \u001b[31m13.2 MB/s\u001b[0m eta \u001b[36m0:00:00\u001b[0m\n\u001b[?25hRequirement already satisfied: scipy>=1.1.0 in /shared-libs/python3.7/py/lib/python3.7/site-packages (from imbalanced-learn->imblearn) (1.7.3)\nRequirement already satisfied: scikit-learn>=1.0.1 in /shared-libs/python3.7/py/lib/python3.7/site-packages (from imbalanced-learn->imblearn) (1.0.2)\nRequirement already satisfied: threadpoolctl>=2.0.0 in /shared-libs/python3.7/py/lib/python3.7/site-packages (from imbalanced-learn->imblearn) (3.1.0)\nInstalling collected packages: imbalanced-learn, imblearn\nSuccessfully installed imbalanced-learn-0.9.0 imblearn-0.0\n\u001b[33mWARNING: Running pip as the 'root' user can result in broken permissions and conflicting behaviour with the system package manager. It is recommended to use a virtual environment instead: https://pip.pypa.io/warnings/venv\u001b[0m\u001b[33m\n\u001b[0mNote: you may need to restart the kernel to use updated packages.\n",
     "output_type": "stream"
    }
   ]
  },
  {
   "cell_type": "code",
   "metadata": {
    "cell_id": "5b3366601a2d4ebcaee1b9dbd5909ef0",
    "tags": [],
    "deepnote_to_be_reexecuted": false,
    "source_hash": "a771b43b",
    "execution_start": 1653098293285,
    "execution_millis": 19,
    "deepnote_cell_type": "code",
    "deepnote_cell_height": 567
   },
   "source": "import numpy as np\nimport pandas as pd\n\nimport joblib\n\nimport plotly.graph_objects as go \nimport plotly.express as px\n\nimport matplotlib.pyplot as plt\nplt.style.use( 'seaborn-whitegrid')\n\nimport seaborn as sns\n\nfrom imblearn.over_sampling import RandomOverSampler\n\nfrom sklearn.preprocessing import OneHotEncoder, LabelEncoder, StandardScaler, MinMaxScaler, OrdinalEncoder\nfrom sklearn.model_selection import train_test_split\nfrom imblearn.over_sampling import SMOTE\nfrom sklearn.metrics import classification_report,confusion_matrix, accuracy_score\nfrom sklearn.pipeline import make_pipeline\nfrom sklearn.compose import make_column_transformer\nfrom sklearn.model_selection import cross_val_score\n\nfrom xgboost import XGBClassifier\nfrom sklearn.model_selection import train_test_split\n\nimport warnings \nwarnings.filterwarnings('ignore')",
   "execution_count": 138,
   "outputs": []
  },
  {
   "cell_type": "code",
   "metadata": {
    "cell_id": "449b05b20fa84e948c165ef9ec1e9413",
    "tags": [],
    "deepnote_to_be_reexecuted": false,
    "source_hash": "b623e53d",
    "execution_start": 1653093449123,
    "execution_millis": 5,
    "deepnote_cell_type": "code",
    "deepnote_cell_height": 81
   },
   "source": "",
   "execution_count": 4,
   "outputs": []
  },
  {
   "cell_type": "markdown",
   "source": "## Load the data",
   "metadata": {
    "cell_id": "adba8e4a303547c887b49750dd0e6018",
    "tags": [],
    "deepnote_cell_type": "markdown",
    "deepnote_cell_height": 70
   }
  },
  {
   "cell_type": "code",
   "metadata": {
    "cell_id": "4fe2398b9b2f42c8a704cadb2ef342d2",
    "tags": [],
    "deepnote_to_be_reexecuted": false,
    "source_hash": "e87b872d",
    "execution_start": 1653093451422,
    "execution_millis": 33,
    "deepnote_cell_type": "code",
    "deepnote_cell_height": 81
   },
   "source": "data = pd.read_csv('data/lung_cancer.csv')",
   "execution_count": 5,
   "outputs": []
  },
  {
   "cell_type": "code",
   "metadata": {
    "cell_id": "5e190cbbe80c4a0f8a14ec63713c3c3b",
    "tags": [],
    "deepnote_to_be_reexecuted": false,
    "source_hash": "41313cfa",
    "execution_start": 1653093451463,
    "execution_millis": 189,
    "deepnote_cell_type": "code",
    "deepnote_cell_height": 395
   },
   "source": "data.head()",
   "execution_count": 6,
   "outputs": [
    {
     "output_type": "execute_result",
     "execution_count": 6,
     "data": {
      "application/vnd.deepnote.dataframe.v3+json": {
       "column_count": 16,
       "row_count": 5,
       "columns": [
        {
         "name": "GENDER",
         "dtype": "object",
         "stats": {
          "unique_count": 2,
          "nan_count": 0,
          "categories": [
           {
            "name": "M",
            "count": 3
           },
           {
            "name": "F",
            "count": 2
           }
          ]
         }
        },
        {
         "name": "AGE",
         "dtype": "int64",
         "stats": {
          "unique_count": 4,
          "nan_count": 0,
          "min": "59",
          "max": "74",
          "histogram": [
           {
            "bin_start": 59,
            "bin_end": 60.5,
            "count": 1
           },
           {
            "bin_start": 60.5,
            "bin_end": 62,
            "count": 0
           },
           {
            "bin_start": 62,
            "bin_end": 63.5,
            "count": 2
           },
           {
            "bin_start": 63.5,
            "bin_end": 65,
            "count": 0
           },
           {
            "bin_start": 65,
            "bin_end": 66.5,
            "count": 0
           },
           {
            "bin_start": 66.5,
            "bin_end": 68,
            "count": 0
           },
           {
            "bin_start": 68,
            "bin_end": 69.5,
            "count": 1
           },
           {
            "bin_start": 69.5,
            "bin_end": 71,
            "count": 0
           },
           {
            "bin_start": 71,
            "bin_end": 72.5,
            "count": 0
           },
           {
            "bin_start": 72.5,
            "bin_end": 74,
            "count": 1
           }
          ]
         }
        },
        {
         "name": "SMOKING",
         "dtype": "int64",
         "stats": {
          "unique_count": 2,
          "nan_count": 0,
          "min": "1",
          "max": "2",
          "histogram": [
           {
            "bin_start": 1,
            "bin_end": 1.1,
            "count": 3
           },
           {
            "bin_start": 1.1,
            "bin_end": 1.2,
            "count": 0
           },
           {
            "bin_start": 1.2,
            "bin_end": 1.3,
            "count": 0
           },
           {
            "bin_start": 1.3,
            "bin_end": 1.4,
            "count": 0
           },
           {
            "bin_start": 1.4,
            "bin_end": 1.5,
            "count": 0
           },
           {
            "bin_start": 1.5,
            "bin_end": 1.6,
            "count": 0
           },
           {
            "bin_start": 1.6,
            "bin_end": 1.7000000000000002,
            "count": 0
           },
           {
            "bin_start": 1.7000000000000002,
            "bin_end": 1.8,
            "count": 0
           },
           {
            "bin_start": 1.8,
            "bin_end": 1.9,
            "count": 0
           },
           {
            "bin_start": 1.9,
            "bin_end": 2,
            "count": 2
           }
          ]
         }
        },
        {
         "name": "YELLOW_FINGERS",
         "dtype": "int64",
         "stats": {
          "unique_count": 2,
          "nan_count": 0,
          "min": "1",
          "max": "2",
          "histogram": [
           {
            "bin_start": 1,
            "bin_end": 1.1,
            "count": 2
           },
           {
            "bin_start": 1.1,
            "bin_end": 1.2,
            "count": 0
           },
           {
            "bin_start": 1.2,
            "bin_end": 1.3,
            "count": 0
           },
           {
            "bin_start": 1.3,
            "bin_end": 1.4,
            "count": 0
           },
           {
            "bin_start": 1.4,
            "bin_end": 1.5,
            "count": 0
           },
           {
            "bin_start": 1.5,
            "bin_end": 1.6,
            "count": 0
           },
           {
            "bin_start": 1.6,
            "bin_end": 1.7000000000000002,
            "count": 0
           },
           {
            "bin_start": 1.7000000000000002,
            "bin_end": 1.8,
            "count": 0
           },
           {
            "bin_start": 1.8,
            "bin_end": 1.9,
            "count": 0
           },
           {
            "bin_start": 1.9,
            "bin_end": 2,
            "count": 3
           }
          ]
         }
        },
        {
         "name": "ANXIETY",
         "dtype": "int64",
         "stats": {
          "unique_count": 2,
          "nan_count": 0,
          "min": "1",
          "max": "2",
          "histogram": [
           {
            "bin_start": 1,
            "bin_end": 1.1,
            "count": 3
           },
           {
            "bin_start": 1.1,
            "bin_end": 1.2,
            "count": 0
           },
           {
            "bin_start": 1.2,
            "bin_end": 1.3,
            "count": 0
           },
           {
            "bin_start": 1.3,
            "bin_end": 1.4,
            "count": 0
           },
           {
            "bin_start": 1.4,
            "bin_end": 1.5,
            "count": 0
           },
           {
            "bin_start": 1.5,
            "bin_end": 1.6,
            "count": 0
           },
           {
            "bin_start": 1.6,
            "bin_end": 1.7000000000000002,
            "count": 0
           },
           {
            "bin_start": 1.7000000000000002,
            "bin_end": 1.8,
            "count": 0
           },
           {
            "bin_start": 1.8,
            "bin_end": 1.9,
            "count": 0
           },
           {
            "bin_start": 1.9,
            "bin_end": 2,
            "count": 2
           }
          ]
         }
        },
        {
         "name": "PEER_PRESSURE",
         "dtype": "int64",
         "stats": {
          "unique_count": 2,
          "nan_count": 0,
          "min": "1",
          "max": "2",
          "histogram": [
           {
            "bin_start": 1,
            "bin_end": 1.1,
            "count": 4
           },
           {
            "bin_start": 1.1,
            "bin_end": 1.2,
            "count": 0
           },
           {
            "bin_start": 1.2,
            "bin_end": 1.3,
            "count": 0
           },
           {
            "bin_start": 1.3,
            "bin_end": 1.4,
            "count": 0
           },
           {
            "bin_start": 1.4,
            "bin_end": 1.5,
            "count": 0
           },
           {
            "bin_start": 1.5,
            "bin_end": 1.6,
            "count": 0
           },
           {
            "bin_start": 1.6,
            "bin_end": 1.7000000000000002,
            "count": 0
           },
           {
            "bin_start": 1.7000000000000002,
            "bin_end": 1.8,
            "count": 0
           },
           {
            "bin_start": 1.8,
            "bin_end": 1.9,
            "count": 0
           },
           {
            "bin_start": 1.9,
            "bin_end": 2,
            "count": 1
           }
          ]
         }
        },
        {
         "name": "CHRONIC DISEASE",
         "dtype": "int64",
         "stats": {
          "unique_count": 2,
          "nan_count": 0,
          "min": "1",
          "max": "2",
          "histogram": [
           {
            "bin_start": 1,
            "bin_end": 1.1,
            "count": 4
           },
           {
            "bin_start": 1.1,
            "bin_end": 1.2,
            "count": 0
           },
           {
            "bin_start": 1.2,
            "bin_end": 1.3,
            "count": 0
           },
           {
            "bin_start": 1.3,
            "bin_end": 1.4,
            "count": 0
           },
           {
            "bin_start": 1.4,
            "bin_end": 1.5,
            "count": 0
           },
           {
            "bin_start": 1.5,
            "bin_end": 1.6,
            "count": 0
           },
           {
            "bin_start": 1.6,
            "bin_end": 1.7000000000000002,
            "count": 0
           },
           {
            "bin_start": 1.7000000000000002,
            "bin_end": 1.8,
            "count": 0
           },
           {
            "bin_start": 1.8,
            "bin_end": 1.9,
            "count": 0
           },
           {
            "bin_start": 1.9,
            "bin_end": 2,
            "count": 1
           }
          ]
         }
        },
        {
         "name": "FATIGUE ",
         "dtype": "int64",
         "stats": {
          "unique_count": 2,
          "nan_count": 0,
          "min": "1",
          "max": "2",
          "histogram": [
           {
            "bin_start": 1,
            "bin_end": 1.1,
            "count": 2
           },
           {
            "bin_start": 1.1,
            "bin_end": 1.2,
            "count": 0
           },
           {
            "bin_start": 1.2,
            "bin_end": 1.3,
            "count": 0
           },
           {
            "bin_start": 1.3,
            "bin_end": 1.4,
            "count": 0
           },
           {
            "bin_start": 1.4,
            "bin_end": 1.5,
            "count": 0
           },
           {
            "bin_start": 1.5,
            "bin_end": 1.6,
            "count": 0
           },
           {
            "bin_start": 1.6,
            "bin_end": 1.7000000000000002,
            "count": 0
           },
           {
            "bin_start": 1.7000000000000002,
            "bin_end": 1.8,
            "count": 0
           },
           {
            "bin_start": 1.8,
            "bin_end": 1.9,
            "count": 0
           },
           {
            "bin_start": 1.9,
            "bin_end": 2,
            "count": 3
           }
          ]
         }
        },
        {
         "name": "ALLERGY ",
         "dtype": "int64",
         "stats": {
          "unique_count": 2,
          "nan_count": 0,
          "min": "1",
          "max": "2",
          "histogram": [
           {
            "bin_start": 1,
            "bin_end": 1.1,
            "count": 4
           },
           {
            "bin_start": 1.1,
            "bin_end": 1.2,
            "count": 0
           },
           {
            "bin_start": 1.2,
            "bin_end": 1.3,
            "count": 0
           },
           {
            "bin_start": 1.3,
            "bin_end": 1.4,
            "count": 0
           },
           {
            "bin_start": 1.4,
            "bin_end": 1.5,
            "count": 0
           },
           {
            "bin_start": 1.5,
            "bin_end": 1.6,
            "count": 0
           },
           {
            "bin_start": 1.6,
            "bin_end": 1.7000000000000002,
            "count": 0
           },
           {
            "bin_start": 1.7000000000000002,
            "bin_end": 1.8,
            "count": 0
           },
           {
            "bin_start": 1.8,
            "bin_end": 1.9,
            "count": 0
           },
           {
            "bin_start": 1.9,
            "bin_end": 2,
            "count": 1
           }
          ]
         }
        },
        {
         "name": "WHEEZING",
         "dtype": "int64",
         "stats": {
          "unique_count": 2,
          "nan_count": 0,
          "min": "1",
          "max": "2",
          "histogram": [
           {
            "bin_start": 1,
            "bin_end": 1.1,
            "count": 2
           },
           {
            "bin_start": 1.1,
            "bin_end": 1.2,
            "count": 0
           },
           {
            "bin_start": 1.2,
            "bin_end": 1.3,
            "count": 0
           },
           {
            "bin_start": 1.3,
            "bin_end": 1.4,
            "count": 0
           },
           {
            "bin_start": 1.4,
            "bin_end": 1.5,
            "count": 0
           },
           {
            "bin_start": 1.5,
            "bin_end": 1.6,
            "count": 0
           },
           {
            "bin_start": 1.6,
            "bin_end": 1.7000000000000002,
            "count": 0
           },
           {
            "bin_start": 1.7000000000000002,
            "bin_end": 1.8,
            "count": 0
           },
           {
            "bin_start": 1.8,
            "bin_end": 1.9,
            "count": 0
           },
           {
            "bin_start": 1.9,
            "bin_end": 2,
            "count": 3
           }
          ]
         }
        },
        {
         "name": "ALCOHOL CONSUMING",
         "dtype": "int64",
         "stats": {
          "unique_count": 2,
          "nan_count": 0,
          "min": "1",
          "max": "2",
          "histogram": [
           {
            "bin_start": 1,
            "bin_end": 1.1,
            "count": 3
           },
           {
            "bin_start": 1.1,
            "bin_end": 1.2,
            "count": 0
           },
           {
            "bin_start": 1.2,
            "bin_end": 1.3,
            "count": 0
           },
           {
            "bin_start": 1.3,
            "bin_end": 1.4,
            "count": 0
           },
           {
            "bin_start": 1.4,
            "bin_end": 1.5,
            "count": 0
           },
           {
            "bin_start": 1.5,
            "bin_end": 1.6,
            "count": 0
           },
           {
            "bin_start": 1.6,
            "bin_end": 1.7000000000000002,
            "count": 0
           },
           {
            "bin_start": 1.7000000000000002,
            "bin_end": 1.8,
            "count": 0
           },
           {
            "bin_start": 1.8,
            "bin_end": 1.9,
            "count": 0
           },
           {
            "bin_start": 1.9,
            "bin_end": 2,
            "count": 2
           }
          ]
         }
        },
        {
         "name": "COUGHING",
         "dtype": "int64",
         "stats": {
          "unique_count": 2,
          "nan_count": 0,
          "min": "1",
          "max": "2",
          "histogram": [
           {
            "bin_start": 1,
            "bin_end": 1.1,
            "count": 2
           },
           {
            "bin_start": 1.1,
            "bin_end": 1.2,
            "count": 0
           },
           {
            "bin_start": 1.2,
            "bin_end": 1.3,
            "count": 0
           },
           {
            "bin_start": 1.3,
            "bin_end": 1.4,
            "count": 0
           },
           {
            "bin_start": 1.4,
            "bin_end": 1.5,
            "count": 0
           },
           {
            "bin_start": 1.5,
            "bin_end": 1.6,
            "count": 0
           },
           {
            "bin_start": 1.6,
            "bin_end": 1.7000000000000002,
            "count": 0
           },
           {
            "bin_start": 1.7000000000000002,
            "bin_end": 1.8,
            "count": 0
           },
           {
            "bin_start": 1.8,
            "bin_end": 1.9,
            "count": 0
           },
           {
            "bin_start": 1.9,
            "bin_end": 2,
            "count": 3
           }
          ]
         }
        },
        {
         "name": "SHORTNESS OF BREATH",
         "dtype": "int64",
         "stats": {
          "unique_count": 2,
          "nan_count": 0,
          "min": "1",
          "max": "2",
          "histogram": [
           {
            "bin_start": 1,
            "bin_end": 1.1,
            "count": 1
           },
           {
            "bin_start": 1.1,
            "bin_end": 1.2,
            "count": 0
           },
           {
            "bin_start": 1.2,
            "bin_end": 1.3,
            "count": 0
           },
           {
            "bin_start": 1.3,
            "bin_end": 1.4,
            "count": 0
           },
           {
            "bin_start": 1.4,
            "bin_end": 1.5,
            "count": 0
           },
           {
            "bin_start": 1.5,
            "bin_end": 1.6,
            "count": 0
           },
           {
            "bin_start": 1.6,
            "bin_end": 1.7000000000000002,
            "count": 0
           },
           {
            "bin_start": 1.7000000000000002,
            "bin_end": 1.8,
            "count": 0
           },
           {
            "bin_start": 1.8,
            "bin_end": 1.9,
            "count": 0
           },
           {
            "bin_start": 1.9,
            "bin_end": 2,
            "count": 4
           }
          ]
         }
        },
        {
         "name": "SWALLOWING DIFFICULTY",
         "dtype": "int64",
         "stats": {
          "unique_count": 2,
          "nan_count": 0,
          "min": "1",
          "max": "2",
          "histogram": [
           {
            "bin_start": 1,
            "bin_end": 1.1,
            "count": 2
           },
           {
            "bin_start": 1.1,
            "bin_end": 1.2,
            "count": 0
           },
           {
            "bin_start": 1.2,
            "bin_end": 1.3,
            "count": 0
           },
           {
            "bin_start": 1.3,
            "bin_end": 1.4,
            "count": 0
           },
           {
            "bin_start": 1.4,
            "bin_end": 1.5,
            "count": 0
           },
           {
            "bin_start": 1.5,
            "bin_end": 1.6,
            "count": 0
           },
           {
            "bin_start": 1.6,
            "bin_end": 1.7000000000000002,
            "count": 0
           },
           {
            "bin_start": 1.7000000000000002,
            "bin_end": 1.8,
            "count": 0
           },
           {
            "bin_start": 1.8,
            "bin_end": 1.9,
            "count": 0
           },
           {
            "bin_start": 1.9,
            "bin_end": 2,
            "count": 3
           }
          ]
         }
        },
        {
         "name": "CHEST PAIN",
         "dtype": "int64",
         "stats": {
          "unique_count": 2,
          "nan_count": 0,
          "min": "1",
          "max": "2",
          "histogram": [
           {
            "bin_start": 1,
            "bin_end": 1.1,
            "count": 1
           },
           {
            "bin_start": 1.1,
            "bin_end": 1.2,
            "count": 0
           },
           {
            "bin_start": 1.2,
            "bin_end": 1.3,
            "count": 0
           },
           {
            "bin_start": 1.3,
            "bin_end": 1.4,
            "count": 0
           },
           {
            "bin_start": 1.4,
            "bin_end": 1.5,
            "count": 0
           },
           {
            "bin_start": 1.5,
            "bin_end": 1.6,
            "count": 0
           },
           {
            "bin_start": 1.6,
            "bin_end": 1.7000000000000002,
            "count": 0
           },
           {
            "bin_start": 1.7000000000000002,
            "bin_end": 1.8,
            "count": 0
           },
           {
            "bin_start": 1.8,
            "bin_end": 1.9,
            "count": 0
           },
           {
            "bin_start": 1.9,
            "bin_end": 2,
            "count": 4
           }
          ]
         }
        },
        {
         "name": "LUNG_CANCER",
         "dtype": "object",
         "stats": {
          "unique_count": 2,
          "nan_count": 0,
          "categories": [
           {
            "name": "NO",
            "count": 3
           },
           {
            "name": "YES",
            "count": 2
           }
          ]
         }
        },
        {
         "name": "_deepnote_index_column",
         "dtype": "int64"
        }
       ],
       "rows": [
        {
         "GENDER": "M",
         "AGE": 69,
         "SMOKING": 1,
         "YELLOW_FINGERS": 2,
         "ANXIETY": 2,
         "PEER_PRESSURE": 1,
         "CHRONIC DISEASE": 1,
         "FATIGUE ": 2,
         "ALLERGY ": 1,
         "WHEEZING": 2,
         "ALCOHOL CONSUMING": 2,
         "COUGHING": 2,
         "SHORTNESS OF BREATH": 2,
         "SWALLOWING DIFFICULTY": 2,
         "CHEST PAIN": 2,
         "LUNG_CANCER": "YES",
         "_deepnote_index_column": 0
        },
        {
         "GENDER": "M",
         "AGE": 74,
         "SMOKING": 2,
         "YELLOW_FINGERS": 1,
         "ANXIETY": 1,
         "PEER_PRESSURE": 1,
         "CHRONIC DISEASE": 2,
         "FATIGUE ": 2,
         "ALLERGY ": 2,
         "WHEEZING": 1,
         "ALCOHOL CONSUMING": 1,
         "COUGHING": 1,
         "SHORTNESS OF BREATH": 2,
         "SWALLOWING DIFFICULTY": 2,
         "CHEST PAIN": 2,
         "LUNG_CANCER": "YES",
         "_deepnote_index_column": 1
        },
        {
         "GENDER": "F",
         "AGE": 59,
         "SMOKING": 1,
         "YELLOW_FINGERS": 1,
         "ANXIETY": 1,
         "PEER_PRESSURE": 2,
         "CHRONIC DISEASE": 1,
         "FATIGUE ": 2,
         "ALLERGY ": 1,
         "WHEEZING": 2,
         "ALCOHOL CONSUMING": 1,
         "COUGHING": 2,
         "SHORTNESS OF BREATH": 2,
         "SWALLOWING DIFFICULTY": 1,
         "CHEST PAIN": 2,
         "LUNG_CANCER": "NO",
         "_deepnote_index_column": 2
        },
        {
         "GENDER": "M",
         "AGE": 63,
         "SMOKING": 2,
         "YELLOW_FINGERS": 2,
         "ANXIETY": 2,
         "PEER_PRESSURE": 1,
         "CHRONIC DISEASE": 1,
         "FATIGUE ": 1,
         "ALLERGY ": 1,
         "WHEEZING": 1,
         "ALCOHOL CONSUMING": 2,
         "COUGHING": 1,
         "SHORTNESS OF BREATH": 1,
         "SWALLOWING DIFFICULTY": 2,
         "CHEST PAIN": 2,
         "LUNG_CANCER": "NO",
         "_deepnote_index_column": 3
        },
        {
         "GENDER": "F",
         "AGE": 63,
         "SMOKING": 1,
         "YELLOW_FINGERS": 2,
         "ANXIETY": 1,
         "PEER_PRESSURE": 1,
         "CHRONIC DISEASE": 1,
         "FATIGUE ": 1,
         "ALLERGY ": 1,
         "WHEEZING": 2,
         "ALCOHOL CONSUMING": 1,
         "COUGHING": 2,
         "SHORTNESS OF BREATH": 2,
         "SWALLOWING DIFFICULTY": 1,
         "CHEST PAIN": 1,
         "LUNG_CANCER": "NO",
         "_deepnote_index_column": 4
        }
       ]
      },
      "text/plain": "  GENDER  AGE  SMOKING  YELLOW_FINGERS  ANXIETY  PEER_PRESSURE  \\\n0      M   69        1               2        2              1   \n1      M   74        2               1        1              1   \n2      F   59        1               1        1              2   \n3      M   63        2               2        2              1   \n4      F   63        1               2        1              1   \n\n   CHRONIC DISEASE  FATIGUE   ALLERGY   WHEEZING  ALCOHOL CONSUMING  COUGHING  \\\n0                1         2         1         2                  2         2   \n1                2         2         2         1                  1         1   \n2                1         2         1         2                  1         2   \n3                1         1         1         1                  2         1   \n4                1         1         1         2                  1         2   \n\n   SHORTNESS OF BREATH  SWALLOWING DIFFICULTY  CHEST PAIN LUNG_CANCER  \n0                    2                      2           2         YES  \n1                    2                      2           2         YES  \n2                    2                      1           2          NO  \n3                    1                      2           2          NO  \n4                    2                      1           1          NO  ",
      "text/html": "<div>\n<style scoped>\n    .dataframe tbody tr th:only-of-type {\n        vertical-align: middle;\n    }\n\n    .dataframe tbody tr th {\n        vertical-align: top;\n    }\n\n    .dataframe thead th {\n        text-align: right;\n    }\n</style>\n<table border=\"1\" class=\"dataframe\">\n  <thead>\n    <tr style=\"text-align: right;\">\n      <th></th>\n      <th>GENDER</th>\n      <th>AGE</th>\n      <th>SMOKING</th>\n      <th>YELLOW_FINGERS</th>\n      <th>ANXIETY</th>\n      <th>PEER_PRESSURE</th>\n      <th>CHRONIC DISEASE</th>\n      <th>FATIGUE</th>\n      <th>ALLERGY</th>\n      <th>WHEEZING</th>\n      <th>ALCOHOL CONSUMING</th>\n      <th>COUGHING</th>\n      <th>SHORTNESS OF BREATH</th>\n      <th>SWALLOWING DIFFICULTY</th>\n      <th>CHEST PAIN</th>\n      <th>LUNG_CANCER</th>\n    </tr>\n  </thead>\n  <tbody>\n    <tr>\n      <th>0</th>\n      <td>M</td>\n      <td>69</td>\n      <td>1</td>\n      <td>2</td>\n      <td>2</td>\n      <td>1</td>\n      <td>1</td>\n      <td>2</td>\n      <td>1</td>\n      <td>2</td>\n      <td>2</td>\n      <td>2</td>\n      <td>2</td>\n      <td>2</td>\n      <td>2</td>\n      <td>YES</td>\n    </tr>\n    <tr>\n      <th>1</th>\n      <td>M</td>\n      <td>74</td>\n      <td>2</td>\n      <td>1</td>\n      <td>1</td>\n      <td>1</td>\n      <td>2</td>\n      <td>2</td>\n      <td>2</td>\n      <td>1</td>\n      <td>1</td>\n      <td>1</td>\n      <td>2</td>\n      <td>2</td>\n      <td>2</td>\n      <td>YES</td>\n    </tr>\n    <tr>\n      <th>2</th>\n      <td>F</td>\n      <td>59</td>\n      <td>1</td>\n      <td>1</td>\n      <td>1</td>\n      <td>2</td>\n      <td>1</td>\n      <td>2</td>\n      <td>1</td>\n      <td>2</td>\n      <td>1</td>\n      <td>2</td>\n      <td>2</td>\n      <td>1</td>\n      <td>2</td>\n      <td>NO</td>\n    </tr>\n    <tr>\n      <th>3</th>\n      <td>M</td>\n      <td>63</td>\n      <td>2</td>\n      <td>2</td>\n      <td>2</td>\n      <td>1</td>\n      <td>1</td>\n      <td>1</td>\n      <td>1</td>\n      <td>1</td>\n      <td>2</td>\n      <td>1</td>\n      <td>1</td>\n      <td>2</td>\n      <td>2</td>\n      <td>NO</td>\n    </tr>\n    <tr>\n      <th>4</th>\n      <td>F</td>\n      <td>63</td>\n      <td>1</td>\n      <td>2</td>\n      <td>1</td>\n      <td>1</td>\n      <td>1</td>\n      <td>1</td>\n      <td>1</td>\n      <td>2</td>\n      <td>1</td>\n      <td>2</td>\n      <td>2</td>\n      <td>1</td>\n      <td>1</td>\n      <td>NO</td>\n    </tr>\n  </tbody>\n</table>\n</div>"
     },
     "metadata": {}
    }
   ]
  },
  {
   "cell_type": "code",
   "metadata": {
    "cell_id": "1c8514b34994487a81e0aeec1d199ef8",
    "tags": [],
    "deepnote_to_be_reexecuted": false,
    "source_hash": "314bec58",
    "execution_start": 1653093451656,
    "execution_millis": 19,
    "deepnote_cell_type": "code",
    "deepnote_cell_height": 157,
    "deepnote_output_heights": [
     60
    ]
   },
   "source": "data.YELLOW_FINGERS.value_counts()",
   "execution_count": 7,
   "outputs": [
    {
     "output_type": "execute_result",
     "execution_count": 7,
     "data": {
      "text/plain": "2    176\n1    133\nName: YELLOW_FINGERS, dtype: int64"
     },
     "metadata": {}
    }
   ]
  },
  {
   "cell_type": "markdown",
   "source": "## Understand lung cancer dataset",
   "metadata": {
    "cell_id": "77b61c087cb946ffb7038b3204269a88",
    "tags": [],
    "deepnote_cell_type": "markdown",
    "deepnote_cell_height": 70
   }
  },
  {
   "cell_type": "markdown",
   "source": "### Characteristics:\n\nTotal no. of attributes: 16<br>\nNo .of instances: 284\n<br><br>\nAttribute information:\n<br>\n\n        - Gender: M(male), F(female)\n        - Age: Age of the patient\n        - Smoking: YES=2 , NO=1.\n        - Yellow fingers: YES=2 , NO=1.\n        - Anxiety: YES=2 , NO=1.\n        - Peer_pressure: YES=2 , NO=1.\n        - Chronic Disease: YES=2 , NO=1.\n        - Fatigue: YES=2 , NO=1.\n        - Allergy: YES=2 , NO=1.\n        - Wheezing: YES=2 , NO=1\n        - Alcohol: YES=2 , NO=1.\n        - Coughing: YES=2 , NO=1.\n        - Shortness of Breath: YES=2 , NO=1.\n        - Swallowing Difficulty: YES=2 , NO=1.\n        - Chest pain: YES=2 , NO=1.\n        - Lung Cancer: YES , NO.\n\n<br>\n\n[Dataset source](https://www.kaggle.com/datasets/mysarahmadbhat/lung-cancer)",
   "metadata": {
    "cell_id": "d37ee4a858b447259ae2b13a0459338c",
    "tags": [],
    "deepnote_cell_type": "markdown",
    "deepnote_cell_height": 579.140625
   }
  },
  {
   "cell_type": "markdown",
   "source": "## Preliminary Data Exploration",
   "metadata": {
    "cell_id": "f4af0abd0bf144d79fb787ffe87e9b9e",
    "tags": [],
    "deepnote_cell_type": "markdown",
    "deepnote_cell_height": 70
   }
  },
  {
   "cell_type": "code",
   "metadata": {
    "cell_id": "702db38f195f47df8640849c2504ca35",
    "tags": [],
    "deepnote_to_be_reexecuted": false,
    "source_hash": "f32960a6",
    "execution_start": 1653093453539,
    "execution_millis": 47,
    "deepnote_cell_type": "code",
    "deepnote_cell_height": 154,
    "deepnote_output_heights": [
     21
    ]
   },
   "source": "# what's the shape of data?\n\ndata.shape",
   "execution_count": 8,
   "outputs": [
    {
     "output_type": "execute_result",
     "execution_count": 8,
     "data": {
      "text/plain": "(309, 16)"
     },
     "metadata": {}
    }
   ]
  },
  {
   "cell_type": "code",
   "metadata": {
    "cell_id": "c8e2f79372ee48d4b47b744e0a9a1d1a",
    "tags": [],
    "deepnote_to_be_reexecuted": false,
    "source_hash": "64d16691",
    "execution_start": 1653093453583,
    "execution_millis": 4,
    "deepnote_cell_type": "code",
    "deepnote_cell_height": 149.390625
   },
   "source": "print('Rows: ', data.shape[0])\nprint('Columns: ', data.shape[1])",
   "execution_count": 9,
   "outputs": [
    {
     "name": "stdout",
     "text": "Rows:  309\nColumns:  16\n",
     "output_type": "stream"
    }
   ]
  },
  {
   "cell_type": "code",
   "metadata": {
    "cell_id": "6df6ae8465cb43109c7bc4911dd1ad8b",
    "tags": [],
    "deepnote_to_be_reexecuted": false,
    "source_hash": "92c2abe4",
    "execution_start": 1653093453584,
    "execution_millis": 8,
    "deepnote_cell_type": "code",
    "deepnote_cell_height": 466.203125
   },
   "source": "print('\\nColumn names: \\n', *data.columns, sep = '\\n     ')",
   "execution_count": 10,
   "outputs": [
    {
     "name": "stdout",
     "text": "\nColumn names: \n\n     GENDER\n     AGE\n     SMOKING\n     YELLOW_FINGERS\n     ANXIETY\n     PEER_PRESSURE\n     CHRONIC DISEASE\n     FATIGUE \n     ALLERGY \n     WHEEZING\n     ALCOHOL CONSUMING\n     COUGHING\n     SHORTNESS OF BREATH\n     SWALLOWING DIFFICULTY\n     CHEST PAIN\n     LUNG_CANCER\n",
     "output_type": "stream"
    }
   ]
  },
  {
   "cell_type": "markdown",
   "source": "## Data Cleaning\n*Check for missing values and duplicates*",
   "metadata": {
    "cell_id": "542ab935b95942929d80d641140354dc",
    "tags": [],
    "deepnote_cell_type": "markdown",
    "deepnote_cell_height": 108.390625
   }
  },
  {
   "cell_type": "code",
   "metadata": {
    "cell_id": "3cac1355b9ad44ab96c57a72a04a03a5",
    "tags": [],
    "deepnote_to_be_reexecuted": false,
    "source_hash": "1f986216",
    "execution_start": 1653093453597,
    "execution_millis": 14,
    "deepnote_cell_type": "code",
    "deepnote_cell_height": 426,
    "deepnote_output_heights": [
     329
    ]
   },
   "source": "data.isnull().any()",
   "execution_count": 11,
   "outputs": [
    {
     "output_type": "execute_result",
     "execution_count": 11,
     "data": {
      "text/plain": "GENDER                   False\nAGE                      False\nSMOKING                  False\nYELLOW_FINGERS           False\nANXIETY                  False\nPEER_PRESSURE            False\nCHRONIC DISEASE          False\nFATIGUE                  False\nALLERGY                  False\nWHEEZING                 False\nALCOHOL CONSUMING        False\nCOUGHING                 False\nSHORTNESS OF BREATH      False\nSWALLOWING DIFFICULTY    False\nCHEST PAIN               False\nLUNG_CANCER              False\ndtype: bool"
     },
     "metadata": {}
    }
   ]
  },
  {
   "cell_type": "markdown",
   "source": "*There is no any missing value in our coulmns*",
   "metadata": {
    "cell_id": "a633ace8d1374dbda12aba75a0bbd81c",
    "tags": [],
    "deepnote_cell_type": "markdown",
    "deepnote_cell_height": 52.390625
   }
  },
  {
   "cell_type": "markdown",
   "source": "## Descriptive statistics",
   "metadata": {
    "cell_id": "192a92615a0a427198e62d3dc27fa93e",
    "tags": [],
    "deepnote_cell_type": "markdown",
    "deepnote_cell_height": 70
   }
  },
  {
   "cell_type": "code",
   "metadata": {
    "cell_id": "353c53235ee44216b2778ca16335b177",
    "tags": [],
    "deepnote_to_be_reexecuted": false,
    "source_hash": "cc85c733",
    "execution_start": 1653093461560,
    "execution_millis": 25,
    "deepnote_cell_type": "code",
    "deepnote_cell_height": 272,
    "deepnote_output_heights": [
     175
    ]
   },
   "source": "data.AGE.describe()",
   "execution_count": 12,
   "outputs": [
    {
     "output_type": "execute_result",
     "execution_count": 12,
     "data": {
      "text/plain": "count    309.000000\nmean      62.673139\nstd        8.210301\nmin       21.000000\n25%       57.000000\n50%       62.000000\n75%       69.000000\nmax       87.000000\nName: AGE, dtype: float64"
     },
     "metadata": {}
    }
   ]
  },
  {
   "cell_type": "code",
   "metadata": {
    "cell_id": "528873197324469c86d1bc9bff098b7e",
    "tags": [],
    "deepnote_to_be_reexecuted": false,
    "source_hash": "245d61c7",
    "execution_start": 1653093461599,
    "execution_millis": 44,
    "deepnote_cell_type": "code",
    "deepnote_cell_height": 111.6875
   },
   "source": "print('Avarage age of people in our dataset: ', round(data.AGE.mean()))",
   "execution_count": 13,
   "outputs": [
    {
     "name": "stdout",
     "text": "Avarage age of people in our dataset:  63\n",
     "output_type": "stream"
    }
   ]
  },
  {
   "cell_type": "code",
   "metadata": {
    "cell_id": "94987ff39f6047e1985d08a0572732bc",
    "tags": [],
    "deepnote_to_be_reexecuted": false,
    "source_hash": "b623e53d",
    "execution_start": 1653093461661,
    "execution_millis": 177078494,
    "deepnote_cell_type": "code",
    "deepnote_cell_height": 81
   },
   "source": "",
   "execution_count": 13,
   "outputs": []
  },
  {
   "cell_type": "markdown",
   "source": "## Visualiza the features",
   "metadata": {
    "cell_id": "ca27001a814648a2b3d06550e2b43836",
    "tags": [],
    "deepnote_cell_type": "markdown",
    "deepnote_cell_height": 70
   }
  },
  {
   "cell_type": "markdown",
   "source": "*Add boxplot and histogram by age and diagnose*",
   "metadata": {
    "cell_id": "a606c1d423f04153b6f83aff507fd266",
    "tags": [],
    "deepnote_cell_type": "markdown",
    "deepnote_cell_height": 52.390625
   }
  },
  {
   "cell_type": "code",
   "metadata": {
    "cell_id": "809f233262bd41cf86e3b6d608c612f5",
    "tags": [],
    "deepnote_to_be_reexecuted": false,
    "source_hash": "e37b9863",
    "execution_start": 1653093461662,
    "execution_millis": 192,
    "deepnote_cell_type": "code",
    "deepnote_cell_height": 290
   },
   "source": "cancer = data[data.LUNG_CANCER == 'YES'].iloc[:, 2:-1].apply(lambda x: (len(x[x == 1]), len(x[x == 2])))\ncancer",
   "execution_count": 14,
   "outputs": [
    {
     "output_type": "execute_result",
     "execution_count": 14,
     "data": {
      "application/vnd.deepnote.dataframe.v3+json": {
       "column_count": 13,
       "row_count": 2,
       "columns": [
        {
         "name": "SMOKING",
         "dtype": "int64",
         "stats": {
          "unique_count": 2,
          "nan_count": 0,
          "min": "115",
          "max": "155",
          "histogram": [
           {
            "bin_start": 115,
            "bin_end": 119,
            "count": 1
           },
           {
            "bin_start": 119,
            "bin_end": 123,
            "count": 0
           },
           {
            "bin_start": 123,
            "bin_end": 127,
            "count": 0
           },
           {
            "bin_start": 127,
            "bin_end": 131,
            "count": 0
           },
           {
            "bin_start": 131,
            "bin_end": 135,
            "count": 0
           },
           {
            "bin_start": 135,
            "bin_end": 139,
            "count": 0
           },
           {
            "bin_start": 139,
            "bin_end": 143,
            "count": 0
           },
           {
            "bin_start": 143,
            "bin_end": 147,
            "count": 0
           },
           {
            "bin_start": 147,
            "bin_end": 151,
            "count": 0
           },
           {
            "bin_start": 151,
            "bin_end": 155,
            "count": 1
           }
          ]
         }
        },
        {
         "name": "YELLOW_FINGERS",
         "dtype": "int64",
         "stats": {
          "unique_count": 2,
          "nan_count": 0,
          "min": "107",
          "max": "163",
          "histogram": [
           {
            "bin_start": 107,
            "bin_end": 112.6,
            "count": 1
           },
           {
            "bin_start": 112.6,
            "bin_end": 118.2,
            "count": 0
           },
           {
            "bin_start": 118.2,
            "bin_end": 123.8,
            "count": 0
           },
           {
            "bin_start": 123.8,
            "bin_end": 129.4,
            "count": 0
           },
           {
            "bin_start": 129.4,
            "bin_end": 135,
            "count": 0
           },
           {
            "bin_start": 135,
            "bin_end": 140.6,
            "count": 0
           },
           {
            "bin_start": 140.6,
            "bin_end": 146.2,
            "count": 0
           },
           {
            "bin_start": 146.2,
            "bin_end": 151.8,
            "count": 0
           },
           {
            "bin_start": 151.8,
            "bin_end": 157.4,
            "count": 0
           },
           {
            "bin_start": 157.4,
            "bin_end": 163,
            "count": 1
           }
          ]
         }
        },
        {
         "name": "ANXIETY",
         "dtype": "int64",
         "stats": {
          "unique_count": 2,
          "nan_count": 0,
          "min": "128",
          "max": "142",
          "histogram": [
           {
            "bin_start": 128,
            "bin_end": 129.4,
            "count": 1
           },
           {
            "bin_start": 129.4,
            "bin_end": 130.8,
            "count": 0
           },
           {
            "bin_start": 130.8,
            "bin_end": 132.2,
            "count": 0
           },
           {
            "bin_start": 132.2,
            "bin_end": 133.6,
            "count": 0
           },
           {
            "bin_start": 133.6,
            "bin_end": 135,
            "count": 0
           },
           {
            "bin_start": 135,
            "bin_end": 136.4,
            "count": 0
           },
           {
            "bin_start": 136.4,
            "bin_end": 137.8,
            "count": 0
           },
           {
            "bin_start": 137.8,
            "bin_end": 139.2,
            "count": 0
           },
           {
            "bin_start": 139.2,
            "bin_end": 140.6,
            "count": 0
           },
           {
            "bin_start": 140.6,
            "bin_end": 142,
            "count": 1
           }
          ]
         }
        },
        {
         "name": "PEER_PRESSURE",
         "dtype": "int64",
         "stats": {
          "unique_count": 2,
          "nan_count": 0,
          "min": "125",
          "max": "145",
          "histogram": [
           {
            "bin_start": 125,
            "bin_end": 127,
            "count": 1
           },
           {
            "bin_start": 127,
            "bin_end": 129,
            "count": 0
           },
           {
            "bin_start": 129,
            "bin_end": 131,
            "count": 0
           },
           {
            "bin_start": 131,
            "bin_end": 133,
            "count": 0
           },
           {
            "bin_start": 133,
            "bin_end": 135,
            "count": 0
           },
           {
            "bin_start": 135,
            "bin_end": 137,
            "count": 0
           },
           {
            "bin_start": 137,
            "bin_end": 139,
            "count": 0
           },
           {
            "bin_start": 139,
            "bin_end": 141,
            "count": 0
           },
           {
            "bin_start": 141,
            "bin_end": 143,
            "count": 0
           },
           {
            "bin_start": 143,
            "bin_end": 145,
            "count": 1
           }
          ]
         }
        },
        {
         "name": "CHRONIC DISEASE",
         "dtype": "int64",
         "stats": {
          "unique_count": 2,
          "nan_count": 0,
          "min": "128",
          "max": "142",
          "histogram": [
           {
            "bin_start": 128,
            "bin_end": 129.4,
            "count": 1
           },
           {
            "bin_start": 129.4,
            "bin_end": 130.8,
            "count": 0
           },
           {
            "bin_start": 130.8,
            "bin_end": 132.2,
            "count": 0
           },
           {
            "bin_start": 132.2,
            "bin_end": 133.6,
            "count": 0
           },
           {
            "bin_start": 133.6,
            "bin_end": 135,
            "count": 0
           },
           {
            "bin_start": 135,
            "bin_end": 136.4,
            "count": 0
           },
           {
            "bin_start": 136.4,
            "bin_end": 137.8,
            "count": 0
           },
           {
            "bin_start": 137.8,
            "bin_end": 139.2,
            "count": 0
           },
           {
            "bin_start": 139.2,
            "bin_end": 140.6,
            "count": 0
           },
           {
            "bin_start": 140.6,
            "bin_end": 142,
            "count": 1
           }
          ]
         }
        },
        {
         "name": "FATIGUE ",
         "dtype": "int64",
         "stats": {
          "unique_count": 2,
          "nan_count": 0,
          "min": "81",
          "max": "189",
          "histogram": [
           {
            "bin_start": 81,
            "bin_end": 91.8,
            "count": 1
           },
           {
            "bin_start": 91.8,
            "bin_end": 102.6,
            "count": 0
           },
           {
            "bin_start": 102.6,
            "bin_end": 113.4,
            "count": 0
           },
           {
            "bin_start": 113.4,
            "bin_end": 124.2,
            "count": 0
           },
           {
            "bin_start": 124.2,
            "bin_end": 135,
            "count": 0
           },
           {
            "bin_start": 135,
            "bin_end": 145.8,
            "count": 0
           },
           {
            "bin_start": 145.8,
            "bin_end": 156.60000000000002,
            "count": 0
           },
           {
            "bin_start": 156.60000000000002,
            "bin_end": 167.4,
            "count": 0
           },
           {
            "bin_start": 167.4,
            "bin_end": 178.2,
            "count": 0
           },
           {
            "bin_start": 178.2,
            "bin_end": 189,
            "count": 1
           }
          ]
         }
        },
        {
         "name": "ALLERGY ",
         "dtype": "int64",
         "stats": {
          "unique_count": 2,
          "nan_count": 0,
          "min": "103",
          "max": "167",
          "histogram": [
           {
            "bin_start": 103,
            "bin_end": 109.4,
            "count": 1
           },
           {
            "bin_start": 109.4,
            "bin_end": 115.8,
            "count": 0
           },
           {
            "bin_start": 115.8,
            "bin_end": 122.2,
            "count": 0
           },
           {
            "bin_start": 122.2,
            "bin_end": 128.6,
            "count": 0
           },
           {
            "bin_start": 128.6,
            "bin_end": 135,
            "count": 0
           },
           {
            "bin_start": 135,
            "bin_end": 141.4,
            "count": 0
           },
           {
            "bin_start": 141.4,
            "bin_end": 147.8,
            "count": 0
           },
           {
            "bin_start": 147.8,
            "bin_end": 154.2,
            "count": 0
           },
           {
            "bin_start": 154.2,
            "bin_end": 160.6,
            "count": 0
           },
           {
            "bin_start": 160.6,
            "bin_end": 167,
            "count": 1
           }
          ]
         }
        },
        {
         "name": "WHEEZING",
         "dtype": "int64",
         "stats": {
          "unique_count": 2,
          "nan_count": 0,
          "min": "107",
          "max": "163",
          "histogram": [
           {
            "bin_start": 107,
            "bin_end": 112.6,
            "count": 1
           },
           {
            "bin_start": 112.6,
            "bin_end": 118.2,
            "count": 0
           },
           {
            "bin_start": 118.2,
            "bin_end": 123.8,
            "count": 0
           },
           {
            "bin_start": 123.8,
            "bin_end": 129.4,
            "count": 0
           },
           {
            "bin_start": 129.4,
            "bin_end": 135,
            "count": 0
           },
           {
            "bin_start": 135,
            "bin_end": 140.6,
            "count": 0
           },
           {
            "bin_start": 140.6,
            "bin_end": 146.2,
            "count": 0
           },
           {
            "bin_start": 146.2,
            "bin_end": 151.8,
            "count": 0
           },
           {
            "bin_start": 151.8,
            "bin_end": 157.4,
            "count": 0
           },
           {
            "bin_start": 157.4,
            "bin_end": 163,
            "count": 1
           }
          ]
         }
        },
        {
         "name": "ALCOHOL CONSUMING",
         "dtype": "int64",
         "stats": {
          "unique_count": 2,
          "nan_count": 0,
          "min": "105",
          "max": "165",
          "histogram": [
           {
            "bin_start": 105,
            "bin_end": 111,
            "count": 1
           },
           {
            "bin_start": 111,
            "bin_end": 117,
            "count": 0
           },
           {
            "bin_start": 117,
            "bin_end": 123,
            "count": 0
           },
           {
            "bin_start": 123,
            "bin_end": 129,
            "count": 0
           },
           {
            "bin_start": 129,
            "bin_end": 135,
            "count": 0
           },
           {
            "bin_start": 135,
            "bin_end": 141,
            "count": 0
           },
           {
            "bin_start": 141,
            "bin_end": 147,
            "count": 0
           },
           {
            "bin_start": 147,
            "bin_end": 153,
            "count": 0
           },
           {
            "bin_start": 153,
            "bin_end": 159,
            "count": 0
           },
           {
            "bin_start": 159,
            "bin_end": 165,
            "count": 1
           }
          ]
         }
        },
        {
         "name": "COUGHING",
         "dtype": "int64",
         "stats": {
          "unique_count": 2,
          "nan_count": 0,
          "min": "101",
          "max": "169",
          "histogram": [
           {
            "bin_start": 101,
            "bin_end": 107.8,
            "count": 1
           },
           {
            "bin_start": 107.8,
            "bin_end": 114.6,
            "count": 0
           },
           {
            "bin_start": 114.6,
            "bin_end": 121.4,
            "count": 0
           },
           {
            "bin_start": 121.4,
            "bin_end": 128.2,
            "count": 0
           },
           {
            "bin_start": 128.2,
            "bin_end": 135,
            "count": 0
           },
           {
            "bin_start": 135,
            "bin_end": 141.8,
            "count": 0
           },
           {
            "bin_start": 141.8,
            "bin_end": 148.6,
            "count": 0
           },
           {
            "bin_start": 148.6,
            "bin_end": 155.4,
            "count": 0
           },
           {
            "bin_start": 155.4,
            "bin_end": 162.2,
            "count": 0
           },
           {
            "bin_start": 162.2,
            "bin_end": 169,
            "count": 1
           }
          ]
         }
        },
        {
         "name": "SHORTNESS OF BREATH",
         "dtype": "int64",
         "stats": {
          "unique_count": 2,
          "nan_count": 0,
          "min": "94",
          "max": "176",
          "histogram": [
           {
            "bin_start": 94,
            "bin_end": 102.2,
            "count": 1
           },
           {
            "bin_start": 102.2,
            "bin_end": 110.4,
            "count": 0
           },
           {
            "bin_start": 110.4,
            "bin_end": 118.6,
            "count": 0
           },
           {
            "bin_start": 118.6,
            "bin_end": 126.8,
            "count": 0
           },
           {
            "bin_start": 126.8,
            "bin_end": 135,
            "count": 0
           },
           {
            "bin_start": 135,
            "bin_end": 143.2,
            "count": 0
           },
           {
            "bin_start": 143.2,
            "bin_end": 151.39999999999998,
            "count": 0
           },
           {
            "bin_start": 151.39999999999998,
            "bin_end": 159.6,
            "count": 0
           },
           {
            "bin_start": 159.6,
            "bin_end": 167.8,
            "count": 0
           },
           {
            "bin_start": 167.8,
            "bin_end": 176,
            "count": 1
           }
          ]
         }
        },
        {
         "name": "SWALLOWING DIFFICULTY",
         "dtype": "int64",
         "stats": {
          "unique_count": 2,
          "nan_count": 0,
          "min": "130",
          "max": "140",
          "histogram": [
           {
            "bin_start": 130,
            "bin_end": 131,
            "count": 1
           },
           {
            "bin_start": 131,
            "bin_end": 132,
            "count": 0
           },
           {
            "bin_start": 132,
            "bin_end": 133,
            "count": 0
           },
           {
            "bin_start": 133,
            "bin_end": 134,
            "count": 0
           },
           {
            "bin_start": 134,
            "bin_end": 135,
            "count": 0
           },
           {
            "bin_start": 135,
            "bin_end": 136,
            "count": 0
           },
           {
            "bin_start": 136,
            "bin_end": 137,
            "count": 0
           },
           {
            "bin_start": 137,
            "bin_end": 138,
            "count": 0
           },
           {
            "bin_start": 138,
            "bin_end": 139,
            "count": 0
           },
           {
            "bin_start": 139,
            "bin_end": 140,
            "count": 1
           }
          ]
         }
        },
        {
         "name": "CHEST PAIN",
         "dtype": "int64",
         "stats": {
          "unique_count": 2,
          "nan_count": 0,
          "min": "110",
          "max": "160",
          "histogram": [
           {
            "bin_start": 110,
            "bin_end": 115,
            "count": 1
           },
           {
            "bin_start": 115,
            "bin_end": 120,
            "count": 0
           },
           {
            "bin_start": 120,
            "bin_end": 125,
            "count": 0
           },
           {
            "bin_start": 125,
            "bin_end": 130,
            "count": 0
           },
           {
            "bin_start": 130,
            "bin_end": 135,
            "count": 0
           },
           {
            "bin_start": 135,
            "bin_end": 140,
            "count": 0
           },
           {
            "bin_start": 140,
            "bin_end": 145,
            "count": 0
           },
           {
            "bin_start": 145,
            "bin_end": 150,
            "count": 0
           },
           {
            "bin_start": 150,
            "bin_end": 155,
            "count": 0
           },
           {
            "bin_start": 155,
            "bin_end": 160,
            "count": 1
           }
          ]
         }
        },
        {
         "name": "_deepnote_index_column",
         "dtype": "int64"
        }
       ],
       "rows": [
        {
         "SMOKING": 115,
         "YELLOW_FINGERS": 107,
         "ANXIETY": 128,
         "PEER_PRESSURE": 125,
         "CHRONIC DISEASE": 128,
         "FATIGUE ": 81,
         "ALLERGY ": 103,
         "WHEEZING": 107,
         "ALCOHOL CONSUMING": 105,
         "COUGHING": 101,
         "SHORTNESS OF BREATH": 94,
         "SWALLOWING DIFFICULTY": 130,
         "CHEST PAIN": 110,
         "_deepnote_index_column": 0
        },
        {
         "SMOKING": 155,
         "YELLOW_FINGERS": 163,
         "ANXIETY": 142,
         "PEER_PRESSURE": 145,
         "CHRONIC DISEASE": 142,
         "FATIGUE ": 189,
         "ALLERGY ": 167,
         "WHEEZING": 163,
         "ALCOHOL CONSUMING": 165,
         "COUGHING": 169,
         "SHORTNESS OF BREATH": 176,
         "SWALLOWING DIFFICULTY": 140,
         "CHEST PAIN": 160,
         "_deepnote_index_column": 1
        }
       ]
      },
      "text/plain": "   SMOKING  YELLOW_FINGERS  ANXIETY  PEER_PRESSURE  CHRONIC DISEASE  FATIGUE   \\\n0      115             107      128            125              128        81   \n1      155             163      142            145              142       189   \n\n   ALLERGY   WHEEZING  ALCOHOL CONSUMING  COUGHING  SHORTNESS OF BREATH  \\\n0       103       107                105       101                   94   \n1       167       163                165       169                  176   \n\n   SWALLOWING DIFFICULTY  CHEST PAIN  \n0                    130         110  \n1                    140         160  ",
      "text/html": "<div>\n<style scoped>\n    .dataframe tbody tr th:only-of-type {\n        vertical-align: middle;\n    }\n\n    .dataframe tbody tr th {\n        vertical-align: top;\n    }\n\n    .dataframe thead th {\n        text-align: right;\n    }\n</style>\n<table border=\"1\" class=\"dataframe\">\n  <thead>\n    <tr style=\"text-align: right;\">\n      <th></th>\n      <th>SMOKING</th>\n      <th>YELLOW_FINGERS</th>\n      <th>ANXIETY</th>\n      <th>PEER_PRESSURE</th>\n      <th>CHRONIC DISEASE</th>\n      <th>FATIGUE</th>\n      <th>ALLERGY</th>\n      <th>WHEEZING</th>\n      <th>ALCOHOL CONSUMING</th>\n      <th>COUGHING</th>\n      <th>SHORTNESS OF BREATH</th>\n      <th>SWALLOWING DIFFICULTY</th>\n      <th>CHEST PAIN</th>\n    </tr>\n  </thead>\n  <tbody>\n    <tr>\n      <th>0</th>\n      <td>115</td>\n      <td>107</td>\n      <td>128</td>\n      <td>125</td>\n      <td>128</td>\n      <td>81</td>\n      <td>103</td>\n      <td>107</td>\n      <td>105</td>\n      <td>101</td>\n      <td>94</td>\n      <td>130</td>\n      <td>110</td>\n    </tr>\n    <tr>\n      <th>1</th>\n      <td>155</td>\n      <td>163</td>\n      <td>142</td>\n      <td>145</td>\n      <td>142</td>\n      <td>189</td>\n      <td>167</td>\n      <td>163</td>\n      <td>165</td>\n      <td>169</td>\n      <td>176</td>\n      <td>140</td>\n      <td>160</td>\n    </tr>\n  </tbody>\n</table>\n</div>"
     },
     "metadata": {}
    }
   ]
  },
  {
   "cell_type": "code",
   "metadata": {
    "cell_id": "fef7cf43fb84428f83b324d828a8a749",
    "tags": [],
    "deepnote_to_be_reexecuted": false,
    "source_hash": "ca4fe517",
    "execution_start": 1653093461804,
    "execution_millis": 348,
    "deepnote_cell_type": "code",
    "deepnote_cell_height": 1002,
    "deepnote_output_heights": [
     527
    ]
   },
   "source": "fig = go.Figure()\n\nfig.add_trace(\n    go.Bar(\n        name = 'NO',\n        y = cancer.iloc[0].values,\n        x = cancer.columns,\n        orientation='v'\n    )\n)\n\nfig.add_trace(\n    go.Bar(\n        name = 'YES',\n        y = cancer.iloc[1].values,\n        x = cancer.columns,\n        orientation='v'\n    )\n)\n\nfig.update_layout(title = 'Habits/symptoms of people with cancer')\nfig.show()",
   "execution_count": 15,
   "outputs": [
    {
     "data": {
      "text/html": "<html>\n<head><meta charset=\"utf-8\" /></head>\n<body>\n    <div>            <script src=\"https://cdnjs.cloudflare.com/ajax/libs/mathjax/2.7.5/MathJax.js?config=TeX-AMS-MML_SVG\"></script><script type=\"text/javascript\">if (window.MathJax) {MathJax.Hub.Config({SVG: {font: \"STIX-Web\"}});}</script>                <script type=\"text/javascript\">window.PlotlyConfig = {MathJaxConfig: 'local'};</script>\n        <script src=\"https://cdn.plot.ly/plotly-2.11.1.min.js\"></script>                <div id=\"bf889665-5465-48cb-853d-dd1627ecd741\" class=\"plotly-graph-div\" style=\"height:525px; width:100%;\"></div>            <script type=\"text/javascript\">                                    window.PLOTLYENV=window.PLOTLYENV || {};                                    if (document.getElementById(\"bf889665-5465-48cb-853d-dd1627ecd741\")) {                    Plotly.newPlot(                        \"bf889665-5465-48cb-853d-dd1627ecd741\",                        [{\"name\":\"NO\",\"orientation\":\"v\",\"x\":[\"SMOKING\",\"YELLOW_FINGERS\",\"ANXIETY\",\"PEER_PRESSURE\",\"CHRONIC DISEASE\",\"FATIGUE \",\"ALLERGY \",\"WHEEZING\",\"ALCOHOL CONSUMING\",\"COUGHING\",\"SHORTNESS OF BREATH\",\"SWALLOWING DIFFICULTY\",\"CHEST PAIN\"],\"y\":[115,107,128,125,128,81,103,107,105,101,94,130,110],\"type\":\"bar\"},{\"name\":\"YES\",\"orientation\":\"v\",\"x\":[\"SMOKING\",\"YELLOW_FINGERS\",\"ANXIETY\",\"PEER_PRESSURE\",\"CHRONIC DISEASE\",\"FATIGUE \",\"ALLERGY \",\"WHEEZING\",\"ALCOHOL CONSUMING\",\"COUGHING\",\"SHORTNESS OF BREATH\",\"SWALLOWING DIFFICULTY\",\"CHEST PAIN\"],\"y\":[155,163,142,145,142,189,167,163,165,169,176,140,160],\"type\":\"bar\"}],                        {\"template\":{\"data\":{\"histogram2dcontour\":[{\"type\":\"histogram2dcontour\",\"colorbar\":{\"outlinewidth\":0,\"ticks\":\"\"},\"colorscale\":[[0.0,\"#0d0887\"],[0.1111111111111111,\"#46039f\"],[0.2222222222222222,\"#7201a8\"],[0.3333333333333333,\"#9c179e\"],[0.4444444444444444,\"#bd3786\"],[0.5555555555555556,\"#d8576b\"],[0.6666666666666666,\"#ed7953\"],[0.7777777777777778,\"#fb9f3a\"],[0.8888888888888888,\"#fdca26\"],[1.0,\"#f0f921\"]]}],\"choropleth\":[{\"type\":\"choropleth\",\"colorbar\":{\"outlinewidth\":0,\"ticks\":\"\"}}],\"histogram2d\":[{\"type\":\"histogram2d\",\"colorbar\":{\"outlinewidth\":0,\"ticks\":\"\"},\"colorscale\":[[0.0,\"#0d0887\"],[0.1111111111111111,\"#46039f\"],[0.2222222222222222,\"#7201a8\"],[0.3333333333333333,\"#9c179e\"],[0.4444444444444444,\"#bd3786\"],[0.5555555555555556,\"#d8576b\"],[0.6666666666666666,\"#ed7953\"],[0.7777777777777778,\"#fb9f3a\"],[0.8888888888888888,\"#fdca26\"],[1.0,\"#f0f921\"]]}],\"heatmap\":[{\"type\":\"heatmap\",\"colorbar\":{\"outlinewidth\":0,\"ticks\":\"\"},\"colorscale\":[[0.0,\"#0d0887\"],[0.1111111111111111,\"#46039f\"],[0.2222222222222222,\"#7201a8\"],[0.3333333333333333,\"#9c179e\"],[0.4444444444444444,\"#bd3786\"],[0.5555555555555556,\"#d8576b\"],[0.6666666666666666,\"#ed7953\"],[0.7777777777777778,\"#fb9f3a\"],[0.8888888888888888,\"#fdca26\"],[1.0,\"#f0f921\"]]}],\"heatmapgl\":[{\"type\":\"heatmapgl\",\"colorbar\":{\"outlinewidth\":0,\"ticks\":\"\"},\"colorscale\":[[0.0,\"#0d0887\"],[0.1111111111111111,\"#46039f\"],[0.2222222222222222,\"#7201a8\"],[0.3333333333333333,\"#9c179e\"],[0.4444444444444444,\"#bd3786\"],[0.5555555555555556,\"#d8576b\"],[0.6666666666666666,\"#ed7953\"],[0.7777777777777778,\"#fb9f3a\"],[0.8888888888888888,\"#fdca26\"],[1.0,\"#f0f921\"]]}],\"contourcarpet\":[{\"type\":\"contourcarpet\",\"colorbar\":{\"outlinewidth\":0,\"ticks\":\"\"}}],\"contour\":[{\"type\":\"contour\",\"colorbar\":{\"outlinewidth\":0,\"ticks\":\"\"},\"colorscale\":[[0.0,\"#0d0887\"],[0.1111111111111111,\"#46039f\"],[0.2222222222222222,\"#7201a8\"],[0.3333333333333333,\"#9c179e\"],[0.4444444444444444,\"#bd3786\"],[0.5555555555555556,\"#d8576b\"],[0.6666666666666666,\"#ed7953\"],[0.7777777777777778,\"#fb9f3a\"],[0.8888888888888888,\"#fdca26\"],[1.0,\"#f0f921\"]]}],\"surface\":[{\"type\":\"surface\",\"colorbar\":{\"outlinewidth\":0,\"ticks\":\"\"},\"colorscale\":[[0.0,\"#0d0887\"],[0.1111111111111111,\"#46039f\"],[0.2222222222222222,\"#7201a8\"],[0.3333333333333333,\"#9c179e\"],[0.4444444444444444,\"#bd3786\"],[0.5555555555555556,\"#d8576b\"],[0.6666666666666666,\"#ed7953\"],[0.7777777777777778,\"#fb9f3a\"],[0.8888888888888888,\"#fdca26\"],[1.0,\"#f0f921\"]]}],\"mesh3d\":[{\"type\":\"mesh3d\",\"colorbar\":{\"outlinewidth\":0,\"ticks\":\"\"}}],\"scatter\":[{\"fillpattern\":{\"fillmode\":\"overlay\",\"size\":10,\"solidity\":0.2},\"type\":\"scatter\"}],\"parcoords\":[{\"type\":\"parcoords\",\"line\":{\"colorbar\":{\"outlinewidth\":0,\"ticks\":\"\"}}}],\"scatterpolargl\":[{\"type\":\"scatterpolargl\",\"marker\":{\"colorbar\":{\"outlinewidth\":0,\"ticks\":\"\"}}}],\"bar\":[{\"error_x\":{\"color\":\"#2a3f5f\"},\"error_y\":{\"color\":\"#2a3f5f\"},\"marker\":{\"line\":{\"color\":\"#E5ECF6\",\"width\":0.5},\"pattern\":{\"fillmode\":\"overlay\",\"size\":10,\"solidity\":0.2}},\"type\":\"bar\"}],\"scattergeo\":[{\"type\":\"scattergeo\",\"marker\":{\"colorbar\":{\"outlinewidth\":0,\"ticks\":\"\"}}}],\"scatterpolar\":[{\"type\":\"scatterpolar\",\"marker\":{\"colorbar\":{\"outlinewidth\":0,\"ticks\":\"\"}}}],\"histogram\":[{\"marker\":{\"pattern\":{\"fillmode\":\"overlay\",\"size\":10,\"solidity\":0.2}},\"type\":\"histogram\"}],\"scattergl\":[{\"type\":\"scattergl\",\"marker\":{\"colorbar\":{\"outlinewidth\":0,\"ticks\":\"\"}}}],\"scatter3d\":[{\"type\":\"scatter3d\",\"line\":{\"colorbar\":{\"outlinewidth\":0,\"ticks\":\"\"}},\"marker\":{\"colorbar\":{\"outlinewidth\":0,\"ticks\":\"\"}}}],\"scattermapbox\":[{\"type\":\"scattermapbox\",\"marker\":{\"colorbar\":{\"outlinewidth\":0,\"ticks\":\"\"}}}],\"scatterternary\":[{\"type\":\"scatterternary\",\"marker\":{\"colorbar\":{\"outlinewidth\":0,\"ticks\":\"\"}}}],\"scattercarpet\":[{\"type\":\"scattercarpet\",\"marker\":{\"colorbar\":{\"outlinewidth\":0,\"ticks\":\"\"}}}],\"carpet\":[{\"aaxis\":{\"endlinecolor\":\"#2a3f5f\",\"gridcolor\":\"white\",\"linecolor\":\"white\",\"minorgridcolor\":\"white\",\"startlinecolor\":\"#2a3f5f\"},\"baxis\":{\"endlinecolor\":\"#2a3f5f\",\"gridcolor\":\"white\",\"linecolor\":\"white\",\"minorgridcolor\":\"white\",\"startlinecolor\":\"#2a3f5f\"},\"type\":\"carpet\"}],\"table\":[{\"cells\":{\"fill\":{\"color\":\"#EBF0F8\"},\"line\":{\"color\":\"white\"}},\"header\":{\"fill\":{\"color\":\"#C8D4E3\"},\"line\":{\"color\":\"white\"}},\"type\":\"table\"}],\"barpolar\":[{\"marker\":{\"line\":{\"color\":\"#E5ECF6\",\"width\":0.5},\"pattern\":{\"fillmode\":\"overlay\",\"size\":10,\"solidity\":0.2}},\"type\":\"barpolar\"}],\"pie\":[{\"automargin\":true,\"type\":\"pie\"}]},\"layout\":{\"autotypenumbers\":\"strict\",\"colorway\":[\"#636efa\",\"#EF553B\",\"#00cc96\",\"#ab63fa\",\"#FFA15A\",\"#19d3f3\",\"#FF6692\",\"#B6E880\",\"#FF97FF\",\"#FECB52\"],\"font\":{\"color\":\"#2a3f5f\"},\"hovermode\":\"closest\",\"hoverlabel\":{\"align\":\"left\"},\"paper_bgcolor\":\"white\",\"plot_bgcolor\":\"#E5ECF6\",\"polar\":{\"bgcolor\":\"#E5ECF6\",\"angularaxis\":{\"gridcolor\":\"white\",\"linecolor\":\"white\",\"ticks\":\"\"},\"radialaxis\":{\"gridcolor\":\"white\",\"linecolor\":\"white\",\"ticks\":\"\"}},\"ternary\":{\"bgcolor\":\"#E5ECF6\",\"aaxis\":{\"gridcolor\":\"white\",\"linecolor\":\"white\",\"ticks\":\"\"},\"baxis\":{\"gridcolor\":\"white\",\"linecolor\":\"white\",\"ticks\":\"\"},\"caxis\":{\"gridcolor\":\"white\",\"linecolor\":\"white\",\"ticks\":\"\"}},\"coloraxis\":{\"colorbar\":{\"outlinewidth\":0,\"ticks\":\"\"}},\"colorscale\":{\"sequential\":[[0.0,\"#0d0887\"],[0.1111111111111111,\"#46039f\"],[0.2222222222222222,\"#7201a8\"],[0.3333333333333333,\"#9c179e\"],[0.4444444444444444,\"#bd3786\"],[0.5555555555555556,\"#d8576b\"],[0.6666666666666666,\"#ed7953\"],[0.7777777777777778,\"#fb9f3a\"],[0.8888888888888888,\"#fdca26\"],[1.0,\"#f0f921\"]],\"sequentialminus\":[[0.0,\"#0d0887\"],[0.1111111111111111,\"#46039f\"],[0.2222222222222222,\"#7201a8\"],[0.3333333333333333,\"#9c179e\"],[0.4444444444444444,\"#bd3786\"],[0.5555555555555556,\"#d8576b\"],[0.6666666666666666,\"#ed7953\"],[0.7777777777777778,\"#fb9f3a\"],[0.8888888888888888,\"#fdca26\"],[1.0,\"#f0f921\"]],\"diverging\":[[0,\"#8e0152\"],[0.1,\"#c51b7d\"],[0.2,\"#de77ae\"],[0.3,\"#f1b6da\"],[0.4,\"#fde0ef\"],[0.5,\"#f7f7f7\"],[0.6,\"#e6f5d0\"],[0.7,\"#b8e186\"],[0.8,\"#7fbc41\"],[0.9,\"#4d9221\"],[1,\"#276419\"]]},\"xaxis\":{\"gridcolor\":\"white\",\"linecolor\":\"white\",\"ticks\":\"\",\"title\":{\"standoff\":15},\"zerolinecolor\":\"white\",\"automargin\":true,\"zerolinewidth\":2},\"yaxis\":{\"gridcolor\":\"white\",\"linecolor\":\"white\",\"ticks\":\"\",\"title\":{\"standoff\":15},\"zerolinecolor\":\"white\",\"automargin\":true,\"zerolinewidth\":2},\"scene\":{\"xaxis\":{\"backgroundcolor\":\"#E5ECF6\",\"gridcolor\":\"white\",\"linecolor\":\"white\",\"showbackground\":true,\"ticks\":\"\",\"zerolinecolor\":\"white\",\"gridwidth\":2},\"yaxis\":{\"backgroundcolor\":\"#E5ECF6\",\"gridcolor\":\"white\",\"linecolor\":\"white\",\"showbackground\":true,\"ticks\":\"\",\"zerolinecolor\":\"white\",\"gridwidth\":2},\"zaxis\":{\"backgroundcolor\":\"#E5ECF6\",\"gridcolor\":\"white\",\"linecolor\":\"white\",\"showbackground\":true,\"ticks\":\"\",\"zerolinecolor\":\"white\",\"gridwidth\":2}},\"shapedefaults\":{\"line\":{\"color\":\"#2a3f5f\"}},\"annotationdefaults\":{\"arrowcolor\":\"#2a3f5f\",\"arrowhead\":0,\"arrowwidth\":1},\"geo\":{\"bgcolor\":\"white\",\"landcolor\":\"#E5ECF6\",\"subunitcolor\":\"white\",\"showland\":true,\"showlakes\":true,\"lakecolor\":\"white\"},\"title\":{\"x\":0.05},\"mapbox\":{\"style\":\"light\"}}},\"title\":{\"text\":\"Habits/symptoms of people with cancer\"}},                        {\"responsive\": true}                    ).then(function(){\n                            \nvar gd = document.getElementById('bf889665-5465-48cb-853d-dd1627ecd741');\nvar x = new MutationObserver(function (mutations, observer) {{\n        var display = window.getComputedStyle(gd).display;\n        if (!display || display === 'none') {{\n            console.log([gd, 'removed!']);\n            Plotly.purge(gd);\n            observer.disconnect();\n        }}\n}});\n\n// Listen for the removal of the full notebook cells\nvar notebookContainer = gd.closest('#notebook-container');\nif (notebookContainer) {{\n    x.observe(notebookContainer, {childList: true});\n}}\n\n// Listen for the clearing of the current output cell\nvar outputEl = gd.closest('.output');\nif (outputEl) {{\n    x.observe(outputEl, {childList: true});\n}}\n\n                        })                };                            </script>        </div>\n</body>\n</html>"
     },
     "metadata": {},
     "output_type": "display_data"
    }
   ]
  },
  {
   "cell_type": "code",
   "metadata": {
    "cell_id": "c3779c9f49324c1abd623970fdd0e0b5",
    "tags": [],
    "deepnote_to_be_reexecuted": false,
    "source_hash": "ed20c6c1",
    "execution_start": 1653093462167,
    "execution_millis": 107,
    "deepnote_cell_type": "code",
    "deepnote_cell_height": 290
   },
   "source": "cancer_free = data[data.LUNG_CANCER == 'NO'].iloc[:, 2:-1].apply(lambda x: (len(x[x == 1]), len(x[x == 2])))\ncancer_free",
   "execution_count": 16,
   "outputs": [
    {
     "output_type": "execute_result",
     "execution_count": 16,
     "data": {
      "application/vnd.deepnote.dataframe.v3+json": {
       "column_count": 13,
       "row_count": 2,
       "columns": [
        {
         "name": "SMOKING",
         "dtype": "int64",
         "stats": {
          "unique_count": 2,
          "nan_count": 0,
          "min": "19",
          "max": "20",
          "histogram": [
           {
            "bin_start": 19,
            "bin_end": 19.1,
            "count": 1
           },
           {
            "bin_start": 19.1,
            "bin_end": 19.2,
            "count": 0
           },
           {
            "bin_start": 19.2,
            "bin_end": 19.3,
            "count": 0
           },
           {
            "bin_start": 19.3,
            "bin_end": 19.4,
            "count": 0
           },
           {
            "bin_start": 19.4,
            "bin_end": 19.5,
            "count": 0
           },
           {
            "bin_start": 19.5,
            "bin_end": 19.6,
            "count": 0
           },
           {
            "bin_start": 19.6,
            "bin_end": 19.7,
            "count": 0
           },
           {
            "bin_start": 19.7,
            "bin_end": 19.8,
            "count": 0
           },
           {
            "bin_start": 19.8,
            "bin_end": 19.9,
            "count": 0
           },
           {
            "bin_start": 19.9,
            "bin_end": 20,
            "count": 1
           }
          ]
         }
        },
        {
         "name": "YELLOW_FINGERS",
         "dtype": "int64",
         "stats": {
          "unique_count": 2,
          "nan_count": 0,
          "min": "13",
          "max": "26",
          "histogram": [
           {
            "bin_start": 13,
            "bin_end": 14.3,
            "count": 1
           },
           {
            "bin_start": 14.3,
            "bin_end": 15.6,
            "count": 0
           },
           {
            "bin_start": 15.6,
            "bin_end": 16.9,
            "count": 0
           },
           {
            "bin_start": 16.9,
            "bin_end": 18.2,
            "count": 0
           },
           {
            "bin_start": 18.2,
            "bin_end": 19.5,
            "count": 0
           },
           {
            "bin_start": 19.5,
            "bin_end": 20.8,
            "count": 0
           },
           {
            "bin_start": 20.8,
            "bin_end": 22.1,
            "count": 0
           },
           {
            "bin_start": 22.1,
            "bin_end": 23.4,
            "count": 0
           },
           {
            "bin_start": 23.4,
            "bin_end": 24.700000000000003,
            "count": 0
           },
           {
            "bin_start": 24.700000000000003,
            "bin_end": 26,
            "count": 1
           }
          ]
         }
        },
        {
         "name": "ANXIETY",
         "dtype": "int64",
         "stats": {
          "unique_count": 2,
          "nan_count": 0,
          "min": "12",
          "max": "27",
          "histogram": [
           {
            "bin_start": 12,
            "bin_end": 13.5,
            "count": 1
           },
           {
            "bin_start": 13.5,
            "bin_end": 15,
            "count": 0
           },
           {
            "bin_start": 15,
            "bin_end": 16.5,
            "count": 0
           },
           {
            "bin_start": 16.5,
            "bin_end": 18,
            "count": 0
           },
           {
            "bin_start": 18,
            "bin_end": 19.5,
            "count": 0
           },
           {
            "bin_start": 19.5,
            "bin_end": 21,
            "count": 0
           },
           {
            "bin_start": 21,
            "bin_end": 22.5,
            "count": 0
           },
           {
            "bin_start": 22.5,
            "bin_end": 24,
            "count": 0
           },
           {
            "bin_start": 24,
            "bin_end": 25.5,
            "count": 0
           },
           {
            "bin_start": 25.5,
            "bin_end": 27,
            "count": 1
           }
          ]
         }
        },
        {
         "name": "PEER_PRESSURE",
         "dtype": "int64",
         "stats": {
          "unique_count": 2,
          "nan_count": 0,
          "min": "10",
          "max": "29",
          "histogram": [
           {
            "bin_start": 10,
            "bin_end": 11.9,
            "count": 1
           },
           {
            "bin_start": 11.9,
            "bin_end": 13.8,
            "count": 0
           },
           {
            "bin_start": 13.8,
            "bin_end": 15.7,
            "count": 0
           },
           {
            "bin_start": 15.7,
            "bin_end": 17.6,
            "count": 0
           },
           {
            "bin_start": 17.6,
            "bin_end": 19.5,
            "count": 0
           },
           {
            "bin_start": 19.5,
            "bin_end": 21.4,
            "count": 0
           },
           {
            "bin_start": 21.4,
            "bin_end": 23.299999999999997,
            "count": 0
           },
           {
            "bin_start": 23.299999999999997,
            "bin_end": 25.2,
            "count": 0
           },
           {
            "bin_start": 25.2,
            "bin_end": 27.099999999999998,
            "count": 0
           },
           {
            "bin_start": 27.099999999999998,
            "bin_end": 29,
            "count": 1
           }
          ]
         }
        },
        {
         "name": "CHRONIC DISEASE",
         "dtype": "int64",
         "stats": {
          "unique_count": 2,
          "nan_count": 0,
          "min": "14",
          "max": "25",
          "histogram": [
           {
            "bin_start": 14,
            "bin_end": 15.1,
            "count": 1
           },
           {
            "bin_start": 15.1,
            "bin_end": 16.2,
            "count": 0
           },
           {
            "bin_start": 16.2,
            "bin_end": 17.3,
            "count": 0
           },
           {
            "bin_start": 17.3,
            "bin_end": 18.4,
            "count": 0
           },
           {
            "bin_start": 18.4,
            "bin_end": 19.5,
            "count": 0
           },
           {
            "bin_start": 19.5,
            "bin_end": 20.6,
            "count": 0
           },
           {
            "bin_start": 20.6,
            "bin_end": 21.700000000000003,
            "count": 0
           },
           {
            "bin_start": 21.700000000000003,
            "bin_end": 22.8,
            "count": 0
           },
           {
            "bin_start": 22.8,
            "bin_end": 23.9,
            "count": 0
           },
           {
            "bin_start": 23.9,
            "bin_end": 25,
            "count": 1
           }
          ]
         }
        },
        {
         "name": "FATIGUE ",
         "dtype": "int64",
         "stats": {
          "unique_count": 2,
          "nan_count": 0,
          "min": "19",
          "max": "20",
          "histogram": [
           {
            "bin_start": 19,
            "bin_end": 19.1,
            "count": 1
           },
           {
            "bin_start": 19.1,
            "bin_end": 19.2,
            "count": 0
           },
           {
            "bin_start": 19.2,
            "bin_end": 19.3,
            "count": 0
           },
           {
            "bin_start": 19.3,
            "bin_end": 19.4,
            "count": 0
           },
           {
            "bin_start": 19.4,
            "bin_end": 19.5,
            "count": 0
           },
           {
            "bin_start": 19.5,
            "bin_end": 19.6,
            "count": 0
           },
           {
            "bin_start": 19.6,
            "bin_end": 19.7,
            "count": 0
           },
           {
            "bin_start": 19.7,
            "bin_end": 19.8,
            "count": 0
           },
           {
            "bin_start": 19.8,
            "bin_end": 19.9,
            "count": 0
           },
           {
            "bin_start": 19.9,
            "bin_end": 20,
            "count": 1
           }
          ]
         }
        },
        {
         "name": "ALLERGY ",
         "dtype": "int64",
         "stats": {
          "unique_count": 2,
          "nan_count": 0,
          "min": "5",
          "max": "34",
          "histogram": [
           {
            "bin_start": 5,
            "bin_end": 7.9,
            "count": 1
           },
           {
            "bin_start": 7.9,
            "bin_end": 10.8,
            "count": 0
           },
           {
            "bin_start": 10.8,
            "bin_end": 13.7,
            "count": 0
           },
           {
            "bin_start": 13.7,
            "bin_end": 16.6,
            "count": 0
           },
           {
            "bin_start": 16.6,
            "bin_end": 19.5,
            "count": 0
           },
           {
            "bin_start": 19.5,
            "bin_end": 22.4,
            "count": 0
           },
           {
            "bin_start": 22.4,
            "bin_end": 25.3,
            "count": 0
           },
           {
            "bin_start": 25.3,
            "bin_end": 28.2,
            "count": 0
           },
           {
            "bin_start": 28.2,
            "bin_end": 31.099999999999998,
            "count": 0
           },
           {
            "bin_start": 31.099999999999998,
            "bin_end": 34,
            "count": 1
           }
          ]
         }
        },
        {
         "name": "WHEEZING",
         "dtype": "int64",
         "stats": {
          "unique_count": 2,
          "nan_count": 0,
          "min": "9",
          "max": "30",
          "histogram": [
           {
            "bin_start": 9,
            "bin_end": 11.1,
            "count": 1
           },
           {
            "bin_start": 11.1,
            "bin_end": 13.2,
            "count": 0
           },
           {
            "bin_start": 13.2,
            "bin_end": 15.3,
            "count": 0
           },
           {
            "bin_start": 15.3,
            "bin_end": 17.4,
            "count": 0
           },
           {
            "bin_start": 17.4,
            "bin_end": 19.5,
            "count": 0
           },
           {
            "bin_start": 19.5,
            "bin_end": 21.6,
            "count": 0
           },
           {
            "bin_start": 21.6,
            "bin_end": 23.700000000000003,
            "count": 0
           },
           {
            "bin_start": 23.700000000000003,
            "bin_end": 25.8,
            "count": 0
           },
           {
            "bin_start": 25.8,
            "bin_end": 27.900000000000002,
            "count": 0
           },
           {
            "bin_start": 27.900000000000002,
            "bin_end": 30,
            "count": 1
           }
          ]
         }
        },
        {
         "name": "ALCOHOL CONSUMING",
         "dtype": "int64",
         "stats": {
          "unique_count": 2,
          "nan_count": 0,
          "min": "7",
          "max": "32",
          "histogram": [
           {
            "bin_start": 7,
            "bin_end": 9.5,
            "count": 1
           },
           {
            "bin_start": 9.5,
            "bin_end": 12,
            "count": 0
           },
           {
            "bin_start": 12,
            "bin_end": 14.5,
            "count": 0
           },
           {
            "bin_start": 14.5,
            "bin_end": 17,
            "count": 0
           },
           {
            "bin_start": 17,
            "bin_end": 19.5,
            "count": 0
           },
           {
            "bin_start": 19.5,
            "bin_end": 22,
            "count": 0
           },
           {
            "bin_start": 22,
            "bin_end": 24.5,
            "count": 0
           },
           {
            "bin_start": 24.5,
            "bin_end": 27,
            "count": 0
           },
           {
            "bin_start": 27,
            "bin_end": 29.5,
            "count": 0
           },
           {
            "bin_start": 29.5,
            "bin_end": 32,
            "count": 1
           }
          ]
         }
        },
        {
         "name": "COUGHING",
         "dtype": "int64",
         "stats": {
          "unique_count": 2,
          "nan_count": 0,
          "min": "10",
          "max": "29",
          "histogram": [
           {
            "bin_start": 10,
            "bin_end": 11.9,
            "count": 1
           },
           {
            "bin_start": 11.9,
            "bin_end": 13.8,
            "count": 0
           },
           {
            "bin_start": 13.8,
            "bin_end": 15.7,
            "count": 0
           },
           {
            "bin_start": 15.7,
            "bin_end": 17.6,
            "count": 0
           },
           {
            "bin_start": 17.6,
            "bin_end": 19.5,
            "count": 0
           },
           {
            "bin_start": 19.5,
            "bin_end": 21.4,
            "count": 0
           },
           {
            "bin_start": 21.4,
            "bin_end": 23.299999999999997,
            "count": 0
           },
           {
            "bin_start": 23.299999999999997,
            "bin_end": 25.2,
            "count": 0
           },
           {
            "bin_start": 25.2,
            "bin_end": 27.099999999999998,
            "count": 0
           },
           {
            "bin_start": 27.099999999999998,
            "bin_end": 29,
            "count": 1
           }
          ]
         }
        },
        {
         "name": "SHORTNESS OF BREATH",
         "dtype": "int64",
         "stats": {
          "unique_count": 2,
          "nan_count": 0,
          "min": "17",
          "max": "22",
          "histogram": [
           {
            "bin_start": 17,
            "bin_end": 17.5,
            "count": 1
           },
           {
            "bin_start": 17.5,
            "bin_end": 18,
            "count": 0
           },
           {
            "bin_start": 18,
            "bin_end": 18.5,
            "count": 0
           },
           {
            "bin_start": 18.5,
            "bin_end": 19,
            "count": 0
           },
           {
            "bin_start": 19,
            "bin_end": 19.5,
            "count": 0
           },
           {
            "bin_start": 19.5,
            "bin_end": 20,
            "count": 0
           },
           {
            "bin_start": 20,
            "bin_end": 20.5,
            "count": 0
           },
           {
            "bin_start": 20.5,
            "bin_end": 21,
            "count": 0
           },
           {
            "bin_start": 21,
            "bin_end": 21.5,
            "count": 0
           },
           {
            "bin_start": 21.5,
            "bin_end": 22,
            "count": 1
           }
          ]
         }
        },
        {
         "name": "SWALLOWING DIFFICULTY",
         "dtype": "int64",
         "stats": {
          "unique_count": 2,
          "nan_count": 0,
          "min": "5",
          "max": "34",
          "histogram": [
           {
            "bin_start": 5,
            "bin_end": 7.9,
            "count": 1
           },
           {
            "bin_start": 7.9,
            "bin_end": 10.8,
            "count": 0
           },
           {
            "bin_start": 10.8,
            "bin_end": 13.7,
            "count": 0
           },
           {
            "bin_start": 13.7,
            "bin_end": 16.6,
            "count": 0
           },
           {
            "bin_start": 16.6,
            "bin_end": 19.5,
            "count": 0
           },
           {
            "bin_start": 19.5,
            "bin_end": 22.4,
            "count": 0
           },
           {
            "bin_start": 22.4,
            "bin_end": 25.3,
            "count": 0
           },
           {
            "bin_start": 25.3,
            "bin_end": 28.2,
            "count": 0
           },
           {
            "bin_start": 28.2,
            "bin_end": 31.099999999999998,
            "count": 0
           },
           {
            "bin_start": 31.099999999999998,
            "bin_end": 34,
            "count": 1
           }
          ]
         }
        },
        {
         "name": "CHEST PAIN",
         "dtype": "int64",
         "stats": {
          "unique_count": 2,
          "nan_count": 0,
          "min": "12",
          "max": "27",
          "histogram": [
           {
            "bin_start": 12,
            "bin_end": 13.5,
            "count": 1
           },
           {
            "bin_start": 13.5,
            "bin_end": 15,
            "count": 0
           },
           {
            "bin_start": 15,
            "bin_end": 16.5,
            "count": 0
           },
           {
            "bin_start": 16.5,
            "bin_end": 18,
            "count": 0
           },
           {
            "bin_start": 18,
            "bin_end": 19.5,
            "count": 0
           },
           {
            "bin_start": 19.5,
            "bin_end": 21,
            "count": 0
           },
           {
            "bin_start": 21,
            "bin_end": 22.5,
            "count": 0
           },
           {
            "bin_start": 22.5,
            "bin_end": 24,
            "count": 0
           },
           {
            "bin_start": 24,
            "bin_end": 25.5,
            "count": 0
           },
           {
            "bin_start": 25.5,
            "bin_end": 27,
            "count": 1
           }
          ]
         }
        },
        {
         "name": "_deepnote_index_column",
         "dtype": "int64"
        }
       ],
       "rows": [
        {
         "SMOKING": 20,
         "YELLOW_FINGERS": 26,
         "ANXIETY": 27,
         "PEER_PRESSURE": 29,
         "CHRONIC DISEASE": 25,
         "FATIGUE ": 20,
         "ALLERGY ": 34,
         "WHEEZING": 30,
         "ALCOHOL CONSUMING": 32,
         "COUGHING": 29,
         "SHORTNESS OF BREATH": 17,
         "SWALLOWING DIFFICULTY": 34,
         "CHEST PAIN": 27,
         "_deepnote_index_column": 0
        },
        {
         "SMOKING": 19,
         "YELLOW_FINGERS": 13,
         "ANXIETY": 12,
         "PEER_PRESSURE": 10,
         "CHRONIC DISEASE": 14,
         "FATIGUE ": 19,
         "ALLERGY ": 5,
         "WHEEZING": 9,
         "ALCOHOL CONSUMING": 7,
         "COUGHING": 10,
         "SHORTNESS OF BREATH": 22,
         "SWALLOWING DIFFICULTY": 5,
         "CHEST PAIN": 12,
         "_deepnote_index_column": 1
        }
       ]
      },
      "text/plain": "   SMOKING  YELLOW_FINGERS  ANXIETY  PEER_PRESSURE  CHRONIC DISEASE  FATIGUE   \\\n0       20              26       27             29               25        20   \n1       19              13       12             10               14        19   \n\n   ALLERGY   WHEEZING  ALCOHOL CONSUMING  COUGHING  SHORTNESS OF BREATH  \\\n0        34        30                 32        29                   17   \n1         5         9                  7        10                   22   \n\n   SWALLOWING DIFFICULTY  CHEST PAIN  \n0                     34          27  \n1                      5          12  ",
      "text/html": "<div>\n<style scoped>\n    .dataframe tbody tr th:only-of-type {\n        vertical-align: middle;\n    }\n\n    .dataframe tbody tr th {\n        vertical-align: top;\n    }\n\n    .dataframe thead th {\n        text-align: right;\n    }\n</style>\n<table border=\"1\" class=\"dataframe\">\n  <thead>\n    <tr style=\"text-align: right;\">\n      <th></th>\n      <th>SMOKING</th>\n      <th>YELLOW_FINGERS</th>\n      <th>ANXIETY</th>\n      <th>PEER_PRESSURE</th>\n      <th>CHRONIC DISEASE</th>\n      <th>FATIGUE</th>\n      <th>ALLERGY</th>\n      <th>WHEEZING</th>\n      <th>ALCOHOL CONSUMING</th>\n      <th>COUGHING</th>\n      <th>SHORTNESS OF BREATH</th>\n      <th>SWALLOWING DIFFICULTY</th>\n      <th>CHEST PAIN</th>\n    </tr>\n  </thead>\n  <tbody>\n    <tr>\n      <th>0</th>\n      <td>20</td>\n      <td>26</td>\n      <td>27</td>\n      <td>29</td>\n      <td>25</td>\n      <td>20</td>\n      <td>34</td>\n      <td>30</td>\n      <td>32</td>\n      <td>29</td>\n      <td>17</td>\n      <td>34</td>\n      <td>27</td>\n    </tr>\n    <tr>\n      <th>1</th>\n      <td>19</td>\n      <td>13</td>\n      <td>12</td>\n      <td>10</td>\n      <td>14</td>\n      <td>19</td>\n      <td>5</td>\n      <td>9</td>\n      <td>7</td>\n      <td>10</td>\n      <td>22</td>\n      <td>5</td>\n      <td>12</td>\n    </tr>\n  </tbody>\n</table>\n</div>"
     },
     "metadata": {}
    }
   ]
  },
  {
   "cell_type": "code",
   "metadata": {
    "cell_id": "d72fd3cdd949424291e782718166c24c",
    "tags": [],
    "deepnote_to_be_reexecuted": false,
    "source_hash": "49f13a90",
    "execution_start": 1653093462280,
    "execution_millis": 27,
    "deepnote_cell_type": "code",
    "deepnote_cell_height": 1002,
    "deepnote_output_heights": [
     527
    ]
   },
   "source": "fig = go.Figure()\n\nfig.add_trace(\n    go.Bar(\n        name = 'NO',\n        y = cancer_free.iloc[0].values,\n        x = cancer_free.columns,\n        orientation='v'\n    )\n)\n\nfig.add_trace(\n    go.Bar(\n        name = 'YES',\n        y = cancer_free.iloc[1].values,\n        x = cancer_free.columns,\n        orientation='v'\n    )\n)\n\nfig.update_layout(title = 'Habits/symptoms of cancer-free people',)\nfig.show()",
   "execution_count": 17,
   "outputs": [
    {
     "data": {
      "text/html": "<html>\n<head><meta charset=\"utf-8\" /></head>\n<body>\n    <div>            <script src=\"https://cdnjs.cloudflare.com/ajax/libs/mathjax/2.7.5/MathJax.js?config=TeX-AMS-MML_SVG\"></script><script type=\"text/javascript\">if (window.MathJax) {MathJax.Hub.Config({SVG: {font: \"STIX-Web\"}});}</script>                <script type=\"text/javascript\">window.PlotlyConfig = {MathJaxConfig: 'local'};</script>\n        <script src=\"https://cdn.plot.ly/plotly-2.11.1.min.js\"></script>                <div id=\"5546410e-6bb2-47df-a5f2-9423b484623d\" class=\"plotly-graph-div\" style=\"height:525px; width:100%;\"></div>            <script type=\"text/javascript\">                                    window.PLOTLYENV=window.PLOTLYENV || {};                                    if (document.getElementById(\"5546410e-6bb2-47df-a5f2-9423b484623d\")) {                    Plotly.newPlot(                        \"5546410e-6bb2-47df-a5f2-9423b484623d\",                        [{\"name\":\"NO\",\"orientation\":\"v\",\"x\":[\"SMOKING\",\"YELLOW_FINGERS\",\"ANXIETY\",\"PEER_PRESSURE\",\"CHRONIC DISEASE\",\"FATIGUE \",\"ALLERGY \",\"WHEEZING\",\"ALCOHOL CONSUMING\",\"COUGHING\",\"SHORTNESS OF BREATH\",\"SWALLOWING DIFFICULTY\",\"CHEST PAIN\"],\"y\":[20,26,27,29,25,20,34,30,32,29,17,34,27],\"type\":\"bar\"},{\"name\":\"YES\",\"orientation\":\"v\",\"x\":[\"SMOKING\",\"YELLOW_FINGERS\",\"ANXIETY\",\"PEER_PRESSURE\",\"CHRONIC DISEASE\",\"FATIGUE \",\"ALLERGY \",\"WHEEZING\",\"ALCOHOL CONSUMING\",\"COUGHING\",\"SHORTNESS OF BREATH\",\"SWALLOWING DIFFICULTY\",\"CHEST PAIN\"],\"y\":[19,13,12,10,14,19,5,9,7,10,22,5,12],\"type\":\"bar\"}],                        {\"template\":{\"data\":{\"histogram2dcontour\":[{\"type\":\"histogram2dcontour\",\"colorbar\":{\"outlinewidth\":0,\"ticks\":\"\"},\"colorscale\":[[0.0,\"#0d0887\"],[0.1111111111111111,\"#46039f\"],[0.2222222222222222,\"#7201a8\"],[0.3333333333333333,\"#9c179e\"],[0.4444444444444444,\"#bd3786\"],[0.5555555555555556,\"#d8576b\"],[0.6666666666666666,\"#ed7953\"],[0.7777777777777778,\"#fb9f3a\"],[0.8888888888888888,\"#fdca26\"],[1.0,\"#f0f921\"]]}],\"choropleth\":[{\"type\":\"choropleth\",\"colorbar\":{\"outlinewidth\":0,\"ticks\":\"\"}}],\"histogram2d\":[{\"type\":\"histogram2d\",\"colorbar\":{\"outlinewidth\":0,\"ticks\":\"\"},\"colorscale\":[[0.0,\"#0d0887\"],[0.1111111111111111,\"#46039f\"],[0.2222222222222222,\"#7201a8\"],[0.3333333333333333,\"#9c179e\"],[0.4444444444444444,\"#bd3786\"],[0.5555555555555556,\"#d8576b\"],[0.6666666666666666,\"#ed7953\"],[0.7777777777777778,\"#fb9f3a\"],[0.8888888888888888,\"#fdca26\"],[1.0,\"#f0f921\"]]}],\"heatmap\":[{\"type\":\"heatmap\",\"colorbar\":{\"outlinewidth\":0,\"ticks\":\"\"},\"colorscale\":[[0.0,\"#0d0887\"],[0.1111111111111111,\"#46039f\"],[0.2222222222222222,\"#7201a8\"],[0.3333333333333333,\"#9c179e\"],[0.4444444444444444,\"#bd3786\"],[0.5555555555555556,\"#d8576b\"],[0.6666666666666666,\"#ed7953\"],[0.7777777777777778,\"#fb9f3a\"],[0.8888888888888888,\"#fdca26\"],[1.0,\"#f0f921\"]]}],\"heatmapgl\":[{\"type\":\"heatmapgl\",\"colorbar\":{\"outlinewidth\":0,\"ticks\":\"\"},\"colorscale\":[[0.0,\"#0d0887\"],[0.1111111111111111,\"#46039f\"],[0.2222222222222222,\"#7201a8\"],[0.3333333333333333,\"#9c179e\"],[0.4444444444444444,\"#bd3786\"],[0.5555555555555556,\"#d8576b\"],[0.6666666666666666,\"#ed7953\"],[0.7777777777777778,\"#fb9f3a\"],[0.8888888888888888,\"#fdca26\"],[1.0,\"#f0f921\"]]}],\"contourcarpet\":[{\"type\":\"contourcarpet\",\"colorbar\":{\"outlinewidth\":0,\"ticks\":\"\"}}],\"contour\":[{\"type\":\"contour\",\"colorbar\":{\"outlinewidth\":0,\"ticks\":\"\"},\"colorscale\":[[0.0,\"#0d0887\"],[0.1111111111111111,\"#46039f\"],[0.2222222222222222,\"#7201a8\"],[0.3333333333333333,\"#9c179e\"],[0.4444444444444444,\"#bd3786\"],[0.5555555555555556,\"#d8576b\"],[0.6666666666666666,\"#ed7953\"],[0.7777777777777778,\"#fb9f3a\"],[0.8888888888888888,\"#fdca26\"],[1.0,\"#f0f921\"]]}],\"surface\":[{\"type\":\"surface\",\"colorbar\":{\"outlinewidth\":0,\"ticks\":\"\"},\"colorscale\":[[0.0,\"#0d0887\"],[0.1111111111111111,\"#46039f\"],[0.2222222222222222,\"#7201a8\"],[0.3333333333333333,\"#9c179e\"],[0.4444444444444444,\"#bd3786\"],[0.5555555555555556,\"#d8576b\"],[0.6666666666666666,\"#ed7953\"],[0.7777777777777778,\"#fb9f3a\"],[0.8888888888888888,\"#fdca26\"],[1.0,\"#f0f921\"]]}],\"mesh3d\":[{\"type\":\"mesh3d\",\"colorbar\":{\"outlinewidth\":0,\"ticks\":\"\"}}],\"scatter\":[{\"fillpattern\":{\"fillmode\":\"overlay\",\"size\":10,\"solidity\":0.2},\"type\":\"scatter\"}],\"parcoords\":[{\"type\":\"parcoords\",\"line\":{\"colorbar\":{\"outlinewidth\":0,\"ticks\":\"\"}}}],\"scatterpolargl\":[{\"type\":\"scatterpolargl\",\"marker\":{\"colorbar\":{\"outlinewidth\":0,\"ticks\":\"\"}}}],\"bar\":[{\"error_x\":{\"color\":\"#2a3f5f\"},\"error_y\":{\"color\":\"#2a3f5f\"},\"marker\":{\"line\":{\"color\":\"#E5ECF6\",\"width\":0.5},\"pattern\":{\"fillmode\":\"overlay\",\"size\":10,\"solidity\":0.2}},\"type\":\"bar\"}],\"scattergeo\":[{\"type\":\"scattergeo\",\"marker\":{\"colorbar\":{\"outlinewidth\":0,\"ticks\":\"\"}}}],\"scatterpolar\":[{\"type\":\"scatterpolar\",\"marker\":{\"colorbar\":{\"outlinewidth\":0,\"ticks\":\"\"}}}],\"histogram\":[{\"marker\":{\"pattern\":{\"fillmode\":\"overlay\",\"size\":10,\"solidity\":0.2}},\"type\":\"histogram\"}],\"scattergl\":[{\"type\":\"scattergl\",\"marker\":{\"colorbar\":{\"outlinewidth\":0,\"ticks\":\"\"}}}],\"scatter3d\":[{\"type\":\"scatter3d\",\"line\":{\"colorbar\":{\"outlinewidth\":0,\"ticks\":\"\"}},\"marker\":{\"colorbar\":{\"outlinewidth\":0,\"ticks\":\"\"}}}],\"scattermapbox\":[{\"type\":\"scattermapbox\",\"marker\":{\"colorbar\":{\"outlinewidth\":0,\"ticks\":\"\"}}}],\"scatterternary\":[{\"type\":\"scatterternary\",\"marker\":{\"colorbar\":{\"outlinewidth\":0,\"ticks\":\"\"}}}],\"scattercarpet\":[{\"type\":\"scattercarpet\",\"marker\":{\"colorbar\":{\"outlinewidth\":0,\"ticks\":\"\"}}}],\"carpet\":[{\"aaxis\":{\"endlinecolor\":\"#2a3f5f\",\"gridcolor\":\"white\",\"linecolor\":\"white\",\"minorgridcolor\":\"white\",\"startlinecolor\":\"#2a3f5f\"},\"baxis\":{\"endlinecolor\":\"#2a3f5f\",\"gridcolor\":\"white\",\"linecolor\":\"white\",\"minorgridcolor\":\"white\",\"startlinecolor\":\"#2a3f5f\"},\"type\":\"carpet\"}],\"table\":[{\"cells\":{\"fill\":{\"color\":\"#EBF0F8\"},\"line\":{\"color\":\"white\"}},\"header\":{\"fill\":{\"color\":\"#C8D4E3\"},\"line\":{\"color\":\"white\"}},\"type\":\"table\"}],\"barpolar\":[{\"marker\":{\"line\":{\"color\":\"#E5ECF6\",\"width\":0.5},\"pattern\":{\"fillmode\":\"overlay\",\"size\":10,\"solidity\":0.2}},\"type\":\"barpolar\"}],\"pie\":[{\"automargin\":true,\"type\":\"pie\"}]},\"layout\":{\"autotypenumbers\":\"strict\",\"colorway\":[\"#636efa\",\"#EF553B\",\"#00cc96\",\"#ab63fa\",\"#FFA15A\",\"#19d3f3\",\"#FF6692\",\"#B6E880\",\"#FF97FF\",\"#FECB52\"],\"font\":{\"color\":\"#2a3f5f\"},\"hovermode\":\"closest\",\"hoverlabel\":{\"align\":\"left\"},\"paper_bgcolor\":\"white\",\"plot_bgcolor\":\"#E5ECF6\",\"polar\":{\"bgcolor\":\"#E5ECF6\",\"angularaxis\":{\"gridcolor\":\"white\",\"linecolor\":\"white\",\"ticks\":\"\"},\"radialaxis\":{\"gridcolor\":\"white\",\"linecolor\":\"white\",\"ticks\":\"\"}},\"ternary\":{\"bgcolor\":\"#E5ECF6\",\"aaxis\":{\"gridcolor\":\"white\",\"linecolor\":\"white\",\"ticks\":\"\"},\"baxis\":{\"gridcolor\":\"white\",\"linecolor\":\"white\",\"ticks\":\"\"},\"caxis\":{\"gridcolor\":\"white\",\"linecolor\":\"white\",\"ticks\":\"\"}},\"coloraxis\":{\"colorbar\":{\"outlinewidth\":0,\"ticks\":\"\"}},\"colorscale\":{\"sequential\":[[0.0,\"#0d0887\"],[0.1111111111111111,\"#46039f\"],[0.2222222222222222,\"#7201a8\"],[0.3333333333333333,\"#9c179e\"],[0.4444444444444444,\"#bd3786\"],[0.5555555555555556,\"#d8576b\"],[0.6666666666666666,\"#ed7953\"],[0.7777777777777778,\"#fb9f3a\"],[0.8888888888888888,\"#fdca26\"],[1.0,\"#f0f921\"]],\"sequentialminus\":[[0.0,\"#0d0887\"],[0.1111111111111111,\"#46039f\"],[0.2222222222222222,\"#7201a8\"],[0.3333333333333333,\"#9c179e\"],[0.4444444444444444,\"#bd3786\"],[0.5555555555555556,\"#d8576b\"],[0.6666666666666666,\"#ed7953\"],[0.7777777777777778,\"#fb9f3a\"],[0.8888888888888888,\"#fdca26\"],[1.0,\"#f0f921\"]],\"diverging\":[[0,\"#8e0152\"],[0.1,\"#c51b7d\"],[0.2,\"#de77ae\"],[0.3,\"#f1b6da\"],[0.4,\"#fde0ef\"],[0.5,\"#f7f7f7\"],[0.6,\"#e6f5d0\"],[0.7,\"#b8e186\"],[0.8,\"#7fbc41\"],[0.9,\"#4d9221\"],[1,\"#276419\"]]},\"xaxis\":{\"gridcolor\":\"white\",\"linecolor\":\"white\",\"ticks\":\"\",\"title\":{\"standoff\":15},\"zerolinecolor\":\"white\",\"automargin\":true,\"zerolinewidth\":2},\"yaxis\":{\"gridcolor\":\"white\",\"linecolor\":\"white\",\"ticks\":\"\",\"title\":{\"standoff\":15},\"zerolinecolor\":\"white\",\"automargin\":true,\"zerolinewidth\":2},\"scene\":{\"xaxis\":{\"backgroundcolor\":\"#E5ECF6\",\"gridcolor\":\"white\",\"linecolor\":\"white\",\"showbackground\":true,\"ticks\":\"\",\"zerolinecolor\":\"white\",\"gridwidth\":2},\"yaxis\":{\"backgroundcolor\":\"#E5ECF6\",\"gridcolor\":\"white\",\"linecolor\":\"white\",\"showbackground\":true,\"ticks\":\"\",\"zerolinecolor\":\"white\",\"gridwidth\":2},\"zaxis\":{\"backgroundcolor\":\"#E5ECF6\",\"gridcolor\":\"white\",\"linecolor\":\"white\",\"showbackground\":true,\"ticks\":\"\",\"zerolinecolor\":\"white\",\"gridwidth\":2}},\"shapedefaults\":{\"line\":{\"color\":\"#2a3f5f\"}},\"annotationdefaults\":{\"arrowcolor\":\"#2a3f5f\",\"arrowhead\":0,\"arrowwidth\":1},\"geo\":{\"bgcolor\":\"white\",\"landcolor\":\"#E5ECF6\",\"subunitcolor\":\"white\",\"showland\":true,\"showlakes\":true,\"lakecolor\":\"white\"},\"title\":{\"x\":0.05},\"mapbox\":{\"style\":\"light\"}}},\"title\":{\"text\":\"Habits/symptoms of cancer-free people\"}},                        {\"responsive\": true}                    ).then(function(){\n                            \nvar gd = document.getElementById('5546410e-6bb2-47df-a5f2-9423b484623d');\nvar x = new MutationObserver(function (mutations, observer) {{\n        var display = window.getComputedStyle(gd).display;\n        if (!display || display === 'none') {{\n            console.log([gd, 'removed!']);\n            Plotly.purge(gd);\n            observer.disconnect();\n        }}\n}});\n\n// Listen for the removal of the full notebook cells\nvar notebookContainer = gd.closest('#notebook-container');\nif (notebookContainer) {{\n    x.observe(notebookContainer, {childList: true});\n}}\n\n// Listen for the clearing of the current output cell\nvar outputEl = gd.closest('.output');\nif (outputEl) {{\n    x.observe(outputEl, {childList: true});\n}}\n\n                        })                };                            </script>        </div>\n</body>\n</html>"
     },
     "metadata": {},
     "output_type": "display_data"
    }
   ]
  },
  {
   "cell_type": "code",
   "metadata": {
    "cell_id": "2c69430b808847dea2263dd0c6ae6aec",
    "tags": [],
    "deepnote_to_be_reexecuted": false,
    "source_hash": "107c0e50",
    "execution_start": 1653093462310,
    "execution_millis": 71,
    "deepnote_cell_type": "code",
    "deepnote_cell_height": 660,
    "deepnote_output_heights": [
     527
    ]
   },
   "source": "fig = go.Figure()\n\nfig.add_trace(go.Histogram(x = data['AGE'].values))",
   "execution_count": 18,
   "outputs": [
    {
     "data": {
      "text/html": "<html>\n<head><meta charset=\"utf-8\" /></head>\n<body>\n    <div>            <script src=\"https://cdnjs.cloudflare.com/ajax/libs/mathjax/2.7.5/MathJax.js?config=TeX-AMS-MML_SVG\"></script><script type=\"text/javascript\">if (window.MathJax) {MathJax.Hub.Config({SVG: {font: \"STIX-Web\"}});}</script>                <script type=\"text/javascript\">window.PlotlyConfig = {MathJaxConfig: 'local'};</script>\n        <script src=\"https://cdn.plot.ly/plotly-2.11.1.min.js\"></script>                <div id=\"625784f1-9858-4e81-bf70-e59af943a915\" class=\"plotly-graph-div\" style=\"height:525px; width:100%;\"></div>            <script type=\"text/javascript\">                                    window.PLOTLYENV=window.PLOTLYENV || {};                                    if (document.getElementById(\"625784f1-9858-4e81-bf70-e59af943a915\")) {                    Plotly.newPlot(                        \"625784f1-9858-4e81-bf70-e59af943a915\",                        [{\"x\":[69,74,59,63,63,75,52,51,68,53,61,72,60,58,69,48,75,57,68,61,44,64,21,60,72,65,61,69,53,55,57,62,56,67,59,59,60,56,56,60,68,63,77,52,70,72,62,64,70,60,56,63,54,49,57,52,63,73,47,69,70,60,70,68,74,71,56,66,76,78,68,66,67,60,61,58,76,56,67,73,58,54,62,81,56,60,66,62,62,55,62,71,52,59,48,60,61,59,64,56,58,81,64,62,72,60,61,60,49,53,58,61,68,60,72,72,57,51,54,56,77,64,57,66,70,53,51,58,58,63,51,61,61,76,71,69,56,67,54,63,47,62,65,63,64,65,51,56,70,58,67,62,74,69,64,75,47,57,56,68,55,62,73,68,75,63,61,62,44,56,54,57,56,69,72,59,70,64,61,72,63,74,71,71,72,77,72,55,65,67,69,55,51,64,63,69,64,59,73,55,63,60,74,65,79,62,71,63,67,55,54,77,58,64,61,62,67,56,70,70,57,61,77,63,62,59,70,71,56,57,78,64,62,49,77,64,63,54,38,75,70,59,77,61,64,59,71,67,64,68,69,64,59,67,74,77,60,64,70,58,59,39,67,71,70,60,55,60,55,55,70,63,64,59,56,64,62,87,77,59,59,55,46,60,58,58,63,51,61,61,76,71,69,56,67,54,63,47,62,65,63,64,65,51,56,70,58,67,62],\"type\":\"histogram\"}],                        {\"template\":{\"data\":{\"histogram2dcontour\":[{\"type\":\"histogram2dcontour\",\"colorbar\":{\"outlinewidth\":0,\"ticks\":\"\"},\"colorscale\":[[0.0,\"#0d0887\"],[0.1111111111111111,\"#46039f\"],[0.2222222222222222,\"#7201a8\"],[0.3333333333333333,\"#9c179e\"],[0.4444444444444444,\"#bd3786\"],[0.5555555555555556,\"#d8576b\"],[0.6666666666666666,\"#ed7953\"],[0.7777777777777778,\"#fb9f3a\"],[0.8888888888888888,\"#fdca26\"],[1.0,\"#f0f921\"]]}],\"choropleth\":[{\"type\":\"choropleth\",\"colorbar\":{\"outlinewidth\":0,\"ticks\":\"\"}}],\"histogram2d\":[{\"type\":\"histogram2d\",\"colorbar\":{\"outlinewidth\":0,\"ticks\":\"\"},\"colorscale\":[[0.0,\"#0d0887\"],[0.1111111111111111,\"#46039f\"],[0.2222222222222222,\"#7201a8\"],[0.3333333333333333,\"#9c179e\"],[0.4444444444444444,\"#bd3786\"],[0.5555555555555556,\"#d8576b\"],[0.6666666666666666,\"#ed7953\"],[0.7777777777777778,\"#fb9f3a\"],[0.8888888888888888,\"#fdca26\"],[1.0,\"#f0f921\"]]}],\"heatmap\":[{\"type\":\"heatmap\",\"colorbar\":{\"outlinewidth\":0,\"ticks\":\"\"},\"colorscale\":[[0.0,\"#0d0887\"],[0.1111111111111111,\"#46039f\"],[0.2222222222222222,\"#7201a8\"],[0.3333333333333333,\"#9c179e\"],[0.4444444444444444,\"#bd3786\"],[0.5555555555555556,\"#d8576b\"],[0.6666666666666666,\"#ed7953\"],[0.7777777777777778,\"#fb9f3a\"],[0.8888888888888888,\"#fdca26\"],[1.0,\"#f0f921\"]]}],\"heatmapgl\":[{\"type\":\"heatmapgl\",\"colorbar\":{\"outlinewidth\":0,\"ticks\":\"\"},\"colorscale\":[[0.0,\"#0d0887\"],[0.1111111111111111,\"#46039f\"],[0.2222222222222222,\"#7201a8\"],[0.3333333333333333,\"#9c179e\"],[0.4444444444444444,\"#bd3786\"],[0.5555555555555556,\"#d8576b\"],[0.6666666666666666,\"#ed7953\"],[0.7777777777777778,\"#fb9f3a\"],[0.8888888888888888,\"#fdca26\"],[1.0,\"#f0f921\"]]}],\"contourcarpet\":[{\"type\":\"contourcarpet\",\"colorbar\":{\"outlinewidth\":0,\"ticks\":\"\"}}],\"contour\":[{\"type\":\"contour\",\"colorbar\":{\"outlinewidth\":0,\"ticks\":\"\"},\"colorscale\":[[0.0,\"#0d0887\"],[0.1111111111111111,\"#46039f\"],[0.2222222222222222,\"#7201a8\"],[0.3333333333333333,\"#9c179e\"],[0.4444444444444444,\"#bd3786\"],[0.5555555555555556,\"#d8576b\"],[0.6666666666666666,\"#ed7953\"],[0.7777777777777778,\"#fb9f3a\"],[0.8888888888888888,\"#fdca26\"],[1.0,\"#f0f921\"]]}],\"surface\":[{\"type\":\"surface\",\"colorbar\":{\"outlinewidth\":0,\"ticks\":\"\"},\"colorscale\":[[0.0,\"#0d0887\"],[0.1111111111111111,\"#46039f\"],[0.2222222222222222,\"#7201a8\"],[0.3333333333333333,\"#9c179e\"],[0.4444444444444444,\"#bd3786\"],[0.5555555555555556,\"#d8576b\"],[0.6666666666666666,\"#ed7953\"],[0.7777777777777778,\"#fb9f3a\"],[0.8888888888888888,\"#fdca26\"],[1.0,\"#f0f921\"]]}],\"mesh3d\":[{\"type\":\"mesh3d\",\"colorbar\":{\"outlinewidth\":0,\"ticks\":\"\"}}],\"scatter\":[{\"fillpattern\":{\"fillmode\":\"overlay\",\"size\":10,\"solidity\":0.2},\"type\":\"scatter\"}],\"parcoords\":[{\"type\":\"parcoords\",\"line\":{\"colorbar\":{\"outlinewidth\":0,\"ticks\":\"\"}}}],\"scatterpolargl\":[{\"type\":\"scatterpolargl\",\"marker\":{\"colorbar\":{\"outlinewidth\":0,\"ticks\":\"\"}}}],\"bar\":[{\"error_x\":{\"color\":\"#2a3f5f\"},\"error_y\":{\"color\":\"#2a3f5f\"},\"marker\":{\"line\":{\"color\":\"#E5ECF6\",\"width\":0.5},\"pattern\":{\"fillmode\":\"overlay\",\"size\":10,\"solidity\":0.2}},\"type\":\"bar\"}],\"scattergeo\":[{\"type\":\"scattergeo\",\"marker\":{\"colorbar\":{\"outlinewidth\":0,\"ticks\":\"\"}}}],\"scatterpolar\":[{\"type\":\"scatterpolar\",\"marker\":{\"colorbar\":{\"outlinewidth\":0,\"ticks\":\"\"}}}],\"histogram\":[{\"marker\":{\"pattern\":{\"fillmode\":\"overlay\",\"size\":10,\"solidity\":0.2}},\"type\":\"histogram\"}],\"scattergl\":[{\"type\":\"scattergl\",\"marker\":{\"colorbar\":{\"outlinewidth\":0,\"ticks\":\"\"}}}],\"scatter3d\":[{\"type\":\"scatter3d\",\"line\":{\"colorbar\":{\"outlinewidth\":0,\"ticks\":\"\"}},\"marker\":{\"colorbar\":{\"outlinewidth\":0,\"ticks\":\"\"}}}],\"scattermapbox\":[{\"type\":\"scattermapbox\",\"marker\":{\"colorbar\":{\"outlinewidth\":0,\"ticks\":\"\"}}}],\"scatterternary\":[{\"type\":\"scatterternary\",\"marker\":{\"colorbar\":{\"outlinewidth\":0,\"ticks\":\"\"}}}],\"scattercarpet\":[{\"type\":\"scattercarpet\",\"marker\":{\"colorbar\":{\"outlinewidth\":0,\"ticks\":\"\"}}}],\"carpet\":[{\"aaxis\":{\"endlinecolor\":\"#2a3f5f\",\"gridcolor\":\"white\",\"linecolor\":\"white\",\"minorgridcolor\":\"white\",\"startlinecolor\":\"#2a3f5f\"},\"baxis\":{\"endlinecolor\":\"#2a3f5f\",\"gridcolor\":\"white\",\"linecolor\":\"white\",\"minorgridcolor\":\"white\",\"startlinecolor\":\"#2a3f5f\"},\"type\":\"carpet\"}],\"table\":[{\"cells\":{\"fill\":{\"color\":\"#EBF0F8\"},\"line\":{\"color\":\"white\"}},\"header\":{\"fill\":{\"color\":\"#C8D4E3\"},\"line\":{\"color\":\"white\"}},\"type\":\"table\"}],\"barpolar\":[{\"marker\":{\"line\":{\"color\":\"#E5ECF6\",\"width\":0.5},\"pattern\":{\"fillmode\":\"overlay\",\"size\":10,\"solidity\":0.2}},\"type\":\"barpolar\"}],\"pie\":[{\"automargin\":true,\"type\":\"pie\"}]},\"layout\":{\"autotypenumbers\":\"strict\",\"colorway\":[\"#636efa\",\"#EF553B\",\"#00cc96\",\"#ab63fa\",\"#FFA15A\",\"#19d3f3\",\"#FF6692\",\"#B6E880\",\"#FF97FF\",\"#FECB52\"],\"font\":{\"color\":\"#2a3f5f\"},\"hovermode\":\"closest\",\"hoverlabel\":{\"align\":\"left\"},\"paper_bgcolor\":\"white\",\"plot_bgcolor\":\"#E5ECF6\",\"polar\":{\"bgcolor\":\"#E5ECF6\",\"angularaxis\":{\"gridcolor\":\"white\",\"linecolor\":\"white\",\"ticks\":\"\"},\"radialaxis\":{\"gridcolor\":\"white\",\"linecolor\":\"white\",\"ticks\":\"\"}},\"ternary\":{\"bgcolor\":\"#E5ECF6\",\"aaxis\":{\"gridcolor\":\"white\",\"linecolor\":\"white\",\"ticks\":\"\"},\"baxis\":{\"gridcolor\":\"white\",\"linecolor\":\"white\",\"ticks\":\"\"},\"caxis\":{\"gridcolor\":\"white\",\"linecolor\":\"white\",\"ticks\":\"\"}},\"coloraxis\":{\"colorbar\":{\"outlinewidth\":0,\"ticks\":\"\"}},\"colorscale\":{\"sequential\":[[0.0,\"#0d0887\"],[0.1111111111111111,\"#46039f\"],[0.2222222222222222,\"#7201a8\"],[0.3333333333333333,\"#9c179e\"],[0.4444444444444444,\"#bd3786\"],[0.5555555555555556,\"#d8576b\"],[0.6666666666666666,\"#ed7953\"],[0.7777777777777778,\"#fb9f3a\"],[0.8888888888888888,\"#fdca26\"],[1.0,\"#f0f921\"]],\"sequentialminus\":[[0.0,\"#0d0887\"],[0.1111111111111111,\"#46039f\"],[0.2222222222222222,\"#7201a8\"],[0.3333333333333333,\"#9c179e\"],[0.4444444444444444,\"#bd3786\"],[0.5555555555555556,\"#d8576b\"],[0.6666666666666666,\"#ed7953\"],[0.7777777777777778,\"#fb9f3a\"],[0.8888888888888888,\"#fdca26\"],[1.0,\"#f0f921\"]],\"diverging\":[[0,\"#8e0152\"],[0.1,\"#c51b7d\"],[0.2,\"#de77ae\"],[0.3,\"#f1b6da\"],[0.4,\"#fde0ef\"],[0.5,\"#f7f7f7\"],[0.6,\"#e6f5d0\"],[0.7,\"#b8e186\"],[0.8,\"#7fbc41\"],[0.9,\"#4d9221\"],[1,\"#276419\"]]},\"xaxis\":{\"gridcolor\":\"white\",\"linecolor\":\"white\",\"ticks\":\"\",\"title\":{\"standoff\":15},\"zerolinecolor\":\"white\",\"automargin\":true,\"zerolinewidth\":2},\"yaxis\":{\"gridcolor\":\"white\",\"linecolor\":\"white\",\"ticks\":\"\",\"title\":{\"standoff\":15},\"zerolinecolor\":\"white\",\"automargin\":true,\"zerolinewidth\":2},\"scene\":{\"xaxis\":{\"backgroundcolor\":\"#E5ECF6\",\"gridcolor\":\"white\",\"linecolor\":\"white\",\"showbackground\":true,\"ticks\":\"\",\"zerolinecolor\":\"white\",\"gridwidth\":2},\"yaxis\":{\"backgroundcolor\":\"#E5ECF6\",\"gridcolor\":\"white\",\"linecolor\":\"white\",\"showbackground\":true,\"ticks\":\"\",\"zerolinecolor\":\"white\",\"gridwidth\":2},\"zaxis\":{\"backgroundcolor\":\"#E5ECF6\",\"gridcolor\":\"white\",\"linecolor\":\"white\",\"showbackground\":true,\"ticks\":\"\",\"zerolinecolor\":\"white\",\"gridwidth\":2}},\"shapedefaults\":{\"line\":{\"color\":\"#2a3f5f\"}},\"annotationdefaults\":{\"arrowcolor\":\"#2a3f5f\",\"arrowhead\":0,\"arrowwidth\":1},\"geo\":{\"bgcolor\":\"white\",\"landcolor\":\"#E5ECF6\",\"subunitcolor\":\"white\",\"showland\":true,\"showlakes\":true,\"lakecolor\":\"white\"},\"title\":{\"x\":0.05},\"mapbox\":{\"style\":\"light\"}}}},                        {\"responsive\": true}                    ).then(function(){\n                            \nvar gd = document.getElementById('625784f1-9858-4e81-bf70-e59af943a915');\nvar x = new MutationObserver(function (mutations, observer) {{\n        var display = window.getComputedStyle(gd).display;\n        if (!display || display === 'none') {{\n            console.log([gd, 'removed!']);\n            Plotly.purge(gd);\n            observer.disconnect();\n        }}\n}});\n\n// Listen for the removal of the full notebook cells\nvar notebookContainer = gd.closest('#notebook-container');\nif (notebookContainer) {{\n    x.observe(notebookContainer, {childList: true});\n}}\n\n// Listen for the clearing of the current output cell\nvar outputEl = gd.closest('.output');\nif (outputEl) {{\n    x.observe(outputEl, {childList: true});\n}}\n\n                        })                };                            </script>        </div>\n</body>\n</html>"
     },
     "metadata": {},
     "output_type": "display_data"
    }
   ]
  },
  {
   "cell_type": "code",
   "metadata": {
    "cell_id": "146ecf343bfe480ea8d0b7d6cafc9c00",
    "tags": [],
    "deepnote_to_be_reexecuted": false,
    "source_hash": "b623e53d",
    "execution_start": 1653093462380,
    "execution_millis": 3,
    "deepnote_cell_type": "code",
    "deepnote_cell_height": 81
   },
   "source": "",
   "execution_count": 18,
   "outputs": []
  },
  {
   "cell_type": "markdown",
   "source": "## Realtionship in the data",
   "metadata": {
    "cell_id": "5c3625b018da43a299c7a6c483a5b833",
    "tags": [],
    "deepnote_cell_type": "markdown",
    "deepnote_cell_height": 70
   }
  },
  {
   "cell_type": "code",
   "metadata": {
    "cell_id": "1d6aa9a3525e47b09a9b1575ca726bbf",
    "tags": [],
    "deepnote_to_be_reexecuted": false,
    "source_hash": "4573faf8",
    "execution_start": 1653093462387,
    "execution_millis": 130,
    "deepnote_cell_type": "code",
    "deepnote_cell_height": 636
   },
   "source": "corr = data.copy()\ncorr['LUNG_CANCER'] = corr['LUNG_CANCER'].map({'YES' : 2, 'NO' : 1})\ncorr.corr()",
   "execution_count": 19,
   "outputs": [
    {
     "output_type": "execute_result",
     "execution_count": 19,
     "data": {
      "application/vnd.deepnote.dataframe.v3+json": {
       "column_count": 15,
       "row_count": 15,
       "columns": [
        {
         "name": "AGE",
         "dtype": "float64",
         "stats": {
          "unique_count": 15,
          "nan_count": 0,
          "min": "-0.08447456089493073",
          "max": "1.0",
          "histogram": [
           {
            "bin_start": -0.08447456089493073,
            "bin_end": 0.023972895194562333,
            "count": 8
           },
           {
            "bin_start": 0.023972895194562333,
            "bin_end": 0.13242035128405538,
            "count": 5
           },
           {
            "bin_start": 0.13242035128405538,
            "bin_end": 0.24086780737354846,
            "count": 1
           },
           {
            "bin_start": 0.24086780737354846,
            "bin_end": 0.34931526346304154,
            "count": 0
           },
           {
            "bin_start": 0.34931526346304154,
            "bin_end": 0.4577627195525346,
            "count": 0
           },
           {
            "bin_start": 0.4577627195525346,
            "bin_end": 0.5662101756420276,
            "count": 0
           },
           {
            "bin_start": 0.5662101756420276,
            "bin_end": 0.6746576317315207,
            "count": 0
           },
           {
            "bin_start": 0.6746576317315207,
            "bin_end": 0.7831050878210137,
            "count": 0
           },
           {
            "bin_start": 0.7831050878210137,
            "bin_end": 0.8915525439105068,
            "count": 0
           },
           {
            "bin_start": 0.8915525439105068,
            "bin_end": 1,
            "count": 1
           }
          ]
         }
        },
        {
         "name": "SMOKING",
         "dtype": "float64",
         "stats": {
          "unique_count": 15,
          "nan_count": 0,
          "min": "-0.14152230873655042",
          "max": "1.0",
          "histogram": [
           {
            "bin_start": -0.14152230873655042,
            "bin_end": -0.027370077862895373,
            "count": 7
           },
           {
            "bin_start": -0.027370077862895373,
            "bin_end": 0.08678215301075967,
            "count": 5
           },
           {
            "bin_start": 0.08678215301075967,
            "bin_end": 0.2009343838844147,
            "count": 2
           },
           {
            "bin_start": 0.2009343838844147,
            "bin_end": 0.31508661475806976,
            "count": 0
           },
           {
            "bin_start": 0.31508661475806976,
            "bin_end": 0.4292388456317248,
            "count": 0
           },
           {
            "bin_start": 0.4292388456317248,
            "bin_end": 0.5433910765053798,
            "count": 0
           },
           {
            "bin_start": 0.5433910765053798,
            "bin_end": 0.6575433073790349,
            "count": 0
           },
           {
            "bin_start": 0.6575433073790349,
            "bin_end": 0.77169553825269,
            "count": 0
           },
           {
            "bin_start": 0.77169553825269,
            "bin_end": 0.8858477691263449,
            "count": 0
           },
           {
            "bin_start": 0.8858477691263449,
            "bin_end": 1,
            "count": 1
           }
          ]
         }
        },
        {
         "name": "YELLOW_FINGERS",
         "dtype": "float64",
         "stats": {
          "unique_count": 15,
          "nan_count": 0,
          "min": "-0.2890248418525368",
          "max": "1.0",
          "histogram": [
           {
            "bin_start": -0.2890248418525368,
            "bin_end": -0.1601223576672831,
            "count": 1
           },
           {
            "bin_start": -0.1601223576672831,
            "bin_end": -0.031219873482029425,
            "count": 5
           },
           {
            "bin_start": -0.031219873482029425,
            "bin_end": 0.09768261070322426,
            "count": 4
           },
           {
            "bin_start": 0.09768261070322426,
            "bin_end": 0.22658509488847794,
            "count": 1
           },
           {
            "bin_start": 0.22658509488847794,
            "bin_end": 0.3554875790737317,
            "count": 2
           },
           {
            "bin_start": 0.3554875790737317,
            "bin_end": 0.4843900632589853,
            "count": 0
           },
           {
            "bin_start": 0.4843900632589853,
            "bin_end": 0.613292547444239,
            "count": 1
           },
           {
            "bin_start": 0.613292547444239,
            "bin_end": 0.7421950316294927,
            "count": 0
           },
           {
            "bin_start": 0.7421950316294927,
            "bin_end": 0.8710975158147465,
            "count": 0
           },
           {
            "bin_start": 0.8710975158147465,
            "bin_end": 1,
            "count": 1
           }
          ]
         }
        },
        {
         "name": "ANXIETY",
         "dtype": "float64",
         "stats": {
          "unique_count": 15,
          "nan_count": 0,
          "min": "-0.22564407376360934",
          "max": "1.0",
          "histogram": [
           {
            "bin_start": -0.22564407376360934,
            "bin_end": -0.1030796663872484,
            "count": 7
           },
           {
            "bin_start": -0.1030796663872484,
            "bin_end": 0.019484740989112542,
            "count": 1
           },
           {
            "bin_start": 0.019484740989112542,
            "bin_end": 0.1420491483654735,
            "count": 1
           },
           {
            "bin_start": 0.1420491483654735,
            "bin_end": 0.2646135557418344,
            "count": 3
           },
           {
            "bin_start": 0.2646135557418344,
            "bin_end": 0.38717796311819536,
            "count": 0
           },
           {
            "bin_start": 0.38717796311819536,
            "bin_end": 0.5097423704945563,
            "count": 1
           },
           {
            "bin_start": 0.5097423704945563,
            "bin_end": 0.6323067778709173,
            "count": 1
           },
           {
            "bin_start": 0.6323067778709173,
            "bin_end": 0.7548711852472783,
            "count": 0
           },
           {
            "bin_start": 0.7548711852472783,
            "bin_end": 0.877435592623639,
            "count": 0
           },
           {
            "bin_start": 0.877435592623639,
            "bin_end": 1,
            "count": 1
           }
          ]
         }
        },
        {
         "name": "PEER_PRESSURE",
         "dtype": "float64",
         "stats": {
          "unique_count": 15,
          "nan_count": 0,
          "min": "-0.2201753392233261",
          "max": "1.0",
          "histogram": [
           {
            "bin_start": -0.2201753392233261,
            "bin_end": -0.0981578053009935,
            "count": 2
           },
           {
            "bin_start": -0.0981578053009935,
            "bin_end": 0.023859728621339116,
            "count": 6
           },
           {
            "bin_start": 0.023859728621339116,
            "bin_end": 0.14587726254367173,
            "count": 2
           },
           {
            "bin_start": 0.14587726254367173,
            "bin_end": 0.26789479646600434,
            "count": 2
           },
           {
            "bin_start": 0.26789479646600434,
            "bin_end": 0.38991233038833695,
            "count": 2
           },
           {
            "bin_start": 0.38991233038833695,
            "bin_end": 0.5119298643106696,
            "count": 0
           },
           {
            "bin_start": 0.5119298643106696,
            "bin_end": 0.6339473982330022,
            "count": 0
           },
           {
            "bin_start": 0.6339473982330022,
            "bin_end": 0.7559649321553348,
            "count": 0
           },
           {
            "bin_start": 0.7559649321553348,
            "bin_end": 0.8779824660776674,
            "count": 0
           },
           {
            "bin_start": 0.8779824660776674,
            "bin_end": 1,
            "count": 1
           }
          ]
         }
        },
        {
         "name": "CHRONIC DISEASE",
         "dtype": "float64",
         "stats": {
          "unique_count": 15,
          "nan_count": 0,
          "min": "-0.17528670960537432",
          "max": "1.0",
          "histogram": [
           {
            "bin_start": -0.17528670960537432,
            "bin_end": -0.05775803864483689,
            "count": 3
           },
           {
            "bin_start": -0.05775803864483689,
            "bin_end": 0.05977063231570054,
            "count": 8
           },
           {
            "bin_start": 0.05977063231570054,
            "bin_end": 0.17729930327623797,
            "count": 3
           },
           {
            "bin_start": 0.17729930327623797,
            "bin_end": 0.2948279742367754,
            "count": 0
           },
           {
            "bin_start": 0.2948279742367754,
            "bin_end": 0.41235664519731285,
            "count": 0
           },
           {
            "bin_start": 0.41235664519731285,
            "bin_end": 0.5298853161578503,
            "count": 0
           },
           {
            "bin_start": 0.5298853161578503,
            "bin_end": 0.6474139871183877,
            "count": 0
           },
           {
            "bin_start": 0.6474139871183877,
            "bin_end": 0.7649426580789251,
            "count": 0
           },
           {
            "bin_start": 0.7649426580789251,
            "bin_end": 0.8824713290394626,
            "count": 0
           },
           {
            "bin_start": 0.8824713290394626,
            "bin_end": 1,
            "count": 1
           }
          ]
         }
        },
        {
         "name": "FATIGUE ",
         "dtype": "float64",
         "stats": {
          "unique_count": 15,
          "nan_count": 0,
          "min": "-0.19137658284345696",
          "max": "1.0",
          "histogram": [
           {
            "bin_start": -0.19137658284345696,
            "bin_end": -0.07223892455911125,
            "count": 5
           },
           {
            "bin_start": -0.07223892455911125,
            "bin_end": 0.046898733725234454,
            "count": 4
           },
           {
            "bin_start": 0.046898733725234454,
            "bin_end": 0.16603639200958017,
            "count": 4
           },
           {
            "bin_start": 0.16603639200958017,
            "bin_end": 0.28517405029392584,
            "count": 0
           },
           {
            "bin_start": 0.28517405029392584,
            "bin_end": 0.4043117085782716,
            "count": 0
           },
           {
            "bin_start": 0.4043117085782716,
            "bin_end": 0.5234493668626173,
            "count": 1
           },
           {
            "bin_start": 0.5234493668626173,
            "bin_end": 0.642587025146963,
            "count": 0
           },
           {
            "bin_start": 0.642587025146963,
            "bin_end": 0.7617246834313087,
            "count": 0
           },
           {
            "bin_start": 0.7617246834313087,
            "bin_end": 0.8808623417156544,
            "count": 0
           },
           {
            "bin_start": 0.8808623417156544,
            "bin_end": 1,
            "count": 1
           }
          ]
         }
        },
        {
         "name": "ALLERGY ",
         "dtype": "float64",
         "stats": {
          "unique_count": 15,
          "nan_count": 0,
          "min": "-0.1657495382792879",
          "max": "1.0",
          "histogram": [
           {
            "bin_start": -0.1657495382792879,
            "bin_end": -0.04917458445135911,
            "count": 4
           },
           {
            "bin_start": -0.04917458445135911,
            "bin_end": 0.06740036937656968,
            "count": 4
           },
           {
            "bin_start": 0.06740036937656968,
            "bin_end": 0.18397532320449844,
            "count": 2
           },
           {
            "bin_start": 0.18397532320449844,
            "bin_end": 0.30055027703242726,
            "count": 2
           },
           {
            "bin_start": 0.30055027703242726,
            "bin_end": 0.4171252308603561,
            "count": 2
           },
           {
            "bin_start": 0.4171252308603561,
            "bin_end": 0.5337001846882847,
            "count": 0
           },
           {
            "bin_start": 0.5337001846882847,
            "bin_end": 0.6502751385162135,
            "count": 0
           },
           {
            "bin_start": 0.6502751385162135,
            "bin_end": 0.7668500923441424,
            "count": 0
           },
           {
            "bin_start": 0.7668500923441424,
            "bin_end": 0.8834250461720712,
            "count": 0
           },
           {
            "bin_start": 0.8834250461720712,
            "bin_end": 1,
            "count": 1
           }
          ]
         }
        },
        {
         "name": "WHEEZING",
         "dtype": "float64",
         "stats": {
          "unique_count": 15,
          "nan_count": 0,
          "min": "-0.19180733900597308",
          "max": "1.0",
          "histogram": [
           {
            "bin_start": -0.19180733900597308,
            "bin_end": -0.07262660510537576,
            "count": 3
           },
           {
            "bin_start": -0.07262660510537576,
            "bin_end": 0.046554128795221555,
            "count": 3
           },
           {
            "bin_start": 0.046554128795221555,
            "bin_end": 0.16573486269581889,
            "count": 4
           },
           {
            "bin_start": 0.16573486269581889,
            "bin_end": 0.2849155965964162,
            "count": 3
           },
           {
            "bin_start": 0.2849155965964162,
            "bin_end": 0.4040963304970135,
            "count": 1
           },
           {
            "bin_start": 0.4040963304970135,
            "bin_end": 0.5232770643976108,
            "count": 0
           },
           {
            "bin_start": 0.5232770643976108,
            "bin_end": 0.642457798298208,
            "count": 0
           },
           {
            "bin_start": 0.642457798298208,
            "bin_end": 0.7616385321988055,
            "count": 0
           },
           {
            "bin_start": 0.7616385321988055,
            "bin_end": 0.8808192660994028,
            "count": 0
           },
           {
            "bin_start": 0.8808192660994028,
            "bin_end": 1,
            "count": 1
           }
          ]
         }
        },
        {
         "name": "ALCOHOL CONSUMING",
         "dtype": "float64",
         "stats": {
          "unique_count": 15,
          "nan_count": 0,
          "min": "-0.2890248418525368",
          "max": "1.0",
          "histogram": [
           {
            "bin_start": -0.2890248418525368,
            "bin_end": -0.1601223576672831,
            "count": 4
           },
           {
            "bin_start": -0.1601223576672831,
            "bin_end": -0.031219873482029425,
            "count": 2
           },
           {
            "bin_start": -0.031219873482029425,
            "bin_end": 0.09768261070322426,
            "count": 3
           },
           {
            "bin_start": 0.09768261070322426,
            "bin_end": 0.22658509488847794,
            "count": 1
           },
           {
            "bin_start": 0.22658509488847794,
            "bin_end": 0.3554875790737317,
            "count": 4
           },
           {
            "bin_start": 0.3554875790737317,
            "bin_end": 0.4843900632589853,
            "count": 0
           },
           {
            "bin_start": 0.4843900632589853,
            "bin_end": 0.613292547444239,
            "count": 0
           },
           {
            "bin_start": 0.613292547444239,
            "bin_end": 0.7421950316294927,
            "count": 0
           },
           {
            "bin_start": 0.7421950316294927,
            "bin_end": 0.8710975158147465,
            "count": 0
           },
           {
            "bin_start": 0.8710975158147465,
            "bin_end": 1,
            "count": 1
           }
          ]
         }
        },
        {
         "name": "COUGHING",
         "dtype": "float64",
         "stats": {
          "unique_count": 15,
          "nan_count": 0,
          "min": "-0.22564407376360934",
          "max": "1.0",
          "histogram": [
           {
            "bin_start": -0.22564407376360934,
            "bin_end": -0.1030796663872484,
            "count": 4
           },
           {
            "bin_start": -0.1030796663872484,
            "bin_end": 0.019484740989112542,
            "count": 2
           },
           {
            "bin_start": 0.019484740989112542,
            "bin_end": 0.1420491483654735,
            "count": 1
           },
           {
            "bin_start": 0.1420491483654735,
            "bin_end": 0.2646135557418344,
            "count": 5
           },
           {
            "bin_start": 0.2646135557418344,
            "bin_end": 0.38717796311819536,
            "count": 2
           },
           {
            "bin_start": 0.38717796311819536,
            "bin_end": 0.5097423704945563,
            "count": 0
           },
           {
            "bin_start": 0.5097423704945563,
            "bin_end": 0.6323067778709173,
            "count": 0
           },
           {
            "bin_start": 0.6323067778709173,
            "bin_end": 0.7548711852472783,
            "count": 0
           },
           {
            "bin_start": 0.7548711852472783,
            "bin_end": 0.877435592623639,
            "count": 0
           },
           {
            "bin_start": 0.877435592623639,
            "bin_end": 1,
            "count": 1
           }
          ]
         }
        },
        {
         "name": "SHORTNESS OF BREATH",
         "dtype": "float64",
         "stats": {
          "unique_count": 15,
          "nan_count": 0,
          "min": "-0.2201753392233261",
          "max": "1.0",
          "histogram": [
           {
            "bin_start": -0.2201753392233261,
            "bin_end": -0.0981578053009935,
            "count": 5
           },
           {
            "bin_start": -0.0981578053009935,
            "bin_end": 0.023859728621339116,
            "count": 3
           },
           {
            "bin_start": 0.023859728621339116,
            "bin_end": 0.14587726254367173,
            "count": 4
           },
           {
            "bin_start": 0.14587726254367173,
            "bin_end": 0.26789479646600434,
            "count": 0
           },
           {
            "bin_start": 0.26789479646600434,
            "bin_end": 0.38991233038833695,
            "count": 1
           },
           {
            "bin_start": 0.38991233038833695,
            "bin_end": 0.5119298643106696,
            "count": 1
           },
           {
            "bin_start": 0.5119298643106696,
            "bin_end": 0.6339473982330022,
            "count": 0
           },
           {
            "bin_start": 0.6339473982330022,
            "bin_end": 0.7559649321553348,
            "count": 0
           },
           {
            "bin_start": 0.7559649321553348,
            "bin_end": 0.8779824660776674,
            "count": 0
           },
           {
            "bin_start": 0.8779824660776674,
            "bin_end": 1,
            "count": 1
           }
          ]
         }
        },
        {
         "name": "SWALLOWING DIFFICULTY",
         "dtype": "float64",
         "stats": {
          "unique_count": 15,
          "nan_count": 0,
          "min": "-0.1610148040269677",
          "max": "1.0",
          "histogram": [
           {
            "bin_start": -0.1610148040269677,
            "bin_end": -0.04491332362427092,
            "count": 4
           },
           {
            "bin_start": -0.04491332362427092,
            "bin_end": 0.07118815677842585,
            "count": 5
           },
           {
            "bin_start": 0.07118815677842585,
            "bin_end": 0.18728963718112265,
            "count": 1
           },
           {
            "bin_start": 0.18728963718112265,
            "bin_end": 0.3033911175838194,
            "count": 1
           },
           {
            "bin_start": 0.3033911175838194,
            "bin_end": 0.41949259798651617,
            "count": 2
           },
           {
            "bin_start": 0.41949259798651617,
            "bin_end": 0.535594078389213,
            "count": 1
           },
           {
            "bin_start": 0.535594078389213,
            "bin_end": 0.6516955587919098,
            "count": 0
           },
           {
            "bin_start": 0.6516955587919098,
            "bin_end": 0.7677970391946065,
            "count": 0
           },
           {
            "bin_start": 0.7677970391946065,
            "bin_end": 0.8838985195973033,
            "count": 0
           },
           {
            "bin_start": 0.8838985195973033,
            "bin_end": 1,
            "count": 1
           }
          ]
         }
        },
        {
         "name": "CHEST PAIN",
         "dtype": "float64",
         "stats": {
          "unique_count": 15,
          "nan_count": 0,
          "min": "-0.11363393682591734",
          "max": "1.0",
          "histogram": [
           {
            "bin_start": -0.11363393682591734,
            "bin_end": -0.0022705431433256013,
            "count": 6
           },
           {
            "bin_start": -0.0022705431433256013,
            "bin_end": 0.10909285053926614,
            "count": 3
           },
           {
            "bin_start": 0.10909285053926614,
            "bin_end": 0.2204562442218579,
            "count": 3
           },
           {
            "bin_start": 0.2204562442218579,
            "bin_end": 0.3318196379044496,
            "count": 2
           },
           {
            "bin_start": 0.3318196379044496,
            "bin_end": 0.44318303158704137,
            "count": 0
           },
           {
            "bin_start": 0.44318303158704137,
            "bin_end": 0.554546425269633,
            "count": 0
           },
           {
            "bin_start": 0.554546425269633,
            "bin_end": 0.6659098189522248,
            "count": 0
           },
           {
            "bin_start": 0.6659098189522248,
            "bin_end": 0.7772732126348165,
            "count": 0
           },
           {
            "bin_start": 0.7772732126348165,
            "bin_end": 0.8886366063174083,
            "count": 0
           },
           {
            "bin_start": 0.8886366063174083,
            "bin_end": 1,
            "count": 1
           }
          ]
         }
        },
        {
         "name": "LUNG_CANCER",
         "dtype": "float64",
         "stats": {
          "unique_count": 15,
          "nan_count": 0,
          "min": "0.05817888585203872",
          "max": "1.0",
          "histogram": [
           {
            "bin_start": 0.05817888585203872,
            "bin_end": 0.15236099726683483,
            "count": 6
           },
           {
            "bin_start": 0.15236099726683483,
            "bin_end": 0.24654310868163098,
            "count": 3
           },
           {
            "bin_start": 0.24654310868163098,
            "bin_end": 0.3407252200964271,
            "count": 5
           },
           {
            "bin_start": 0.3407252200964271,
            "bin_end": 0.43490733151122324,
            "count": 0
           },
           {
            "bin_start": 0.43490733151122324,
            "bin_end": 0.5290894429260193,
            "count": 0
           },
           {
            "bin_start": 0.5290894429260193,
            "bin_end": 0.6232715543408154,
            "count": 0
           },
           {
            "bin_start": 0.6232715543408154,
            "bin_end": 0.7174536657556115,
            "count": 0
           },
           {
            "bin_start": 0.7174536657556115,
            "bin_end": 0.8116357771704077,
            "count": 0
           },
           {
            "bin_start": 0.8116357771704077,
            "bin_end": 0.9058178885852038,
            "count": 0
           },
           {
            "bin_start": 0.9058178885852038,
            "bin_end": 1,
            "count": 1
           }
          ]
         }
        },
        {
         "name": "_deepnote_index_column",
         "dtype": "object"
        }
       ],
       "rows": [
        {
         "AGE": 1,
         "SMOKING": -0.08447456089493073,
         "YELLOW_FINGERS": 0.005204871909967298,
         "ANXIETY": 0.0531703550042854,
         "PEER_PRESSURE": 0.018685136530558862,
         "CHRONIC DISEASE": -0.012642128434022373,
         "FATIGUE ": 0.012614461887370308,
         "ALLERGY ": 0.02799048504995818,
         "WHEEZING": 0.055011346571124886,
         "ALCOHOL CONSUMING": 0.05898500267717914,
         "COUGHING": 0.16995034842042056,
         "SHORTNESS OF BREATH": -0.017512736866452383,
         "SWALLOWING DIFFICULTY": -0.0012698781589155536,
         "CHEST PAIN": -0.018103925780267774,
         "LUNG_CANCER": 0.0894645760662338,
         "_deepnote_index_column": "AGE"
        },
        {
         "AGE": -0.08447456089493073,
         "SMOKING": 1,
         "YELLOW_FINGERS": -0.01458486599755353,
         "ANXIETY": 0.16026698331642034,
         "PEER_PRESSURE": -0.04282232439600785,
         "CHRONIC DISEASE": -0.14152230873655042,
         "FATIGUE ": -0.02957545990974724,
         "ALLERGY ": 0.0019126984166502085,
         "WHEEZING": -0.12942592619332133,
         "ALCOHOL CONSUMING": -0.050622751427338554,
         "COUGHING": -0.12947106514871795,
         "SHORTNESS OF BREATH": 0.061263759252045934,
         "SWALLOWING DIFFICULTY": 0.030717734839210167,
         "CHEST PAIN": 0.1201174605656242,
         "LUNG_CANCER": 0.05817888585203872,
         "_deepnote_index_column": "SMOKING"
        },
        {
         "AGE": 0.005204871909967298,
         "SMOKING": -0.01458486599755353,
         "YELLOW_FINGERS": 1,
         "ANXIETY": 0.5658292925538109,
         "PEER_PRESSURE": 0.3230832379239967,
         "CHRONIC DISEASE": 0.041122176800110585,
         "FATIGUE ": -0.11805792165914558,
         "ALLERGY ": -0.14429952696497447,
         "WHEEZING": -0.0785152929251735,
         "ALCOHOL CONSUMING": -0.2890248418525368,
         "COUGHING": -0.012639842719248097,
         "SHORTNESS OF BREATH": -0.1059442844028709,
         "SWALLOWING DIFFICULTY": 0.3459037723215422,
         "CHEST PAIN": -0.10482898654109389,
         "LUNG_CANCER": 0.18133896271065764,
         "_deepnote_index_column": "YELLOW_FINGERS"
        },
        {
         "AGE": 0.0531703550042854,
         "SMOKING": 0.16026698331642034,
         "YELLOW_FINGERS": 0.5658292925538109,
         "ANXIETY": 1,
         "PEER_PRESSURE": 0.21684122329283592,
         "CHRONIC DISEASE": -0.00967782480215883,
         "FATIGUE ": -0.188538333970761,
         "ALLERGY ": -0.1657495382792879,
         "WHEEZING": -0.19180733900597308,
         "ALCOHOL CONSUMING": -0.16574953827928812,
         "COUGHING": -0.22564407376360934,
         "SHORTNESS OF BREATH": -0.14407666457207527,
         "SWALLOWING DIFFICULTY": 0.48940276173565905,
         "CHEST PAIN": -0.11363393682591734,
         "LUNG_CANCER": 0.14494713288731148,
         "_deepnote_index_column": "ANXIETY"
        },
        {
         "AGE": 0.018685136530558862,
         "SMOKING": -0.04282232439600785,
         "YELLOW_FINGERS": 0.3230832379239967,
         "ANXIETY": 0.21684122329283592,
         "PEER_PRESSURE": 1,
         "CHRONIC DISEASE": 0.04851481004718551,
         "FATIGUE ": 0.07814829096372149,
         "ALLERGY ": -0.0817995686242226,
         "WHEEZING": -0.0687706682608799,
         "ALCOHOL CONSUMING": -0.15997297080427855,
         "COUGHING": -0.08901866618203307,
         "SHORTNESS OF BREATH": -0.2201753392233261,
         "SWALLOWING DIFFICULTY": 0.36659037058312544,
         "CHEST PAIN": -0.09482846898756501,
         "LUNG_CANCER": 0.18638763171540726,
         "_deepnote_index_column": "PEER_PRESSURE"
        },
        {
         "AGE": -0.012642128434022373,
         "SMOKING": -0.14152230873655042,
         "YELLOW_FINGERS": 0.041122176800110585,
         "ANXIETY": -0.00967782480215883,
         "PEER_PRESSURE": 0.04851481004718551,
         "CHRONIC DISEASE": 1,
         "FATIGUE ": -0.11052864204447549,
         "ALLERGY ": 0.10638606092499381,
         "WHEEZING": -0.04996729377571046,
         "ALCOHOL CONSUMING": 0.0021504911245242473,
         "COUGHING": -0.17528670960537432,
         "SHORTNESS OF BREATH": -0.026458823245191894,
         "SWALLOWING DIFFICULTY": 0.07517642102577365,
         "CHEST PAIN": -0.036937847550651805,
         "LUNG_CANCER": 0.11089109464241372,
         "_deepnote_index_column": "CHRONIC DISEASE"
        },
        {
         "AGE": 0.012614461887370308,
         "SMOKING": -0.02957545990974724,
         "YELLOW_FINGERS": -0.11805792165914558,
         "ANXIETY": -0.188538333970761,
         "PEER_PRESSURE": 0.07814829096372149,
         "CHRONIC DISEASE": -0.11052864204447549,
         "FATIGUE ": 1,
         "ALLERGY ": 0.0030562723422628175,
         "WHEEZING": 0.1419368831892054,
         "ALCOHOL CONSUMING": -0.19137658284345696,
         "COUGHING": 0.14685601613024923,
         "SHORTNESS OF BREATH": 0.44174464207468905,
         "SWALLOWING DIFFICULTY": -0.13279007527515307,
         "CHEST PAIN": -0.01083178874243148,
         "LUNG_CANCER": 0.15067295875611603,
         "_deepnote_index_column": "FATIGUE "
        },
        {
         "AGE": 0.02799048504995818,
         "SMOKING": 0.0019126984166502085,
         "YELLOW_FINGERS": -0.14429952696497447,
         "ANXIETY": -0.1657495382792879,
         "PEER_PRESSURE": -0.0817995686242226,
         "CHRONIC DISEASE": 0.10638606092499381,
         "FATIGUE ": 0.0030562723422628175,
         "ALLERGY ": 1,
         "WHEEZING": 0.17386691563401785,
         "ALCOHOL CONSUMING": 0.3443388219317608,
         "COUGHING": 0.1895241681886071,
         "SHORTNESS OF BREATH": -0.030056437949431025,
         "SWALLOWING DIFFICULTY": -0.06150790611685283,
         "CHEST PAIN": 0.239433033440842,
         "LUNG_CANCER": 0.327765646284402,
         "_deepnote_index_column": "ALLERGY "
        },
        {
         "AGE": 0.055011346571124886,
         "SMOKING": -0.12942592619332133,
         "YELLOW_FINGERS": -0.0785152929251735,
         "ANXIETY": -0.19180733900597308,
         "PEER_PRESSURE": -0.0687706682608799,
         "CHRONIC DISEASE": -0.04996729377571046,
         "FATIGUE ": 0.1419368831892054,
         "ALLERGY ": 0.17386691563401785,
         "WHEEZING": 1,
         "ALCOHOL CONSUMING": 0.26565948056357175,
         "COUGHING": 0.37426539206961507,
         "SHORTNESS OF BREATH": 0.037834200401257526,
         "SWALLOWING DIFFICULTY": 0.0690274166174022,
         "CHEST PAIN": 0.14764046851128837,
         "LUNG_CANCER": 0.2492999598990594,
         "_deepnote_index_column": "WHEEZING"
        },
        {
         "AGE": 0.05898500267717914,
         "SMOKING": -0.050622751427338554,
         "YELLOW_FINGERS": -0.2890248418525368,
         "ANXIETY": -0.16574953827928812,
         "PEER_PRESSURE": -0.15997297080427855,
         "CHRONIC DISEASE": 0.0021504911245242473,
         "FATIGUE ": -0.19137658284345696,
         "ALLERGY ": 0.3443388219317608,
         "WHEEZING": 0.26565948056357175,
         "ALCOHOL CONSUMING": 1,
         "COUGHING": 0.20271996989439328,
         "SHORTNESS OF BREATH": -0.17941584232094607,
         "SWALLOWING DIFFICULTY": -0.00929377702315091,
         "CHEST PAIN": 0.33122559837039584,
         "LUNG_CANCER": 0.28853280309173096,
         "_deepnote_index_column": "ALCOHOL CONSUMING"
        }
       ]
      },
      "text/plain": "                            AGE   SMOKING  YELLOW_FINGERS   ANXIETY  \\\nAGE                    1.000000 -0.084475        0.005205  0.053170   \nSMOKING               -0.084475  1.000000       -0.014585  0.160267   \nYELLOW_FINGERS         0.005205 -0.014585        1.000000  0.565829   \nANXIETY                0.053170  0.160267        0.565829  1.000000   \nPEER_PRESSURE          0.018685 -0.042822        0.323083  0.216841   \nCHRONIC DISEASE       -0.012642 -0.141522        0.041122 -0.009678   \nFATIGUE                0.012614 -0.029575       -0.118058 -0.188538   \nALLERGY                0.027990  0.001913       -0.144300 -0.165750   \nWHEEZING               0.055011 -0.129426       -0.078515 -0.191807   \nALCOHOL CONSUMING      0.058985 -0.050623       -0.289025 -0.165750   \nCOUGHING               0.169950 -0.129471       -0.012640 -0.225644   \nSHORTNESS OF BREATH   -0.017513  0.061264       -0.105944 -0.144077   \nSWALLOWING DIFFICULTY -0.001270  0.030718        0.345904  0.489403   \nCHEST PAIN            -0.018104  0.120117       -0.104829 -0.113634   \nLUNG_CANCER            0.089465  0.058179        0.181339  0.144947   \n\n                       PEER_PRESSURE  CHRONIC DISEASE  FATIGUE   ALLERGY   \\\nAGE                         0.018685        -0.012642  0.012614  0.027990   \nSMOKING                    -0.042822        -0.141522 -0.029575  0.001913   \nYELLOW_FINGERS              0.323083         0.041122 -0.118058 -0.144300   \nANXIETY                     0.216841        -0.009678 -0.188538 -0.165750   \nPEER_PRESSURE               1.000000         0.048515  0.078148 -0.081800   \nCHRONIC DISEASE             0.048515         1.000000 -0.110529  0.106386   \nFATIGUE                     0.078148        -0.110529  1.000000  0.003056   \nALLERGY                    -0.081800         0.106386  0.003056  1.000000   \nWHEEZING                   -0.068771        -0.049967  0.141937  0.173867   \nALCOHOL CONSUMING          -0.159973         0.002150 -0.191377  0.344339   \nCOUGHING                   -0.089019        -0.175287  0.146856  0.189524   \nSHORTNESS OF BREATH        -0.220175        -0.026459  0.441745 -0.030056   \nSWALLOWING DIFFICULTY       0.366590         0.075176 -0.132790 -0.061508   \nCHEST PAIN                 -0.094828        -0.036938 -0.010832  0.239433   \nLUNG_CANCER                 0.186388         0.110891  0.150673  0.327766   \n\n                       WHEEZING  ALCOHOL CONSUMING  COUGHING  \\\nAGE                    0.055011           0.058985  0.169950   \nSMOKING               -0.129426          -0.050623 -0.129471   \nYELLOW_FINGERS        -0.078515          -0.289025 -0.012640   \nANXIETY               -0.191807          -0.165750 -0.225644   \nPEER_PRESSURE         -0.068771          -0.159973 -0.089019   \nCHRONIC DISEASE       -0.049967           0.002150 -0.175287   \nFATIGUE                0.141937          -0.191377  0.146856   \nALLERGY                0.173867           0.344339  0.189524   \nWHEEZING               1.000000           0.265659  0.374265   \nALCOHOL CONSUMING      0.265659           1.000000  0.202720   \nCOUGHING               0.374265           0.202720  1.000000   \nSHORTNESS OF BREATH    0.037834          -0.179416  0.277385   \nSWALLOWING DIFFICULTY  0.069027          -0.009294 -0.157586   \nCHEST PAIN             0.147640           0.331226  0.083958   \nLUNG_CANCER            0.249300           0.288533  0.248570   \n\n                       SHORTNESS OF BREATH  SWALLOWING DIFFICULTY  CHEST PAIN  \\\nAGE                              -0.017513              -0.001270   -0.018104   \nSMOKING                           0.061264               0.030718    0.120117   \nYELLOW_FINGERS                   -0.105944               0.345904   -0.104829   \nANXIETY                          -0.144077               0.489403   -0.113634   \nPEER_PRESSURE                    -0.220175               0.366590   -0.094828   \nCHRONIC DISEASE                  -0.026459               0.075176   -0.036938   \nFATIGUE                           0.441745              -0.132790   -0.010832   \nALLERGY                          -0.030056              -0.061508    0.239433   \nWHEEZING                          0.037834               0.069027    0.147640   \nALCOHOL CONSUMING                -0.179416              -0.009294    0.331226   \nCOUGHING                          0.277385              -0.157586    0.083958   \nSHORTNESS OF BREATH               1.000000              -0.161015    0.024256   \nSWALLOWING DIFFICULTY            -0.161015               1.000000    0.069027   \nCHEST PAIN                        0.024256               0.069027    1.000000   \nLUNG_CANCER                       0.060738               0.259730    0.190451   \n\n                       LUNG_CANCER  \nAGE                       0.089465  \nSMOKING                   0.058179  \nYELLOW_FINGERS            0.181339  \nANXIETY                   0.144947  \nPEER_PRESSURE             0.186388  \nCHRONIC DISEASE           0.110891  \nFATIGUE                   0.150673  \nALLERGY                   0.327766  \nWHEEZING                  0.249300  \nALCOHOL CONSUMING         0.288533  \nCOUGHING                  0.248570  \nSHORTNESS OF BREATH       0.060738  \nSWALLOWING DIFFICULTY     0.259730  \nCHEST PAIN                0.190451  \nLUNG_CANCER               1.000000  ",
      "text/html": "<div>\n<style scoped>\n    .dataframe tbody tr th:only-of-type {\n        vertical-align: middle;\n    }\n\n    .dataframe tbody tr th {\n        vertical-align: top;\n    }\n\n    .dataframe thead th {\n        text-align: right;\n    }\n</style>\n<table border=\"1\" class=\"dataframe\">\n  <thead>\n    <tr style=\"text-align: right;\">\n      <th></th>\n      <th>AGE</th>\n      <th>SMOKING</th>\n      <th>YELLOW_FINGERS</th>\n      <th>ANXIETY</th>\n      <th>PEER_PRESSURE</th>\n      <th>CHRONIC DISEASE</th>\n      <th>FATIGUE</th>\n      <th>ALLERGY</th>\n      <th>WHEEZING</th>\n      <th>ALCOHOL CONSUMING</th>\n      <th>COUGHING</th>\n      <th>SHORTNESS OF BREATH</th>\n      <th>SWALLOWING DIFFICULTY</th>\n      <th>CHEST PAIN</th>\n      <th>LUNG_CANCER</th>\n    </tr>\n  </thead>\n  <tbody>\n    <tr>\n      <th>AGE</th>\n      <td>1.000000</td>\n      <td>-0.084475</td>\n      <td>0.005205</td>\n      <td>0.053170</td>\n      <td>0.018685</td>\n      <td>-0.012642</td>\n      <td>0.012614</td>\n      <td>0.027990</td>\n      <td>0.055011</td>\n      <td>0.058985</td>\n      <td>0.169950</td>\n      <td>-0.017513</td>\n      <td>-0.001270</td>\n      <td>-0.018104</td>\n      <td>0.089465</td>\n    </tr>\n    <tr>\n      <th>SMOKING</th>\n      <td>-0.084475</td>\n      <td>1.000000</td>\n      <td>-0.014585</td>\n      <td>0.160267</td>\n      <td>-0.042822</td>\n      <td>-0.141522</td>\n      <td>-0.029575</td>\n      <td>0.001913</td>\n      <td>-0.129426</td>\n      <td>-0.050623</td>\n      <td>-0.129471</td>\n      <td>0.061264</td>\n      <td>0.030718</td>\n      <td>0.120117</td>\n      <td>0.058179</td>\n    </tr>\n    <tr>\n      <th>YELLOW_FINGERS</th>\n      <td>0.005205</td>\n      <td>-0.014585</td>\n      <td>1.000000</td>\n      <td>0.565829</td>\n      <td>0.323083</td>\n      <td>0.041122</td>\n      <td>-0.118058</td>\n      <td>-0.144300</td>\n      <td>-0.078515</td>\n      <td>-0.289025</td>\n      <td>-0.012640</td>\n      <td>-0.105944</td>\n      <td>0.345904</td>\n      <td>-0.104829</td>\n      <td>0.181339</td>\n    </tr>\n    <tr>\n      <th>ANXIETY</th>\n      <td>0.053170</td>\n      <td>0.160267</td>\n      <td>0.565829</td>\n      <td>1.000000</td>\n      <td>0.216841</td>\n      <td>-0.009678</td>\n      <td>-0.188538</td>\n      <td>-0.165750</td>\n      <td>-0.191807</td>\n      <td>-0.165750</td>\n      <td>-0.225644</td>\n      <td>-0.144077</td>\n      <td>0.489403</td>\n      <td>-0.113634</td>\n      <td>0.144947</td>\n    </tr>\n    <tr>\n      <th>PEER_PRESSURE</th>\n      <td>0.018685</td>\n      <td>-0.042822</td>\n      <td>0.323083</td>\n      <td>0.216841</td>\n      <td>1.000000</td>\n      <td>0.048515</td>\n      <td>0.078148</td>\n      <td>-0.081800</td>\n      <td>-0.068771</td>\n      <td>-0.159973</td>\n      <td>-0.089019</td>\n      <td>-0.220175</td>\n      <td>0.366590</td>\n      <td>-0.094828</td>\n      <td>0.186388</td>\n    </tr>\n    <tr>\n      <th>CHRONIC DISEASE</th>\n      <td>-0.012642</td>\n      <td>-0.141522</td>\n      <td>0.041122</td>\n      <td>-0.009678</td>\n      <td>0.048515</td>\n      <td>1.000000</td>\n      <td>-0.110529</td>\n      <td>0.106386</td>\n      <td>-0.049967</td>\n      <td>0.002150</td>\n      <td>-0.175287</td>\n      <td>-0.026459</td>\n      <td>0.075176</td>\n      <td>-0.036938</td>\n      <td>0.110891</td>\n    </tr>\n    <tr>\n      <th>FATIGUE</th>\n      <td>0.012614</td>\n      <td>-0.029575</td>\n      <td>-0.118058</td>\n      <td>-0.188538</td>\n      <td>0.078148</td>\n      <td>-0.110529</td>\n      <td>1.000000</td>\n      <td>0.003056</td>\n      <td>0.141937</td>\n      <td>-0.191377</td>\n      <td>0.146856</td>\n      <td>0.441745</td>\n      <td>-0.132790</td>\n      <td>-0.010832</td>\n      <td>0.150673</td>\n    </tr>\n    <tr>\n      <th>ALLERGY</th>\n      <td>0.027990</td>\n      <td>0.001913</td>\n      <td>-0.144300</td>\n      <td>-0.165750</td>\n      <td>-0.081800</td>\n      <td>0.106386</td>\n      <td>0.003056</td>\n      <td>1.000000</td>\n      <td>0.173867</td>\n      <td>0.344339</td>\n      <td>0.189524</td>\n      <td>-0.030056</td>\n      <td>-0.061508</td>\n      <td>0.239433</td>\n      <td>0.327766</td>\n    </tr>\n    <tr>\n      <th>WHEEZING</th>\n      <td>0.055011</td>\n      <td>-0.129426</td>\n      <td>-0.078515</td>\n      <td>-0.191807</td>\n      <td>-0.068771</td>\n      <td>-0.049967</td>\n      <td>0.141937</td>\n      <td>0.173867</td>\n      <td>1.000000</td>\n      <td>0.265659</td>\n      <td>0.374265</td>\n      <td>0.037834</td>\n      <td>0.069027</td>\n      <td>0.147640</td>\n      <td>0.249300</td>\n    </tr>\n    <tr>\n      <th>ALCOHOL CONSUMING</th>\n      <td>0.058985</td>\n      <td>-0.050623</td>\n      <td>-0.289025</td>\n      <td>-0.165750</td>\n      <td>-0.159973</td>\n      <td>0.002150</td>\n      <td>-0.191377</td>\n      <td>0.344339</td>\n      <td>0.265659</td>\n      <td>1.000000</td>\n      <td>0.202720</td>\n      <td>-0.179416</td>\n      <td>-0.009294</td>\n      <td>0.331226</td>\n      <td>0.288533</td>\n    </tr>\n    <tr>\n      <th>COUGHING</th>\n      <td>0.169950</td>\n      <td>-0.129471</td>\n      <td>-0.012640</td>\n      <td>-0.225644</td>\n      <td>-0.089019</td>\n      <td>-0.175287</td>\n      <td>0.146856</td>\n      <td>0.189524</td>\n      <td>0.374265</td>\n      <td>0.202720</td>\n      <td>1.000000</td>\n      <td>0.277385</td>\n      <td>-0.157586</td>\n      <td>0.083958</td>\n      <td>0.248570</td>\n    </tr>\n    <tr>\n      <th>SHORTNESS OF BREATH</th>\n      <td>-0.017513</td>\n      <td>0.061264</td>\n      <td>-0.105944</td>\n      <td>-0.144077</td>\n      <td>-0.220175</td>\n      <td>-0.026459</td>\n      <td>0.441745</td>\n      <td>-0.030056</td>\n      <td>0.037834</td>\n      <td>-0.179416</td>\n      <td>0.277385</td>\n      <td>1.000000</td>\n      <td>-0.161015</td>\n      <td>0.024256</td>\n      <td>0.060738</td>\n    </tr>\n    <tr>\n      <th>SWALLOWING DIFFICULTY</th>\n      <td>-0.001270</td>\n      <td>0.030718</td>\n      <td>0.345904</td>\n      <td>0.489403</td>\n      <td>0.366590</td>\n      <td>0.075176</td>\n      <td>-0.132790</td>\n      <td>-0.061508</td>\n      <td>0.069027</td>\n      <td>-0.009294</td>\n      <td>-0.157586</td>\n      <td>-0.161015</td>\n      <td>1.000000</td>\n      <td>0.069027</td>\n      <td>0.259730</td>\n    </tr>\n    <tr>\n      <th>CHEST PAIN</th>\n      <td>-0.018104</td>\n      <td>0.120117</td>\n      <td>-0.104829</td>\n      <td>-0.113634</td>\n      <td>-0.094828</td>\n      <td>-0.036938</td>\n      <td>-0.010832</td>\n      <td>0.239433</td>\n      <td>0.147640</td>\n      <td>0.331226</td>\n      <td>0.083958</td>\n      <td>0.024256</td>\n      <td>0.069027</td>\n      <td>1.000000</td>\n      <td>0.190451</td>\n    </tr>\n    <tr>\n      <th>LUNG_CANCER</th>\n      <td>0.089465</td>\n      <td>0.058179</td>\n      <td>0.181339</td>\n      <td>0.144947</td>\n      <td>0.186388</td>\n      <td>0.110891</td>\n      <td>0.150673</td>\n      <td>0.327766</td>\n      <td>0.249300</td>\n      <td>0.288533</td>\n      <td>0.248570</td>\n      <td>0.060738</td>\n      <td>0.259730</td>\n      <td>0.190451</td>\n      <td>1.000000</td>\n    </tr>\n  </tbody>\n</table>\n</div>"
     },
     "metadata": {}
    }
   ]
  },
  {
   "cell_type": "code",
   "metadata": {
    "cell_id": "34b660d597f443458b01af3fb425fb00",
    "tags": [],
    "deepnote_to_be_reexecuted": false,
    "source_hash": "289e3126",
    "execution_start": 1653093462524,
    "execution_millis": 3465,
    "deepnote_cell_type": "code",
    "deepnote_cell_height": 586,
    "deepnote_output_heights": [
     471
    ]
   },
   "source": "plt.figure(figsize=(20,10))\nsns.heatmap(corr.corr(), annot=True);",
   "execution_count": 20,
   "outputs": [
    {
     "data": {
      "text/plain": "<Figure size 1440x720 with 2 Axes>",
      "image/png": "[encoded data removed]"
     },
     "metadata": {
      "needs_background": "light",
      "image/png": {
       "width": 1148,
       "height": 692
      }
     },
     "output_type": "display_data"
    }
   ]
  },
  {
   "cell_type": "code",
   "metadata": {
    "cell_id": "a3ff978c638741b1914b31560001fadb",
    "tags": [],
    "deepnote_to_be_reexecuted": false,
    "source_hash": "4725acfb",
    "execution_start": 1653093465991,
    "execution_millis": 2306,
    "deepnote_cell_type": "code",
    "deepnote_cell_height": 624,
    "deepnote_output_heights": [
     527
    ]
   },
   "source": "px.imshow(corr[['ALLERGY ', 'WHEEZING', 'ALCOHOL CONSUMING', 'COUGHING', 'LUNG_CANCER']].corr(), text_auto=True, color_continuous_scale='Blues')",
   "execution_count": 21,
   "outputs": [
    {
     "data": {
      "text/html": "<html>\n<head><meta charset=\"utf-8\" /></head>\n<body>\n    <div>            <script src=\"https://cdnjs.cloudflare.com/ajax/libs/mathjax/2.7.5/MathJax.js?config=TeX-AMS-MML_SVG\"></script><script type=\"text/javascript\">if (window.MathJax) {MathJax.Hub.Config({SVG: {font: \"STIX-Web\"}});}</script>                <script type=\"text/javascript\">window.PlotlyConfig = {MathJaxConfig: 'local'};</script>\n        <script src=\"https://cdn.plot.ly/plotly-2.11.1.min.js\"></script>                <div id=\"20d583f6-6096-441f-a575-1cbe10e3faa3\" class=\"plotly-graph-div\" style=\"height:525px; width:100%;\"></div>            <script type=\"text/javascript\">                                    window.PLOTLYENV=window.PLOTLYENV || {};                                    if (document.getElementById(\"20d583f6-6096-441f-a575-1cbe10e3faa3\")) {                    Plotly.newPlot(                        \"20d583f6-6096-441f-a575-1cbe10e3faa3\",                        [{\"coloraxis\":\"coloraxis\",\"name\":\"0\",\"texttemplate\":\"%{z}\",\"x\":[\"ALLERGY \",\"WHEEZING\",\"ALCOHOL CONSUMING\",\"COUGHING\",\"LUNG_CANCER\"],\"y\":[\"ALLERGY \",\"WHEEZING\",\"ALCOHOL CONSUMING\",\"COUGHING\",\"LUNG_CANCER\"],\"z\":[[1.0,0.17386691563401785,0.3443388219317608,0.1895241681886071,0.327765646284402],[0.17386691563401785,1.0,0.26565948056357175,0.37426539206961507,0.2492999598990594],[0.3443388219317608,0.26565948056357175,1.0,0.20271996989439328,0.28853280309173096],[0.1895241681886071,0.37426539206961507,0.20271996989439328,1.0,0.24857008084596416],[0.327765646284402,0.2492999598990594,0.28853280309173096,0.24857008084596416,1.0]],\"type\":\"heatmap\",\"xaxis\":\"x\",\"yaxis\":\"y\",\"hovertemplate\":\"x: %{x}<br>y: %{y}<br>color: %{z}<extra></extra>\"}],                        {\"template\":{\"data\":{\"histogram2dcontour\":[{\"type\":\"histogram2dcontour\",\"colorbar\":{\"outlinewidth\":0,\"ticks\":\"\"},\"colorscale\":[[0.0,\"#0d0887\"],[0.1111111111111111,\"#46039f\"],[0.2222222222222222,\"#7201a8\"],[0.3333333333333333,\"#9c179e\"],[0.4444444444444444,\"#bd3786\"],[0.5555555555555556,\"#d8576b\"],[0.6666666666666666,\"#ed7953\"],[0.7777777777777778,\"#fb9f3a\"],[0.8888888888888888,\"#fdca26\"],[1.0,\"#f0f921\"]]}],\"choropleth\":[{\"type\":\"choropleth\",\"colorbar\":{\"outlinewidth\":0,\"ticks\":\"\"}}],\"histogram2d\":[{\"type\":\"histogram2d\",\"colorbar\":{\"outlinewidth\":0,\"ticks\":\"\"},\"colorscale\":[[0.0,\"#0d0887\"],[0.1111111111111111,\"#46039f\"],[0.2222222222222222,\"#7201a8\"],[0.3333333333333333,\"#9c179e\"],[0.4444444444444444,\"#bd3786\"],[0.5555555555555556,\"#d8576b\"],[0.6666666666666666,\"#ed7953\"],[0.7777777777777778,\"#fb9f3a\"],[0.8888888888888888,\"#fdca26\"],[1.0,\"#f0f921\"]]}],\"heatmap\":[{\"type\":\"heatmap\",\"colorbar\":{\"outlinewidth\":0,\"ticks\":\"\"},\"colorscale\":[[0.0,\"#0d0887\"],[0.1111111111111111,\"#46039f\"],[0.2222222222222222,\"#7201a8\"],[0.3333333333333333,\"#9c179e\"],[0.4444444444444444,\"#bd3786\"],[0.5555555555555556,\"#d8576b\"],[0.6666666666666666,\"#ed7953\"],[0.7777777777777778,\"#fb9f3a\"],[0.8888888888888888,\"#fdca26\"],[1.0,\"#f0f921\"]]}],\"heatmapgl\":[{\"type\":\"heatmapgl\",\"colorbar\":{\"outlinewidth\":0,\"ticks\":\"\"},\"colorscale\":[[0.0,\"#0d0887\"],[0.1111111111111111,\"#46039f\"],[0.2222222222222222,\"#7201a8\"],[0.3333333333333333,\"#9c179e\"],[0.4444444444444444,\"#bd3786\"],[0.5555555555555556,\"#d8576b\"],[0.6666666666666666,\"#ed7953\"],[0.7777777777777778,\"#fb9f3a\"],[0.8888888888888888,\"#fdca26\"],[1.0,\"#f0f921\"]]}],\"contourcarpet\":[{\"type\":\"contourcarpet\",\"colorbar\":{\"outlinewidth\":0,\"ticks\":\"\"}}],\"contour\":[{\"type\":\"contour\",\"colorbar\":{\"outlinewidth\":0,\"ticks\":\"\"},\"colorscale\":[[0.0,\"#0d0887\"],[0.1111111111111111,\"#46039f\"],[0.2222222222222222,\"#7201a8\"],[0.3333333333333333,\"#9c179e\"],[0.4444444444444444,\"#bd3786\"],[0.5555555555555556,\"#d8576b\"],[0.6666666666666666,\"#ed7953\"],[0.7777777777777778,\"#fb9f3a\"],[0.8888888888888888,\"#fdca26\"],[1.0,\"#f0f921\"]]}],\"surface\":[{\"type\":\"surface\",\"colorbar\":{\"outlinewidth\":0,\"ticks\":\"\"},\"colorscale\":[[0.0,\"#0d0887\"],[0.1111111111111111,\"#46039f\"],[0.2222222222222222,\"#7201a8\"],[0.3333333333333333,\"#9c179e\"],[0.4444444444444444,\"#bd3786\"],[0.5555555555555556,\"#d8576b\"],[0.6666666666666666,\"#ed7953\"],[0.7777777777777778,\"#fb9f3a\"],[0.8888888888888888,\"#fdca26\"],[1.0,\"#f0f921\"]]}],\"mesh3d\":[{\"type\":\"mesh3d\",\"colorbar\":{\"outlinewidth\":0,\"ticks\":\"\"}}],\"scatter\":[{\"fillpattern\":{\"fillmode\":\"overlay\",\"size\":10,\"solidity\":0.2},\"type\":\"scatter\"}],\"parcoords\":[{\"type\":\"parcoords\",\"line\":{\"colorbar\":{\"outlinewidth\":0,\"ticks\":\"\"}}}],\"scatterpolargl\":[{\"type\":\"scatterpolargl\",\"marker\":{\"colorbar\":{\"outlinewidth\":0,\"ticks\":\"\"}}}],\"bar\":[{\"error_x\":{\"color\":\"#2a3f5f\"},\"error_y\":{\"color\":\"#2a3f5f\"},\"marker\":{\"line\":{\"color\":\"#E5ECF6\",\"width\":0.5},\"pattern\":{\"fillmode\":\"overlay\",\"size\":10,\"solidity\":0.2}},\"type\":\"bar\"}],\"scattergeo\":[{\"type\":\"scattergeo\",\"marker\":{\"colorbar\":{\"outlinewidth\":0,\"ticks\":\"\"}}}],\"scatterpolar\":[{\"type\":\"scatterpolar\",\"marker\":{\"colorbar\":{\"outlinewidth\":0,\"ticks\":\"\"}}}],\"histogram\":[{\"marker\":{\"pattern\":{\"fillmode\":\"overlay\",\"size\":10,\"solidity\":0.2}},\"type\":\"histogram\"}],\"scattergl\":[{\"type\":\"scattergl\",\"marker\":{\"colorbar\":{\"outlinewidth\":0,\"ticks\":\"\"}}}],\"scatter3d\":[{\"type\":\"scatter3d\",\"line\":{\"colorbar\":{\"outlinewidth\":0,\"ticks\":\"\"}},\"marker\":{\"colorbar\":{\"outlinewidth\":0,\"ticks\":\"\"}}}],\"scattermapbox\":[{\"type\":\"scattermapbox\",\"marker\":{\"colorbar\":{\"outlinewidth\":0,\"ticks\":\"\"}}}],\"scatterternary\":[{\"type\":\"scatterternary\",\"marker\":{\"colorbar\":{\"outlinewidth\":0,\"ticks\":\"\"}}}],\"scattercarpet\":[{\"type\":\"scattercarpet\",\"marker\":{\"colorbar\":{\"outlinewidth\":0,\"ticks\":\"\"}}}],\"carpet\":[{\"aaxis\":{\"endlinecolor\":\"#2a3f5f\",\"gridcolor\":\"white\",\"linecolor\":\"white\",\"minorgridcolor\":\"white\",\"startlinecolor\":\"#2a3f5f\"},\"baxis\":{\"endlinecolor\":\"#2a3f5f\",\"gridcolor\":\"white\",\"linecolor\":\"white\",\"minorgridcolor\":\"white\",\"startlinecolor\":\"#2a3f5f\"},\"type\":\"carpet\"}],\"table\":[{\"cells\":{\"fill\":{\"color\":\"#EBF0F8\"},\"line\":{\"color\":\"white\"}},\"header\":{\"fill\":{\"color\":\"#C8D4E3\"},\"line\":{\"color\":\"white\"}},\"type\":\"table\"}],\"barpolar\":[{\"marker\":{\"line\":{\"color\":\"#E5ECF6\",\"width\":0.5},\"pattern\":{\"fillmode\":\"overlay\",\"size\":10,\"solidity\":0.2}},\"type\":\"barpolar\"}],\"pie\":[{\"automargin\":true,\"type\":\"pie\"}]},\"layout\":{\"autotypenumbers\":\"strict\",\"colorway\":[\"#636efa\",\"#EF553B\",\"#00cc96\",\"#ab63fa\",\"#FFA15A\",\"#19d3f3\",\"#FF6692\",\"#B6E880\",\"#FF97FF\",\"#FECB52\"],\"font\":{\"color\":\"#2a3f5f\"},\"hovermode\":\"closest\",\"hoverlabel\":{\"align\":\"left\"},\"paper_bgcolor\":\"white\",\"plot_bgcolor\":\"#E5ECF6\",\"polar\":{\"bgcolor\":\"#E5ECF6\",\"angularaxis\":{\"gridcolor\":\"white\",\"linecolor\":\"white\",\"ticks\":\"\"},\"radialaxis\":{\"gridcolor\":\"white\",\"linecolor\":\"white\",\"ticks\":\"\"}},\"ternary\":{\"bgcolor\":\"#E5ECF6\",\"aaxis\":{\"gridcolor\":\"white\",\"linecolor\":\"white\",\"ticks\":\"\"},\"baxis\":{\"gridcolor\":\"white\",\"linecolor\":\"white\",\"ticks\":\"\"},\"caxis\":{\"gridcolor\":\"white\",\"linecolor\":\"white\",\"ticks\":\"\"}},\"coloraxis\":{\"colorbar\":{\"outlinewidth\":0,\"ticks\":\"\"}},\"colorscale\":{\"sequential\":[[0.0,\"#0d0887\"],[0.1111111111111111,\"#46039f\"],[0.2222222222222222,\"#7201a8\"],[0.3333333333333333,\"#9c179e\"],[0.4444444444444444,\"#bd3786\"],[0.5555555555555556,\"#d8576b\"],[0.6666666666666666,\"#ed7953\"],[0.7777777777777778,\"#fb9f3a\"],[0.8888888888888888,\"#fdca26\"],[1.0,\"#f0f921\"]],\"sequentialminus\":[[0.0,\"#0d0887\"],[0.1111111111111111,\"#46039f\"],[0.2222222222222222,\"#7201a8\"],[0.3333333333333333,\"#9c179e\"],[0.4444444444444444,\"#bd3786\"],[0.5555555555555556,\"#d8576b\"],[0.6666666666666666,\"#ed7953\"],[0.7777777777777778,\"#fb9f3a\"],[0.8888888888888888,\"#fdca26\"],[1.0,\"#f0f921\"]],\"diverging\":[[0,\"#8e0152\"],[0.1,\"#c51b7d\"],[0.2,\"#de77ae\"],[0.3,\"#f1b6da\"],[0.4,\"#fde0ef\"],[0.5,\"#f7f7f7\"],[0.6,\"#e6f5d0\"],[0.7,\"#b8e186\"],[0.8,\"#7fbc41\"],[0.9,\"#4d9221\"],[1,\"#276419\"]]},\"xaxis\":{\"gridcolor\":\"white\",\"linecolor\":\"white\",\"ticks\":\"\",\"title\":{\"standoff\":15},\"zerolinecolor\":\"white\",\"automargin\":true,\"zerolinewidth\":2},\"yaxis\":{\"gridcolor\":\"white\",\"linecolor\":\"white\",\"ticks\":\"\",\"title\":{\"standoff\":15},\"zerolinecolor\":\"white\",\"automargin\":true,\"zerolinewidth\":2},\"scene\":{\"xaxis\":{\"backgroundcolor\":\"#E5ECF6\",\"gridcolor\":\"white\",\"linecolor\":\"white\",\"showbackground\":true,\"ticks\":\"\",\"zerolinecolor\":\"white\",\"gridwidth\":2},\"yaxis\":{\"backgroundcolor\":\"#E5ECF6\",\"gridcolor\":\"white\",\"linecolor\":\"white\",\"showbackground\":true,\"ticks\":\"\",\"zerolinecolor\":\"white\",\"gridwidth\":2},\"zaxis\":{\"backgroundcolor\":\"#E5ECF6\",\"gridcolor\":\"white\",\"linecolor\":\"white\",\"showbackground\":true,\"ticks\":\"\",\"zerolinecolor\":\"white\",\"gridwidth\":2}},\"shapedefaults\":{\"line\":{\"color\":\"#2a3f5f\"}},\"annotationdefaults\":{\"arrowcolor\":\"#2a3f5f\",\"arrowhead\":0,\"arrowwidth\":1},\"geo\":{\"bgcolor\":\"white\",\"landcolor\":\"#E5ECF6\",\"subunitcolor\":\"white\",\"showland\":true,\"showlakes\":true,\"lakecolor\":\"white\"},\"title\":{\"x\":0.05},\"mapbox\":{\"style\":\"light\"}}},\"xaxis\":{\"anchor\":\"y\",\"domain\":[0.0,1.0],\"scaleanchor\":\"y\",\"constrain\":\"domain\"},\"yaxis\":{\"anchor\":\"x\",\"domain\":[0.0,1.0],\"autorange\":\"reversed\",\"constrain\":\"domain\"},\"coloraxis\":{\"colorscale\":[[0.0,\"rgb(247,251,255)\"],[0.125,\"rgb(222,235,247)\"],[0.25,\"rgb(198,219,239)\"],[0.375,\"rgb(158,202,225)\"],[0.5,\"rgb(107,174,214)\"],[0.625,\"rgb(66,146,198)\"],[0.75,\"rgb(33,113,181)\"],[0.875,\"rgb(8,81,156)\"],[1.0,\"rgb(8,48,107)\"]]},\"margin\":{\"t\":60}},                        {\"responsive\": true}                    ).then(function(){\n                            \nvar gd = document.getElementById('20d583f6-6096-441f-a575-1cbe10e3faa3');\nvar x = new MutationObserver(function (mutations, observer) {{\n        var display = window.getComputedStyle(gd).display;\n        if (!display || display === 'none') {{\n            console.log([gd, 'removed!']);\n            Plotly.purge(gd);\n            observer.disconnect();\n        }}\n}});\n\n// Listen for the removal of the full notebook cells\nvar notebookContainer = gd.closest('#notebook-container');\nif (notebookContainer) {{\n    x.observe(notebookContainer, {childList: true});\n}}\n\n// Listen for the clearing of the current output cell\nvar outputEl = gd.closest('.output');\nif (outputEl) {{\n    x.observe(outputEl, {childList: true});\n}}\n\n                        })                };                            </script>        </div>\n</body>\n</html>"
     },
     "metadata": {},
     "output_type": "display_data"
    }
   ]
  },
  {
   "cell_type": "code",
   "metadata": {
    "cell_id": "2445c7f086bd4dc4adc6c5da103e0fc7",
    "tags": [],
    "deepnote_to_be_reexecuted": false,
    "source_hash": "b623e53d",
    "execution_start": 1653093468300,
    "execution_millis": 17,
    "deepnote_cell_type": "code",
    "deepnote_cell_height": 81
   },
   "source": "",
   "execution_count": 21,
   "outputs": []
  },
  {
   "cell_type": "markdown",
   "source": "## Preparing data for model",
   "metadata": {
    "cell_id": "f24e1b3cc5614d668d77fb79e2b2d8df",
    "tags": [],
    "deepnote_cell_type": "markdown",
    "deepnote_cell_height": 70
   }
  },
  {
   "cell_type": "code",
   "metadata": {
    "cell_id": "66f17fa6956e4d4dbf9133a7af54d041",
    "tags": [],
    "deepnote_to_be_reexecuted": false,
    "source_hash": "869cbbf2",
    "execution_start": 1653097658959,
    "execution_millis": 14,
    "deepnote_cell_type": "code",
    "deepnote_cell_height": 99
   },
   "source": "x = data.drop('LUNG_CANCER', axis = 1).copy()\ny = data.LUNG_CANCER.copy()",
   "execution_count": 132,
   "outputs": []
  },
  {
   "cell_type": "code",
   "metadata": {
    "cell_id": "0c2ad4ba408a419fad96700d52f8d9be",
    "tags": [],
    "deepnote_to_be_reexecuted": false,
    "source_hash": "26c226e8",
    "execution_start": 1653097660318,
    "execution_millis": 8,
    "deepnote_cell_type": "code",
    "deepnote_cell_height": 154,
    "deepnote_output_heights": [
     21
    ]
   },
   "source": "le = LabelEncoder()\ny = le.fit_transform(y)\ny[:10]",
   "execution_count": 133,
   "outputs": [
    {
     "output_type": "execute_result",
     "execution_count": 133,
     "data": {
      "text/plain": "array([1, 1, 0, 0, 0, 1, 1, 1, 0, 1])"
     },
     "metadata": {}
    }
   ]
  },
  {
   "cell_type": "code",
   "metadata": {
    "cell_id": "0c9f487dadd54572b5392c78b959714d",
    "tags": [],
    "deepnote_to_be_reexecuted": false,
    "source_hash": "98c27f13",
    "execution_start": 1653097660370,
    "execution_millis": 16,
    "deepnote_cell_type": "code",
    "deepnote_cell_height": 342,
    "deepnote_output_heights": [
     137
    ]
   },
   "source": "col_trans = make_column_transformer(\n    (OrdinalEncoder(), ['GENDER']),\n    remainder='passthrough'\n)\ncol_trans.fit(x)\nx = col_trans.transform(x)\nx",
   "execution_count": 134,
   "outputs": [
    {
     "output_type": "execute_result",
     "execution_count": 134,
     "data": {
      "text/plain": "array([[ 1., 69.,  1., ...,  2.,  2.,  2.],\n       [ 1., 74.,  2., ...,  2.,  2.,  2.],\n       [ 0., 59.,  1., ...,  2.,  1.,  2.],\n       ...,\n       [ 1., 58.,  2., ...,  1.,  1.,  2.],\n       [ 1., 67.,  2., ...,  2.,  1.,  2.],\n       [ 1., 62.,  1., ...,  1.,  2.,  1.]])"
     },
     "metadata": {}
    }
   ]
  },
  {
   "cell_type": "code",
   "metadata": {
    "cell_id": "6d4cd192a6e045f09726616679c85701",
    "tags": [],
    "deepnote_to_be_reexecuted": false,
    "source_hash": "68999335",
    "execution_start": 1653097663812,
    "execution_millis": 31,
    "deepnote_cell_type": "code",
    "deepnote_cell_height": 268,
    "deepnote_output_heights": [
     117
    ]
   },
   "source": "scal = MinMaxScaler()\nscal.fit(x)\nx = scal.transform(x)\nx[:2]",
   "execution_count": 135,
   "outputs": [
    {
     "output_type": "execute_result",
     "execution_count": 135,
     "data": {
      "text/plain": "array([[1.        , 0.72727273, 0.        , 1.        , 1.        ,\n        0.        , 0.        , 1.        , 0.        , 1.        ,\n        1.        , 1.        , 1.        , 1.        , 1.        ],\n       [1.        , 0.8030303 , 1.        , 0.        , 0.        ,\n        0.        , 1.        , 1.        , 1.        , 0.        ,\n        0.        , 0.        , 1.        , 1.        , 1.        ]])"
     },
     "metadata": {}
    }
   ]
  },
  {
   "cell_type": "code",
   "metadata": {
    "cell_id": "c874c34ca7c4407fa8e7759d987a0802",
    "tags": [],
    "deepnote_to_be_reexecuted": false,
    "source_hash": "fca1fe9b",
    "execution_start": 1653097045830,
    "execution_millis": 27,
    "deepnote_cell_type": "code",
    "deepnote_cell_height": 136,
    "deepnote_output_heights": [
     21
    ]
   },
   "source": "x_train, x_test, y_train, y_test = train_test_split(x, y, test_size=0.2)\nx_train.shape, x_test.shape",
   "execution_count": 116,
   "outputs": [
    {
     "output_type": "execute_result",
     "execution_count": 116,
     "data": {
      "text/plain": "((247, 15), (62, 15))"
     },
     "metadata": {}
    }
   ]
  },
  {
   "cell_type": "markdown",
   "source": "## Train classification model(XGBoost)",
   "metadata": {
    "cell_id": "c9093b58bdd7475a848e8d8b85830e63",
    "tags": [],
    "deepnote_cell_type": "markdown",
    "deepnote_cell_height": 70
   }
  },
  {
   "cell_type": "markdown",
   "source": "What's classification?",
   "metadata": {
    "cell_id": "deac9564b827473fb9dab61e554952ec",
    "tags": [],
    "deepnote_cell_type": "markdown",
    "deepnote_cell_height": 52.390625
   }
  },
  {
   "cell_type": "markdown",
   "source": "Why XGBoost?",
   "metadata": {
    "cell_id": "11d6b395059a44259d95c4c2c0840be8",
    "tags": [],
    "deepnote_cell_type": "markdown",
    "deepnote_cell_height": 52.390625
   }
  },
  {
   "cell_type": "code",
   "metadata": {
    "cell_id": "e64dcf09a662498999ebce4e93c042e3",
    "tags": [],
    "deepnote_to_be_reexecuted": false,
    "source_hash": "f856d759",
    "execution_start": 1653097051379,
    "execution_millis": 32519,
    "deepnote_cell_type": "code",
    "deepnote_cell_height": 309,
    "deepnote_output_heights": [
     194
    ]
   },
   "source": "model = XGBClassifier(learning_rate=0.15,n_estimators=5000,use_label_encoder=False,random_state=40)\nmodel.fit(x_train, y_train)",
   "execution_count": 117,
   "outputs": [
    {
     "output_type": "execute_result",
     "execution_count": 117,
     "data": {
      "text/plain": "XGBClassifier(base_score=0.5, booster='gbtree', callbacks=None,\n              colsample_bylevel=1, colsample_bynode=1, colsample_bytree=1,\n              early_stopping_rounds=None, enable_categorical=False,\n              eval_metric=None, gamma=0, gpu_id=-1, grow_policy='depthwise',\n              importance_type=None, interaction_constraints='',\n              learning_rate=0.15, max_bin=256, max_cat_to_onehot=4,\n              max_delta_step=0, max_depth=6, max_leaves=0, min_child_weight=1,\n              missing=nan, monotone_constraints='()', n_estimators=5000,\n              n_jobs=0, num_parallel_tree=1, predictor='auto', random_state=40,\n              reg_alpha=0, reg_lambda=1, ...)"
     },
     "metadata": {}
    }
   ]
  },
  {
   "cell_type": "code",
   "metadata": {
    "cell_id": "0a52ea177fba451bb81929c03e8a2591",
    "tags": [],
    "deepnote_to_be_reexecuted": false,
    "source_hash": "e5587530",
    "execution_start": 1653097083899,
    "execution_millis": 540,
    "deepnote_cell_type": "code",
    "deepnote_cell_height": 154.1875,
    "deepnote_output_heights": [
     21.1875
    ]
   },
   "source": "y_pred = model.predict(x_test)\nacc = accuracy_score(y_pred, y_test)\nacc",
   "execution_count": 118,
   "outputs": [
    {
     "output_type": "execute_result",
     "execution_count": 118,
     "data": {
      "text/plain": "0.8870967741935484"
     },
     "metadata": {}
    }
   ]
  },
  {
   "cell_type": "code",
   "metadata": {
    "cell_id": "deb8599987a84f228bc04a91fb191ee3",
    "tags": [],
    "deepnote_to_be_reexecuted": false,
    "source_hash": "33035dfd",
    "execution_start": 1653097083903,
    "execution_millis": 545,
    "deepnote_cell_type": "code",
    "deepnote_cell_height": 269.25,
    "deepnote_output_heights": [
     21.1875
    ]
   },
   "source": "print(classification_report(y_pred, y_test))",
   "execution_count": 119,
   "outputs": [
    {
     "name": "stdout",
     "text": "              precision    recall  f1-score   support\n\n           0       0.50      0.29      0.36         7\n           1       0.91      0.96      0.94        55\n\n    accuracy                           0.89        62\n   macro avg       0.71      0.62      0.65        62\nweighted avg       0.87      0.89      0.87        62\n\n",
     "output_type": "stream"
    }
   ]
  },
  {
   "cell_type": "code",
   "metadata": {
    "cell_id": "3873d74c38644a1eac29063a4406ea11",
    "tags": [],
    "deepnote_cell_type": "code",
    "deepnote_cell_height": 66
   },
   "source": "# cross_val_score(pipeline, X, y, cv = 5, scoring = 'accuracy')",
   "execution_count": null,
   "outputs": []
  },
  {
   "cell_type": "markdown",
   "source": "## Make pipeline and save",
   "metadata": {
    "cell_id": "0c34a114ad3d494d995c0f5d7e1efac8",
    "tags": [],
    "deepnote_cell_type": "markdown",
    "deepnote_cell_height": 70
   }
  },
  {
   "cell_type": "code",
   "metadata": {
    "cell_id": "493df7490348401d924e104e6f2a1d75",
    "tags": [],
    "deepnote_to_be_reexecuted": false,
    "source_hash": "f49c8ca",
    "execution_start": 1653097678267,
    "execution_millis": 31,
    "deepnote_cell_type": "code",
    "deepnote_cell_height": 81,
    "deepnote_output_heights": [
     232.34375
    ]
   },
   "source": "pipeline = make_pipeline(col_trans, scal, model)",
   "execution_count": 136,
   "outputs": []
  },
  {
   "cell_type": "code",
   "metadata": {
    "cell_id": "906ef713e4564304a428582e7f2f2fc1",
    "tags": [],
    "deepnote_to_be_reexecuted": false,
    "source_hash": "d41f4a31",
    "execution_start": 1653097679493,
    "execution_millis": 90,
    "deepnote_cell_type": "code",
    "deepnote_cell_height": 136.1875,
    "deepnote_output_heights": [
     21.1875
    ]
   },
   "source": "\npipeline.predict(data.iloc[[0],:-1])",
   "execution_count": 137,
   "outputs": [
    {
     "output_type": "execute_result",
     "execution_count": 137,
     "data": {
      "text/plain": "array([1])"
     },
     "metadata": {}
    }
   ]
  },
  {
   "cell_type": "code",
   "metadata": {
    "cell_id": "338665f73a4844ae982e613f986a3d47",
    "tags": [],
    "deepnote_to_be_reexecuted": false,
    "source_hash": "6da16b1b",
    "execution_start": 1653098336757,
    "execution_millis": 257,
    "deepnote_cell_type": "code",
    "deepnote_cell_height": 118.1875,
    "deepnote_output_heights": [
     21.1875
    ]
   },
   "source": "joblib.dump(pipeline, 'pipeline.pkl')",
   "execution_count": 139,
   "outputs": [
    {
     "output_type": "execute_result",
     "execution_count": 139,
     "data": {
      "text/plain": "['pipeline.pkl']"
     },
     "metadata": {}
    }
   ]
  },
  {
   "cell_type": "markdown",
   "source": "## Load saved model",
   "metadata": {
    "cell_id": "d5da0e0b44ee443096b1a6a6fc707393",
    "tags": [],
    "deepnote_cell_type": "markdown",
    "deepnote_cell_height": 70
   }
  },
  {
   "cell_type": "code",
   "metadata": {
    "cell_id": "7d6efebaf6a641fa965ad1d126691a8a",
    "tags": [],
    "deepnote_to_be_reexecuted": false,
    "source_hash": "22adc3f8",
    "execution_start": 1653098413099,
    "execution_millis": 267,
    "deepnote_cell_type": "code",
    "deepnote_cell_height": 81
   },
   "source": "pipeline = joblib.load('pipeline.pkl')",
   "execution_count": 140,
   "outputs": []
  },
  {
   "cell_type": "code",
   "metadata": {
    "cell_id": "fe75e3d3f8ca44e2b6a08b0310438e9b",
    "tags": [],
    "deepnote_to_be_reexecuted": false,
    "source_hash": "57629804",
    "execution_start": 1653098426964,
    "execution_millis": 98,
    "deepnote_cell_type": "code",
    "deepnote_cell_height": 118.1875,
    "deepnote_output_heights": [
     21.1875
    ]
   },
   "source": "pipeline.predict(data.iloc[[8],:-1])",
   "execution_count": 141,
   "outputs": [
    {
     "output_type": "execute_result",
     "execution_count": 141,
     "data": {
      "text/plain": "array([0])"
     },
     "metadata": {}
    }
   ]
  },
  {
   "cell_type": "code",
   "metadata": {
    "cell_id": "7851ee57efa4468294e3bc0d49fa080f",
    "tags": [],
    "deepnote_cell_type": "code",
    "deepnote_cell_height": 66
   },
   "source": "",
   "execution_count": null,
   "outputs": []
  },
  {
   "cell_type": "code",
   "metadata": {
    "cell_id": "2e153b6ce2ca44d68eccecd7f9b2cd27",
    "tags": [],
    "deepnote_to_be_reexecuted": false,
    "source_hash": "b623e53d",
    "execution_start": 1653098435190,
    "execution_millis": 20,
    "deepnote_cell_type": "code",
    "deepnote_cell_height": 81,
    "deepnote_output_heights": [
     611
    ]
   },
   "source": "",
   "execution_count": 141,
   "outputs": []
  },
  {
   "cell_type": "markdown",
   "source": "## Balancing data",
   "metadata": {
    "cell_id": "d065b9d1e4434e1e935af4408259644d",
    "tags": [],
    "deepnote_cell_type": "markdown",
    "deepnote_cell_height": 70
   }
  },
  {
   "cell_type": "code",
   "metadata": {
    "cell_id": "04932b1b033d42f581067ced86da63b1",
    "tags": [],
    "deepnote_to_be_reexecuted": true,
    "source_hash": "64afbd42",
    "execution_start": 1652916388629,
    "execution_millis": 12,
    "owner_user_id": "f980b683-a8ec-434c-bd24-5ac038c8991a",
    "deepnote_cell_type": "code",
    "deepnote_cell_height": 156.578125,
    "deepnote_output_heights": [
     59.578125
    ]
   },
   "source": "data.LUNG_CANCER.value_counts(normalize=True)",
   "execution_count": null,
   "outputs": [
    {
     "output_type": "execute_result",
     "execution_count": 22,
     "data": {
      "text/plain": "YES    0.873786\nNO     0.126214\nName: LUNG_CANCER, dtype: float64"
     },
     "metadata": {}
    }
   ]
  },
  {
   "cell_type": "markdown",
   "source": "Approximately 87% of data related to people with cancer. It's important to have a balanced dataset for a classification model. The more balanced our data is, the higher accuracy we will have.",
   "metadata": {
    "cell_id": "7023de7060354d30b134cb2fb34a0992",
    "tags": [],
    "deepnote_cell_type": "markdown",
    "deepnote_cell_height": 74.796875
   }
  },
  {
   "cell_type": "code",
   "metadata": {
    "cell_id": "d5a6e4689b03431ba8a56709a762519a",
    "tags": [],
    "deepnote_to_be_reexecuted": true,
    "source_hash": "26ee8b4f",
    "execution_start": 1652916388646,
    "execution_millis": 21,
    "deepnote_cell_type": "code",
    "deepnote_cell_height": 154.1875,
    "deepnote_output_heights": [
     21.1875
    ]
   },
   "source": "over_samp =  RandomOverSampler(random_state=0)\nX_train_res, y_train_res = over_samp.fit_resample(X, y)\nX_train_res.shape, y_train_res.shape",
   "execution_count": null,
   "outputs": [
    {
     "output_type": "execute_result",
     "execution_count": 23,
     "data": {
      "text/plain": "((540, 15), (540,))"
     },
     "metadata": {}
    }
   ]
  },
  {
   "cell_type": "markdown",
   "source": "<a style='text-decoration:none;line-height:16px;display:flex;color:#5B5B62;padding:10px;justify-content:end;' href='https://deepnote.com?utm_source=created-in-deepnote-cell&projectId=384d556c-b984-4c44-9dc9-1c93f0f480b6' target=\"_blank\">\n<img alt='Created in deepnote.com' style='display:inline;max-height:16px;margin:0px;margin-right:7.5px;' src='data:image/svg+xml;base64,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' > </img>\nCreated in <span style='font-weight:600;margin-left:4px;'>Deepnote</span></a>",
   "metadata": {
    "tags": [],
    "created_in_deepnote_cell": true,
    "deepnote_cell_type": "markdown"
   }
  }
 ],
 "nbformat": 4,
 "nbformat_minor": 2,
 "metadata": {
  "orig_nbformat": 2,
  "deepnote": {},
  "deepnote_notebook_id": "83d0f6d0-0501-4e80-a2d0-a3ea8256bc3a",
  "deepnote_execution_queue": []
 }
}